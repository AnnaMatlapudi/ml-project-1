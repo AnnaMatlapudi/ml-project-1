{
  "cells": [
    {
      "cell_type": "markdown",
      "metadata": {
        "id": "view-in-github",
        "colab_type": "text"
      },
      "source": [
        "<a href=\"https://colab.research.google.com/github/AnnaMatlapudi/ml-project-1/blob/main/MoviesOnStreamingPlatform.ipynb\" target=\"_parent\"><img src=\"https://colab.research.google.com/assets/colab-badge.svg\" alt=\"Open In Colab\"/></a>"
      ]
    },
    {
      "cell_type": "markdown",
      "id": "324e7d89-81f7-4563-86ec-61bfea8cbdf7",
      "metadata": {
        "id": "324e7d89-81f7-4563-86ec-61bfea8cbdf7"
      },
      "source": [
        "https://www.kaggle.com/code/ruchi798/movies-and-tv-shows-eda/data?select=MoviesOnStreamingPlatforms_updated.csv"
      ]
    },
    {
      "cell_type": "code",
      "execution_count": null,
      "id": "70b22598-6ba6-44b5-846d-2b14dbe0da07",
      "metadata": {
        "id": "70b22598-6ba6-44b5-846d-2b14dbe0da07"
      },
      "outputs": [],
      "source": []
    },
    {
      "cell_type": "code",
      "execution_count": null,
      "id": "2d25482f-5180-4e9d-9324-8672de03552a",
      "metadata": {
        "id": "2d25482f-5180-4e9d-9324-8672de03552a"
      },
      "outputs": [],
      "source": [
        "#import the libraries\n",
        "import pandas as pd\n",
        "import numpy as np\n",
        "import matplotlib.pyplot as plt\n",
        "%matplotlib inline\n",
        "import seaborn as sns"
      ]
    },
    {
      "cell_type": "code",
      "execution_count": null,
      "id": "91849d74-cb01-40f9-af0a-7923d7517c80",
      "metadata": {
        "id": "91849d74-cb01-40f9-af0a-7923d7517c80"
      },
      "outputs": [],
      "source": [
        "#import the dataset\n",
        "df = pd.read_csv('MoviesOnStreamingPlatforms_updated.csv')"
      ]
    },
    {
      "cell_type": "code",
      "execution_count": null,
      "id": "99be5e9e-5604-4105-8058-7b6dce7d4099",
      "metadata": {
        "id": "99be5e9e-5604-4105-8058-7b6dce7d4099",
        "outputId": "48b36774-1abf-43b2-940f-6f88916b04f7"
      },
      "outputs": [
        {
          "data": {
            "text/html": [
              "<div>\n",
              "<style scoped>\n",
              "    .dataframe tbody tr th:only-of-type {\n",
              "        vertical-align: middle;\n",
              "    }\n",
              "\n",
              "    .dataframe tbody tr th {\n",
              "        vertical-align: top;\n",
              "    }\n",
              "\n",
              "    .dataframe thead th {\n",
              "        text-align: right;\n",
              "    }\n",
              "</style>\n",
              "<table border=\"1\" class=\"dataframe\">\n",
              "  <thead>\n",
              "    <tr style=\"text-align: right;\">\n",
              "      <th></th>\n",
              "      <th>Unnamed: 0</th>\n",
              "      <th>ID</th>\n",
              "      <th>Title</th>\n",
              "      <th>Year</th>\n",
              "      <th>Age</th>\n",
              "      <th>IMDb</th>\n",
              "      <th>Rotten Tomatoes</th>\n",
              "      <th>Netflix</th>\n",
              "      <th>Hulu</th>\n",
              "      <th>Prime Video</th>\n",
              "      <th>Disney+</th>\n",
              "      <th>Type</th>\n",
              "      <th>Directors</th>\n",
              "      <th>Genres</th>\n",
              "      <th>Country</th>\n",
              "      <th>Language</th>\n",
              "      <th>Runtime</th>\n",
              "    </tr>\n",
              "  </thead>\n",
              "  <tbody>\n",
              "    <tr>\n",
              "      <th>0</th>\n",
              "      <td>0</td>\n",
              "      <td>1</td>\n",
              "      <td>The Irishman</td>\n",
              "      <td>2019</td>\n",
              "      <td>18+</td>\n",
              "      <td>7.8/10</td>\n",
              "      <td>98/100</td>\n",
              "      <td>1</td>\n",
              "      <td>0</td>\n",
              "      <td>0</td>\n",
              "      <td>0</td>\n",
              "      <td>0</td>\n",
              "      <td>Martin Scorsese</td>\n",
              "      <td>Biography,Crime,Drama</td>\n",
              "      <td>United States</td>\n",
              "      <td>English,Italian,Latin,Spanish,German</td>\n",
              "      <td>209.0</td>\n",
              "    </tr>\n",
              "    <tr>\n",
              "      <th>1</th>\n",
              "      <td>1</td>\n",
              "      <td>2</td>\n",
              "      <td>Dangal</td>\n",
              "      <td>2016</td>\n",
              "      <td>7+</td>\n",
              "      <td>8.4/10</td>\n",
              "      <td>97/100</td>\n",
              "      <td>1</td>\n",
              "      <td>0</td>\n",
              "      <td>0</td>\n",
              "      <td>0</td>\n",
              "      <td>0</td>\n",
              "      <td>Nitesh Tiwari</td>\n",
              "      <td>Action,Biography,Drama,Sport</td>\n",
              "      <td>India,United States,United Kingdom,Australia,K...</td>\n",
              "      <td>Hindi,English</td>\n",
              "      <td>161.0</td>\n",
              "    </tr>\n",
              "    <tr>\n",
              "      <th>2</th>\n",
              "      <td>2</td>\n",
              "      <td>3</td>\n",
              "      <td>David Attenborough: A Life on Our Planet</td>\n",
              "      <td>2020</td>\n",
              "      <td>7+</td>\n",
              "      <td>9.0/10</td>\n",
              "      <td>95/100</td>\n",
              "      <td>1</td>\n",
              "      <td>0</td>\n",
              "      <td>0</td>\n",
              "      <td>0</td>\n",
              "      <td>0</td>\n",
              "      <td>Alastair Fothergill,Jonathan Hughes,Keith Scholey</td>\n",
              "      <td>Documentary,Biography</td>\n",
              "      <td>United Kingdom</td>\n",
              "      <td>English</td>\n",
              "      <td>83.0</td>\n",
              "    </tr>\n",
              "    <tr>\n",
              "      <th>3</th>\n",
              "      <td>3</td>\n",
              "      <td>4</td>\n",
              "      <td>Lagaan: Once Upon a Time in India</td>\n",
              "      <td>2001</td>\n",
              "      <td>7+</td>\n",
              "      <td>8.1/10</td>\n",
              "      <td>94/100</td>\n",
              "      <td>1</td>\n",
              "      <td>0</td>\n",
              "      <td>0</td>\n",
              "      <td>0</td>\n",
              "      <td>0</td>\n",
              "      <td>Ashutosh Gowariker</td>\n",
              "      <td>Drama,Musical,Sport</td>\n",
              "      <td>India,United Kingdom</td>\n",
              "      <td>Hindi,English</td>\n",
              "      <td>224.0</td>\n",
              "    </tr>\n",
              "    <tr>\n",
              "      <th>4</th>\n",
              "      <td>4</td>\n",
              "      <td>5</td>\n",
              "      <td>Roma</td>\n",
              "      <td>2018</td>\n",
              "      <td>18+</td>\n",
              "      <td>7.7/10</td>\n",
              "      <td>94/100</td>\n",
              "      <td>1</td>\n",
              "      <td>0</td>\n",
              "      <td>0</td>\n",
              "      <td>0</td>\n",
              "      <td>0</td>\n",
              "      <td>NaN</td>\n",
              "      <td>Action,Drama,History,Romance,War</td>\n",
              "      <td>United Kingdom,United States</td>\n",
              "      <td>English</td>\n",
              "      <td>52.0</td>\n",
              "    </tr>\n",
              "  </tbody>\n",
              "</table>\n",
              "</div>"
            ],
            "text/plain": [
              "   Unnamed: 0  ID                                     Title  Year  Age  \\\n",
              "0           0   1                              The Irishman  2019  18+   \n",
              "1           1   2                                    Dangal  2016   7+   \n",
              "2           2   3  David Attenborough: A Life on Our Planet  2020   7+   \n",
              "3           3   4         Lagaan: Once Upon a Time in India  2001   7+   \n",
              "4           4   5                                      Roma  2018  18+   \n",
              "\n",
              "     IMDb Rotten Tomatoes  Netflix  Hulu  Prime Video  Disney+  Type  \\\n",
              "0  7.8/10          98/100        1     0            0        0     0   \n",
              "1  8.4/10          97/100        1     0            0        0     0   \n",
              "2  9.0/10          95/100        1     0            0        0     0   \n",
              "3  8.1/10          94/100        1     0            0        0     0   \n",
              "4  7.7/10          94/100        1     0            0        0     0   \n",
              "\n",
              "                                           Directors  \\\n",
              "0                                    Martin Scorsese   \n",
              "1                                      Nitesh Tiwari   \n",
              "2  Alastair Fothergill,Jonathan Hughes,Keith Scholey   \n",
              "3                                 Ashutosh Gowariker   \n",
              "4                                                NaN   \n",
              "\n",
              "                             Genres  \\\n",
              "0             Biography,Crime,Drama   \n",
              "1      Action,Biography,Drama,Sport   \n",
              "2             Documentary,Biography   \n",
              "3               Drama,Musical,Sport   \n",
              "4  Action,Drama,History,Romance,War   \n",
              "\n",
              "                                             Country  \\\n",
              "0                                      United States   \n",
              "1  India,United States,United Kingdom,Australia,K...   \n",
              "2                                     United Kingdom   \n",
              "3                               India,United Kingdom   \n",
              "4                       United Kingdom,United States   \n",
              "\n",
              "                               Language  Runtime  \n",
              "0  English,Italian,Latin,Spanish,German    209.0  \n",
              "1                         Hindi,English    161.0  \n",
              "2                               English     83.0  \n",
              "3                         Hindi,English    224.0  \n",
              "4                               English     52.0  "
            ]
          },
          "execution_count": 78,
          "metadata": {},
          "output_type": "execute_result"
        }
      ],
      "source": [
        "df.copy().head()"
      ]
    },
    {
      "cell_type": "code",
      "execution_count": null,
      "id": "72060477-da12-4130-8fed-1e66c5d1160b",
      "metadata": {
        "id": "72060477-da12-4130-8fed-1e66c5d1160b"
      },
      "outputs": [],
      "source": [
        "#drop unnecessary Unnamed column\n",
        "df = df.drop(['Unnamed: 0','Type'],axis =1)"
      ]
    },
    {
      "cell_type": "code",
      "execution_count": null,
      "id": "bf6e64d5-d6e9-4049-bc52-91f43890cae8",
      "metadata": {
        "id": "bf6e64d5-d6e9-4049-bc52-91f43890cae8"
      },
      "outputs": [],
      "source": [
        "#Display first five rows of dataset and rename a column\n",
        "df.rename(columns = {'Rotten Tomatoes':'Rotten_Tomatoes' },inplace =True)"
      ]
    },
    {
      "cell_type": "code",
      "execution_count": null,
      "id": "29a28838-12b4-4358-8411-e7234769cba0",
      "metadata": {
        "id": "29a28838-12b4-4358-8411-e7234769cba0",
        "outputId": "f9c27c4f-9933-4c31-9fd3-42088ccfa8aa"
      },
      "outputs": [
        {
          "data": {
            "text/plain": [
              "ID                   int64\n",
              "Title               object\n",
              "Year                 int64\n",
              "Age                 object\n",
              "IMDb                object\n",
              "Rotten_Tomatoes     object\n",
              "Netflix              int64\n",
              "Hulu                 int64\n",
              "Prime Video          int64\n",
              "Disney+              int64\n",
              "Directors           object\n",
              "Genres              object\n",
              "Country             object\n",
              "Language            object\n",
              "Runtime            float64\n",
              "dtype: object"
            ]
          },
          "execution_count": 81,
          "metadata": {},
          "output_type": "execute_result"
        }
      ],
      "source": [
        "df.dtypes"
      ]
    },
    {
      "cell_type": "code",
      "execution_count": null,
      "id": "637405c0-7b65-4c7a-a008-99494a0e888a",
      "metadata": {
        "id": "637405c0-7b65-4c7a-a008-99494a0e888a",
        "outputId": "29d11e78-686d-4203-cee5-9778643de7eb"
      },
      "outputs": [
        {
          "data": {
            "text/plain": [
              "(9515, 15)"
            ]
          },
          "execution_count": 82,
          "metadata": {},
          "output_type": "execute_result"
        }
      ],
      "source": [
        "#Display structure of the dataset\n",
        "df.shape"
      ]
    },
    {
      "cell_type": "code",
      "execution_count": null,
      "id": "d45ad008-434b-40b4-8ad3-e02b5547666f",
      "metadata": {
        "id": "d45ad008-434b-40b4-8ad3-e02b5547666f",
        "outputId": "d8718daa-c0d3-43ad-aa8f-ee99912f4c19"
      },
      "outputs": [
        {
          "name": "stdout",
          "output_type": "stream",
          "text": [
            "<class 'pandas.core.frame.DataFrame'>\n",
            "RangeIndex: 9515 entries, 0 to 9514\n",
            "Data columns (total 15 columns):\n",
            " #   Column           Non-Null Count  Dtype  \n",
            "---  ------           --------------  -----  \n",
            " 0   ID               9515 non-null   int64  \n",
            " 1   Title            9515 non-null   object \n",
            " 2   Year             9515 non-null   int64  \n",
            " 3   Age              5338 non-null   object \n",
            " 4   IMDb             9309 non-null   object \n",
            " 5   Rotten_Tomatoes  9508 non-null   object \n",
            " 6   Netflix          9515 non-null   int64  \n",
            " 7   Hulu             9515 non-null   int64  \n",
            " 8   Prime Video      9515 non-null   int64  \n",
            " 9   Disney+          9515 non-null   int64  \n",
            " 10  Directors        9104 non-null   object \n",
            " 11  Genres           9399 non-null   object \n",
            " 12  Country          9261 non-null   object \n",
            " 13  Language         9202 non-null   object \n",
            " 14  Runtime          9196 non-null   float64\n",
            "dtypes: float64(1), int64(6), object(8)\n",
            "memory usage: 1.1+ MB\n"
          ]
        }
      ],
      "source": [
        "#Display info \n",
        "df.info()"
      ]
    },
    {
      "cell_type": "code",
      "execution_count": null,
      "id": "bc375686-7b15-4321-8454-02e6d1d2418a",
      "metadata": {
        "id": "bc375686-7b15-4321-8454-02e6d1d2418a",
        "outputId": "e05e40e8-e3c2-4938-8e92-4db994b5adf8"
      },
      "outputs": [
        {
          "data": {
            "text/html": [
              "<div>\n",
              "<style scoped>\n",
              "    .dataframe tbody tr th:only-of-type {\n",
              "        vertical-align: middle;\n",
              "    }\n",
              "\n",
              "    .dataframe tbody tr th {\n",
              "        vertical-align: top;\n",
              "    }\n",
              "\n",
              "    .dataframe thead th {\n",
              "        text-align: right;\n",
              "    }\n",
              "</style>\n",
              "<table border=\"1\" class=\"dataframe\">\n",
              "  <thead>\n",
              "    <tr style=\"text-align: right;\">\n",
              "      <th></th>\n",
              "      <th>ID</th>\n",
              "      <th>Year</th>\n",
              "      <th>Netflix</th>\n",
              "      <th>Hulu</th>\n",
              "      <th>Prime Video</th>\n",
              "      <th>Disney+</th>\n",
              "      <th>Runtime</th>\n",
              "    </tr>\n",
              "  </thead>\n",
              "  <tbody>\n",
              "    <tr>\n",
              "      <th>count</th>\n",
              "      <td>9515.000000</td>\n",
              "      <td>9515.000000</td>\n",
              "      <td>9515.000000</td>\n",
              "      <td>9515.000000</td>\n",
              "      <td>9515.000000</td>\n",
              "      <td>9515.000000</td>\n",
              "      <td>9196.000000</td>\n",
              "    </tr>\n",
              "    <tr>\n",
              "      <th>mean</th>\n",
              "      <td>4758.000000</td>\n",
              "      <td>2007.422386</td>\n",
              "      <td>0.388334</td>\n",
              "      <td>0.110037</td>\n",
              "      <td>0.432265</td>\n",
              "      <td>0.096900</td>\n",
              "      <td>95.199435</td>\n",
              "    </tr>\n",
              "    <tr>\n",
              "      <th>std</th>\n",
              "      <td>2746.888239</td>\n",
              "      <td>19.130367</td>\n",
              "      <td>0.487397</td>\n",
              "      <td>0.312952</td>\n",
              "      <td>0.495417</td>\n",
              "      <td>0.295837</td>\n",
              "      <td>29.654047</td>\n",
              "    </tr>\n",
              "    <tr>\n",
              "      <th>min</th>\n",
              "      <td>1.000000</td>\n",
              "      <td>1914.000000</td>\n",
              "      <td>0.000000</td>\n",
              "      <td>0.000000</td>\n",
              "      <td>0.000000</td>\n",
              "      <td>0.000000</td>\n",
              "      <td>1.000000</td>\n",
              "    </tr>\n",
              "    <tr>\n",
              "      <th>25%</th>\n",
              "      <td>2379.500000</td>\n",
              "      <td>2006.000000</td>\n",
              "      <td>0.000000</td>\n",
              "      <td>0.000000</td>\n",
              "      <td>0.000000</td>\n",
              "      <td>0.000000</td>\n",
              "      <td>85.000000</td>\n",
              "    </tr>\n",
              "    <tr>\n",
              "      <th>50%</th>\n",
              "      <td>4758.000000</td>\n",
              "      <td>2015.000000</td>\n",
              "      <td>0.000000</td>\n",
              "      <td>0.000000</td>\n",
              "      <td>0.000000</td>\n",
              "      <td>0.000000</td>\n",
              "      <td>95.000000</td>\n",
              "    </tr>\n",
              "    <tr>\n",
              "      <th>75%</th>\n",
              "      <td>7136.500000</td>\n",
              "      <td>2018.000000</td>\n",
              "      <td>1.000000</td>\n",
              "      <td>0.000000</td>\n",
              "      <td>1.000000</td>\n",
              "      <td>0.000000</td>\n",
              "      <td>109.000000</td>\n",
              "    </tr>\n",
              "    <tr>\n",
              "      <th>max</th>\n",
              "      <td>9515.000000</td>\n",
              "      <td>2021.000000</td>\n",
              "      <td>1.000000</td>\n",
              "      <td>1.000000</td>\n",
              "      <td>1.000000</td>\n",
              "      <td>1.000000</td>\n",
              "      <td>566.000000</td>\n",
              "    </tr>\n",
              "  </tbody>\n",
              "</table>\n",
              "</div>"
            ],
            "text/plain": [
              "                ID         Year      Netflix         Hulu  Prime Video  \\\n",
              "count  9515.000000  9515.000000  9515.000000  9515.000000  9515.000000   \n",
              "mean   4758.000000  2007.422386     0.388334     0.110037     0.432265   \n",
              "std    2746.888239    19.130367     0.487397     0.312952     0.495417   \n",
              "min       1.000000  1914.000000     0.000000     0.000000     0.000000   \n",
              "25%    2379.500000  2006.000000     0.000000     0.000000     0.000000   \n",
              "50%    4758.000000  2015.000000     0.000000     0.000000     0.000000   \n",
              "75%    7136.500000  2018.000000     1.000000     0.000000     1.000000   \n",
              "max    9515.000000  2021.000000     1.000000     1.000000     1.000000   \n",
              "\n",
              "           Disney+      Runtime  \n",
              "count  9515.000000  9196.000000  \n",
              "mean      0.096900    95.199435  \n",
              "std       0.295837    29.654047  \n",
              "min       0.000000     1.000000  \n",
              "25%       0.000000    85.000000  \n",
              "50%       0.000000    95.000000  \n",
              "75%       0.000000   109.000000  \n",
              "max       1.000000   566.000000  "
            ]
          },
          "execution_count": 84,
          "metadata": {},
          "output_type": "execute_result"
        }
      ],
      "source": [
        "#Summary statistics of all columns\n",
        "df.describe()"
      ]
    },
    {
      "cell_type": "code",
      "execution_count": null,
      "id": "e539a3a7-0738-4096-bc17-6667841d5089",
      "metadata": {
        "id": "e539a3a7-0738-4096-bc17-6667841d5089",
        "outputId": "96cde493-fd5f-4c35-9b30-cc221682d33c"
      },
      "outputs": [
        {
          "data": {
            "text/plain": [
              "ID                    0\n",
              "Title                 0\n",
              "Year                  0\n",
              "Age                4177\n",
              "IMDb                206\n",
              "Rotten_Tomatoes       7\n",
              "Netflix               0\n",
              "Hulu                  0\n",
              "Prime Video           0\n",
              "Disney+               0\n",
              "Directors           411\n",
              "Genres              116\n",
              "Country             254\n",
              "Language            313\n",
              "Runtime             319\n",
              "dtype: int64"
            ]
          },
          "execution_count": 85,
          "metadata": {},
          "output_type": "execute_result"
        }
      ],
      "source": [
        "#View null values\n",
        "df.isnull().sum()"
      ]
    },
    {
      "cell_type": "code",
      "execution_count": null,
      "id": "4193ec03-1c77-4310-831b-5dab61707324",
      "metadata": {
        "id": "4193ec03-1c77-4310-831b-5dab61707324"
      },
      "outputs": [],
      "source": [
        "#Create new variable without N/A values\n",
        "df = df.dropna(how ='any')\n",
        "#df.shape"
      ]
    },
    {
      "cell_type": "code",
      "execution_count": null,
      "id": "c654e886-a866-4135-8367-56affb0b69fd",
      "metadata": {
        "id": "c654e886-a866-4135-8367-56affb0b69fd",
        "outputId": "02b77ee2-7c48-47e1-f812-ccc241c1c79a"
      },
      "outputs": [
        {
          "data": {
            "text/plain": [
              "ID                 0\n",
              "Title              0\n",
              "Year               0\n",
              "Age                0\n",
              "IMDb               0\n",
              "Rotten_Tomatoes    0\n",
              "Netflix            0\n",
              "Hulu               0\n",
              "Prime Video        0\n",
              "Disney+            0\n",
              "Directors          0\n",
              "Genres             0\n",
              "Country            0\n",
              "Language           0\n",
              "Runtime            0\n",
              "dtype: int64"
            ]
          },
          "execution_count": 87,
          "metadata": {},
          "output_type": "execute_result"
        }
      ],
      "source": [
        "df.isnull().sum()"
      ]
    },
    {
      "cell_type": "code",
      "execution_count": null,
      "id": "e8abdbb0-bb24-4136-8a81-c1573976527f",
      "metadata": {
        "id": "e8abdbb0-bb24-4136-8a81-c1573976527f"
      },
      "outputs": [],
      "source": [
        "#Converting the column and removing division by 100 \n",
        "df.loc[:,'Rotten_Tomatoes'] = df['Rotten_Tomatoes'].map('{:.2}'.format)"
      ]
    },
    {
      "cell_type": "code",
      "execution_count": null,
      "id": "f586cd87-900a-470e-9d74-151ddd602837",
      "metadata": {
        "id": "f586cd87-900a-470e-9d74-151ddd602837"
      },
      "outputs": [],
      "source": [
        "df['Rotten_Tomatoes']= pd.to_numeric(df['Rotten_Tomatoes'],errors ='raise')"
      ]
    },
    {
      "cell_type": "code",
      "execution_count": null,
      "id": "8098bd45-0f6f-46bf-b945-6810faf83571",
      "metadata": {
        "id": "8098bd45-0f6f-46bf-b945-6810faf83571",
        "outputId": "c8244e31-1eca-4692-d49c-395dd05f9359"
      },
      "outputs": [
        {
          "data": {
            "text/plain": [
              "dtype('int64')"
            ]
          },
          "execution_count": 90,
          "metadata": {},
          "output_type": "execute_result"
        }
      ],
      "source": [
        "df['Rotten_Tomatoes'].dtypes"
      ]
    },
    {
      "cell_type": "code",
      "execution_count": null,
      "id": "0711dc75-0370-45b6-b44f-4ebe91b28c0b",
      "metadata": {
        "id": "0711dc75-0370-45b6-b44f-4ebe91b28c0b"
      },
      "outputs": [],
      "source": [
        "#converting the column\n",
        "df.loc[:, 'IMDb'] = df['IMDb'].map('{:.2}'.format)"
      ]
    },
    {
      "cell_type": "code",
      "execution_count": null,
      "id": "5a65d1dc-0bb1-4796-b933-23f89d17f640",
      "metadata": {
        "id": "5a65d1dc-0bb1-4796-b933-23f89d17f640"
      },
      "outputs": [],
      "source": [
        "#Covert object IMDb to float datatype\n",
        "df['IMDb'] = pd.to_numeric(df['IMDb'],errors = 'coerce')"
      ]
    },
    {
      "cell_type": "code",
      "execution_count": null,
      "id": "36d8b130-417f-4b12-817e-d54ad1f5d5fd",
      "metadata": {
        "id": "36d8b130-417f-4b12-817e-d54ad1f5d5fd"
      },
      "outputs": [],
      "source": [
        "#Can also use astype to convert a object into float datatype\n",
        "#df['IMDb'] = df['IMDb'].astype(float, errors = 'raise')"
      ]
    },
    {
      "cell_type": "code",
      "execution_count": null,
      "id": "7ade514d-f8fb-4ae3-98d6-305679d38abc",
      "metadata": {
        "id": "7ade514d-f8fb-4ae3-98d6-305679d38abc",
        "outputId": "2e1a30a7-42bc-4f87-d9a2-72941b761305"
      },
      "outputs": [
        {
          "data": {
            "text/plain": [
              "dtype('float64')"
            ]
          },
          "execution_count": 93,
          "metadata": {},
          "output_type": "execute_result"
        }
      ],
      "source": [
        "df.IMDb.dtype"
      ]
    },
    {
      "cell_type": "code",
      "execution_count": null,
      "id": "9b9b73bd-7165-4058-b66f-d3ad3cbd2d3f",
      "metadata": {
        "id": "9b9b73bd-7165-4058-b66f-d3ad3cbd2d3f",
        "outputId": "f476521f-856a-48ca-9f2f-59f1b15779f1"
      },
      "outputs": [
        {
          "data": {
            "text/html": [
              "<div>\n",
              "<style scoped>\n",
              "    .dataframe tbody tr th:only-of-type {\n",
              "        vertical-align: middle;\n",
              "    }\n",
              "\n",
              "    .dataframe tbody tr th {\n",
              "        vertical-align: top;\n",
              "    }\n",
              "\n",
              "    .dataframe thead th {\n",
              "        text-align: right;\n",
              "    }\n",
              "</style>\n",
              "<table border=\"1\" class=\"dataframe\">\n",
              "  <thead>\n",
              "    <tr style=\"text-align: right;\">\n",
              "      <th></th>\n",
              "      <th>ID</th>\n",
              "      <th>Title</th>\n",
              "      <th>Year</th>\n",
              "      <th>Age</th>\n",
              "      <th>IMDb</th>\n",
              "      <th>Rotten_Tomatoes</th>\n",
              "      <th>Netflix</th>\n",
              "      <th>Hulu</th>\n",
              "      <th>Prime Video</th>\n",
              "      <th>Disney+</th>\n",
              "      <th>Directors</th>\n",
              "      <th>Genres</th>\n",
              "      <th>Country</th>\n",
              "      <th>Language</th>\n",
              "      <th>Runtime</th>\n",
              "    </tr>\n",
              "  </thead>\n",
              "  <tbody>\n",
              "    <tr>\n",
              "      <th>0</th>\n",
              "      <td>1</td>\n",
              "      <td>The Irishman</td>\n",
              "      <td>2019</td>\n",
              "      <td>18+</td>\n",
              "      <td>7.0</td>\n",
              "      <td>98</td>\n",
              "      <td>1</td>\n",
              "      <td>0</td>\n",
              "      <td>0</td>\n",
              "      <td>0</td>\n",
              "      <td>Martin Scorsese</td>\n",
              "      <td>Biography,Crime,Drama</td>\n",
              "      <td>United States</td>\n",
              "      <td>English,Italian,Latin,Spanish,German</td>\n",
              "      <td>209.0</td>\n",
              "    </tr>\n",
              "    <tr>\n",
              "      <th>1</th>\n",
              "      <td>2</td>\n",
              "      <td>Dangal</td>\n",
              "      <td>2016</td>\n",
              "      <td>7+</td>\n",
              "      <td>8.0</td>\n",
              "      <td>97</td>\n",
              "      <td>1</td>\n",
              "      <td>0</td>\n",
              "      <td>0</td>\n",
              "      <td>0</td>\n",
              "      <td>Nitesh Tiwari</td>\n",
              "      <td>Action,Biography,Drama,Sport</td>\n",
              "      <td>India,United States,United Kingdom,Australia,K...</td>\n",
              "      <td>Hindi,English</td>\n",
              "      <td>161.0</td>\n",
              "    </tr>\n",
              "    <tr>\n",
              "      <th>2</th>\n",
              "      <td>3</td>\n",
              "      <td>David Attenborough: A Life on Our Planet</td>\n",
              "      <td>2020</td>\n",
              "      <td>7+</td>\n",
              "      <td>9.0</td>\n",
              "      <td>95</td>\n",
              "      <td>1</td>\n",
              "      <td>0</td>\n",
              "      <td>0</td>\n",
              "      <td>0</td>\n",
              "      <td>Alastair Fothergill,Jonathan Hughes,Keith Scholey</td>\n",
              "      <td>Documentary,Biography</td>\n",
              "      <td>United Kingdom</td>\n",
              "      <td>English</td>\n",
              "      <td>83.0</td>\n",
              "    </tr>\n",
              "    <tr>\n",
              "      <th>3</th>\n",
              "      <td>4</td>\n",
              "      <td>Lagaan: Once Upon a Time in India</td>\n",
              "      <td>2001</td>\n",
              "      <td>7+</td>\n",
              "      <td>8.0</td>\n",
              "      <td>94</td>\n",
              "      <td>1</td>\n",
              "      <td>0</td>\n",
              "      <td>0</td>\n",
              "      <td>0</td>\n",
              "      <td>Ashutosh Gowariker</td>\n",
              "      <td>Drama,Musical,Sport</td>\n",
              "      <td>India,United Kingdom</td>\n",
              "      <td>Hindi,English</td>\n",
              "      <td>224.0</td>\n",
              "    </tr>\n",
              "    <tr>\n",
              "      <th>5</th>\n",
              "      <td>6</td>\n",
              "      <td>To All the Boys I've Loved Before</td>\n",
              "      <td>2018</td>\n",
              "      <td>13+</td>\n",
              "      <td>7.0</td>\n",
              "      <td>94</td>\n",
              "      <td>1</td>\n",
              "      <td>0</td>\n",
              "      <td>0</td>\n",
              "      <td>0</td>\n",
              "      <td>Susan Johnson</td>\n",
              "      <td>Comedy,Drama,Romance</td>\n",
              "      <td>United States</td>\n",
              "      <td>English</td>\n",
              "      <td>99.0</td>\n",
              "    </tr>\n",
              "  </tbody>\n",
              "</table>\n",
              "</div>"
            ],
            "text/plain": [
              "   ID                                     Title  Year  Age  IMDb  \\\n",
              "0   1                              The Irishman  2019  18+   7.0   \n",
              "1   2                                    Dangal  2016   7+   8.0   \n",
              "2   3  David Attenborough: A Life on Our Planet  2020   7+   9.0   \n",
              "3   4         Lagaan: Once Upon a Time in India  2001   7+   8.0   \n",
              "5   6         To All the Boys I've Loved Before  2018  13+   7.0   \n",
              "\n",
              "   Rotten_Tomatoes  Netflix  Hulu  Prime Video  Disney+  \\\n",
              "0               98        1     0            0        0   \n",
              "1               97        1     0            0        0   \n",
              "2               95        1     0            0        0   \n",
              "3               94        1     0            0        0   \n",
              "5               94        1     0            0        0   \n",
              "\n",
              "                                           Directors  \\\n",
              "0                                    Martin Scorsese   \n",
              "1                                      Nitesh Tiwari   \n",
              "2  Alastair Fothergill,Jonathan Hughes,Keith Scholey   \n",
              "3                                 Ashutosh Gowariker   \n",
              "5                                      Susan Johnson   \n",
              "\n",
              "                         Genres  \\\n",
              "0         Biography,Crime,Drama   \n",
              "1  Action,Biography,Drama,Sport   \n",
              "2         Documentary,Biography   \n",
              "3           Drama,Musical,Sport   \n",
              "5          Comedy,Drama,Romance   \n",
              "\n",
              "                                             Country  \\\n",
              "0                                      United States   \n",
              "1  India,United States,United Kingdom,Australia,K...   \n",
              "2                                     United Kingdom   \n",
              "3                               India,United Kingdom   \n",
              "5                                      United States   \n",
              "\n",
              "                               Language  Runtime  \n",
              "0  English,Italian,Latin,Spanish,German    209.0  \n",
              "1                         Hindi,English    161.0  \n",
              "2                               English     83.0  \n",
              "3                         Hindi,English    224.0  \n",
              "5                               English     99.0  "
            ]
          },
          "execution_count": 94,
          "metadata": {},
          "output_type": "execute_result"
        }
      ],
      "source": [
        "df.head()"
      ]
    },
    {
      "cell_type": "code",
      "execution_count": null,
      "id": "2de28e89-e40e-4a78-987e-616ac9d4bb31",
      "metadata": {
        "id": "2de28e89-e40e-4a78-987e-616ac9d4bb31",
        "outputId": "75fcc3c5-04c3-413a-fbb5-89a1db4a6e19"
      },
      "outputs": [
        {
          "data": {
            "text/plain": [
              "array(['18+', '7+', '13+', '16+', 'all'], dtype=object)"
            ]
          },
          "execution_count": 95,
          "metadata": {},
          "output_type": "execute_result"
        }
      ],
      "source": [
        "df.Age.unique()"
      ]
    },
    {
      "cell_type": "code",
      "execution_count": null,
      "id": "56271a9b-1957-4a45-92fc-d2f1b0df0f98",
      "metadata": {
        "id": "56271a9b-1957-4a45-92fc-d2f1b0df0f98",
        "outputId": "2eba533f-947e-431a-bc16-64fffabcf0c7"
      },
      "outputs": [
        {
          "data": {
            "text/plain": [
              "False"
            ]
          },
          "execution_count": 96,
          "metadata": {},
          "output_type": "execute_result"
        }
      ],
      "source": [
        "df.Age.isnull().any()"
      ]
    },
    {
      "cell_type": "code",
      "execution_count": null,
      "id": "beaadbdd-93e7-40d8-8ce8-b903c27c18f7",
      "metadata": {
        "id": "beaadbdd-93e7-40d8-8ce8-b903c27c18f7"
      },
      "outputs": [],
      "source": [
        "#To get the order of Age column\n",
        "df['Age']= df['Age'].map({'all':0,'7+':1,'13+':2,'16+':2,'18+':4,'all':5})"
      ]
    },
    {
      "cell_type": "code",
      "execution_count": null,
      "id": "cd9c0b93-74ee-4afb-bad8-73d7cc2944d8",
      "metadata": {
        "id": "cd9c0b93-74ee-4afb-bad8-73d7cc2944d8",
        "outputId": "9a94d510-75f1-4749-a45c-ff625986ae39"
      },
      "outputs": [
        {
          "data": {
            "text/html": [
              "<div>\n",
              "<style scoped>\n",
              "    .dataframe tbody tr th:only-of-type {\n",
              "        vertical-align: middle;\n",
              "    }\n",
              "\n",
              "    .dataframe tbody tr th {\n",
              "        vertical-align: top;\n",
              "    }\n",
              "\n",
              "    .dataframe thead th {\n",
              "        text-align: right;\n",
              "    }\n",
              "</style>\n",
              "<table border=\"1\" class=\"dataframe\">\n",
              "  <thead>\n",
              "    <tr style=\"text-align: right;\">\n",
              "      <th></th>\n",
              "      <th>ID</th>\n",
              "      <th>Title</th>\n",
              "      <th>Year</th>\n",
              "      <th>Age</th>\n",
              "      <th>IMDb</th>\n",
              "      <th>Rotten_Tomatoes</th>\n",
              "      <th>Netflix</th>\n",
              "      <th>Hulu</th>\n",
              "      <th>Prime Video</th>\n",
              "      <th>Disney+</th>\n",
              "      <th>Directors</th>\n",
              "      <th>Genres</th>\n",
              "      <th>Country</th>\n",
              "      <th>Language</th>\n",
              "      <th>Runtime</th>\n",
              "    </tr>\n",
              "  </thead>\n",
              "  <tbody>\n",
              "    <tr>\n",
              "      <th>0</th>\n",
              "      <td>1</td>\n",
              "      <td>The Irishman</td>\n",
              "      <td>2019</td>\n",
              "      <td>4</td>\n",
              "      <td>7.0</td>\n",
              "      <td>98</td>\n",
              "      <td>1</td>\n",
              "      <td>0</td>\n",
              "      <td>0</td>\n",
              "      <td>0</td>\n",
              "      <td>Martin Scorsese</td>\n",
              "      <td>Biography,Crime,Drama</td>\n",
              "      <td>United States</td>\n",
              "      <td>English,Italian,Latin,Spanish,German</td>\n",
              "      <td>209.0</td>\n",
              "    </tr>\n",
              "    <tr>\n",
              "      <th>1</th>\n",
              "      <td>2</td>\n",
              "      <td>Dangal</td>\n",
              "      <td>2016</td>\n",
              "      <td>1</td>\n",
              "      <td>8.0</td>\n",
              "      <td>97</td>\n",
              "      <td>1</td>\n",
              "      <td>0</td>\n",
              "      <td>0</td>\n",
              "      <td>0</td>\n",
              "      <td>Nitesh Tiwari</td>\n",
              "      <td>Action,Biography,Drama,Sport</td>\n",
              "      <td>India,United States,United Kingdom,Australia,K...</td>\n",
              "      <td>Hindi,English</td>\n",
              "      <td>161.0</td>\n",
              "    </tr>\n",
              "    <tr>\n",
              "      <th>2</th>\n",
              "      <td>3</td>\n",
              "      <td>David Attenborough: A Life on Our Planet</td>\n",
              "      <td>2020</td>\n",
              "      <td>1</td>\n",
              "      <td>9.0</td>\n",
              "      <td>95</td>\n",
              "      <td>1</td>\n",
              "      <td>0</td>\n",
              "      <td>0</td>\n",
              "      <td>0</td>\n",
              "      <td>Alastair Fothergill,Jonathan Hughes,Keith Scholey</td>\n",
              "      <td>Documentary,Biography</td>\n",
              "      <td>United Kingdom</td>\n",
              "      <td>English</td>\n",
              "      <td>83.0</td>\n",
              "    </tr>\n",
              "    <tr>\n",
              "      <th>3</th>\n",
              "      <td>4</td>\n",
              "      <td>Lagaan: Once Upon a Time in India</td>\n",
              "      <td>2001</td>\n",
              "      <td>1</td>\n",
              "      <td>8.0</td>\n",
              "      <td>94</td>\n",
              "      <td>1</td>\n",
              "      <td>0</td>\n",
              "      <td>0</td>\n",
              "      <td>0</td>\n",
              "      <td>Ashutosh Gowariker</td>\n",
              "      <td>Drama,Musical,Sport</td>\n",
              "      <td>India,United Kingdom</td>\n",
              "      <td>Hindi,English</td>\n",
              "      <td>224.0</td>\n",
              "    </tr>\n",
              "    <tr>\n",
              "      <th>5</th>\n",
              "      <td>6</td>\n",
              "      <td>To All the Boys I've Loved Before</td>\n",
              "      <td>2018</td>\n",
              "      <td>2</td>\n",
              "      <td>7.0</td>\n",
              "      <td>94</td>\n",
              "      <td>1</td>\n",
              "      <td>0</td>\n",
              "      <td>0</td>\n",
              "      <td>0</td>\n",
              "      <td>Susan Johnson</td>\n",
              "      <td>Comedy,Drama,Romance</td>\n",
              "      <td>United States</td>\n",
              "      <td>English</td>\n",
              "      <td>99.0</td>\n",
              "    </tr>\n",
              "  </tbody>\n",
              "</table>\n",
              "</div>"
            ],
            "text/plain": [
              "   ID                                     Title  Year  Age  IMDb  \\\n",
              "0   1                              The Irishman  2019    4   7.0   \n",
              "1   2                                    Dangal  2016    1   8.0   \n",
              "2   3  David Attenborough: A Life on Our Planet  2020    1   9.0   \n",
              "3   4         Lagaan: Once Upon a Time in India  2001    1   8.0   \n",
              "5   6         To All the Boys I've Loved Before  2018    2   7.0   \n",
              "\n",
              "   Rotten_Tomatoes  Netflix  Hulu  Prime Video  Disney+  \\\n",
              "0               98        1     0            0        0   \n",
              "1               97        1     0            0        0   \n",
              "2               95        1     0            0        0   \n",
              "3               94        1     0            0        0   \n",
              "5               94        1     0            0        0   \n",
              "\n",
              "                                           Directors  \\\n",
              "0                                    Martin Scorsese   \n",
              "1                                      Nitesh Tiwari   \n",
              "2  Alastair Fothergill,Jonathan Hughes,Keith Scholey   \n",
              "3                                 Ashutosh Gowariker   \n",
              "5                                      Susan Johnson   \n",
              "\n",
              "                         Genres  \\\n",
              "0         Biography,Crime,Drama   \n",
              "1  Action,Biography,Drama,Sport   \n",
              "2         Documentary,Biography   \n",
              "3           Drama,Musical,Sport   \n",
              "5          Comedy,Drama,Romance   \n",
              "\n",
              "                                             Country  \\\n",
              "0                                      United States   \n",
              "1  India,United States,United Kingdom,Australia,K...   \n",
              "2                                     United Kingdom   \n",
              "3                               India,United Kingdom   \n",
              "5                                      United States   \n",
              "\n",
              "                               Language  Runtime  \n",
              "0  English,Italian,Latin,Spanish,German    209.0  \n",
              "1                         Hindi,English    161.0  \n",
              "2                               English     83.0  \n",
              "3                         Hindi,English    224.0  \n",
              "5                               English     99.0  "
            ]
          },
          "execution_count": 99,
          "metadata": {},
          "output_type": "execute_result"
        }
      ],
      "source": [
        "df.head()"
      ]
    },
    {
      "cell_type": "code",
      "execution_count": null,
      "id": "8c6c9843-2070-49ba-bf42-ff5cdef14413",
      "metadata": {
        "id": "8c6c9843-2070-49ba-bf42-ff5cdef14413"
      },
      "outputs": [],
      "source": [
        "#Display the correlation\n",
        "df1 = df.corr()"
      ]
    },
    {
      "cell_type": "code",
      "execution_count": null,
      "id": "01a30c49-d632-403a-a7ba-2885a42271e9",
      "metadata": {
        "id": "01a30c49-d632-403a-a7ba-2885a42271e9",
        "outputId": "0a9fbfac-f96e-4d80-c53e-2bf2eb692996"
      },
      "outputs": [
        {
          "data": {
            "image/png": "[encoded data removed]",
            "text/plain": [
              "<Figure size 432x288 with 2 Axes>"
            ]
          },
          "metadata": {
            "needs_background": "light"
          },
          "output_type": "display_data"
        }
      ],
      "source": [
        "#Display the heatmap\n",
        "sns.heatmap(df1.corr())\n",
        "plt.title('MoviesOnStreaming Platforms')\n",
        "plt.show()"
      ]
    },
    {
      "cell_type": "code",
      "execution_count": null,
      "id": "5bc6f3d6-24c3-4909-bd81-116a98738d01",
      "metadata": {
        "id": "5bc6f3d6-24c3-4909-bd81-116a98738d01",
        "outputId": "9c5a7357-c35a-476c-b337-02f86144f4be"
      },
      "outputs": [
        {
          "data": {
            "image/png": "[encoded data removed]",
            "text/plain": [
              "<Figure size 432x288 with 1 Axes>"
            ]
          },
          "metadata": {
            "needs_background": "light"
          },
          "output_type": "display_data"
        }
      ],
      "source": [
        "#Plotting histogram\n",
        "plt.hist(df.Year, bins = 5, rwidth = 0.95)\n",
        "plt.xlabel('Year', fontsize = 20)\n",
        "plt.ylabel('Value_Count', fontsize = 20)\n",
        "plt.title('Number of instances of Year', fontsize = 20)\n",
        "plt.show()"
      ]
    },
    {
      "cell_type": "code",
      "execution_count": null,
      "id": "5cf09cbc-2a1d-4155-9145-118c8726b83c",
      "metadata": {
        "id": "5cf09cbc-2a1d-4155-9145-118c8726b83c",
        "outputId": "7e0f3595-4520-4636-93f9-ec4557df573d"
      },
      "outputs": [
        {
          "data": {
            "image/png": "[encoded data removed]",
            "text/plain": [
              "<Figure size 432x288 with 1 Axes>"
            ]
          },
          "metadata": {
            "needs_background": "light"
          },
          "output_type": "display_data"
        }
      ],
      "source": [
        "# Ploting histogram for number of occurrences of numeric variable 'IMDB' in dataset. \n",
        "\n",
        "plt.hist(df.IMDb, bins = 10, rwidth = 0.95)\n",
        "plt.xlabel('IMDb', fontsize = 20)\n",
        "plt.ylabel('Value_Count', fontsize = 20)\n",
        "plt.title('Number of instances of IMDb', fontsize = 20)\n",
        "plt.show()"
      ]
    },
    {
      "cell_type": "code",
      "execution_count": null,
      "id": "f44ceedd-7e7d-4280-9ee9-10add5699621",
      "metadata": {
        "id": "f44ceedd-7e7d-4280-9ee9-10add5699621",
        "outputId": "98e15b4e-d793-4712-cc5d-0caa143c4bbd"
      },
      "outputs": [
        {
          "data": {
            "image/png": "[encoded data removed]",
            "text/plain": [
              "<Figure size 432x288 with 1 Axes>"
            ]
          },
          "metadata": {
            "needs_background": "light"
          },
          "output_type": "display_data"
        }
      ],
      "source": [
        "# Plotting histogram for number of occurrences of numeric variable 'Runtime' in the dataset. \n",
        "plt.hist(df.Runtime, bins = 10)\n",
        "plt.xlabel('Runtime', fontsize = 20)\n",
        "plt.ylabel('Value_Count', fontsize = 20)\n",
        "plt.title('Number of instances of Runtime', fontsize = 20)\n",
        "plt.show()"
      ]
    },
    {
      "cell_type": "code",
      "execution_count": null,
      "id": "a76df110-16e2-4edf-9e7a-60dd56e4c019",
      "metadata": {
        "id": "a76df110-16e2-4edf-9e7a-60dd56e4c019",
        "outputId": "1f14da51-3d0c-4fc1-fbcf-0755d90b7f61"
      },
      "outputs": [
        {
          "data": {
            "image/png": "[encoded data removed]",
            "text/plain": [
              "<Figure size 432x288 with 1 Axes>"
            ]
          },
          "metadata": {
            "needs_background": "light"
          },
          "output_type": "display_data"
        }
      ],
      "source": [
        "# Plotting histogram for instances of 'Netflix' in the dataset. \n",
        "\n",
        "df.Netflix.hist()\n",
        "plt.xlabel('Netflix (0 = title_not_chosen,1 = title_chosen)', fontsize = 20)\n",
        "plt.ylabel('Value_Count', fontsize = 20)\n",
        "plt.title('Number of instances of Netflix', fontsize = 20)\n",
        "plt.show()"
      ]
    },
    {
      "cell_type": "code",
      "execution_count": null,
      "id": "5cd62eb6-058e-4e24-bd3e-0525e1ffa724",
      "metadata": {
        "id": "5cd62eb6-058e-4e24-bd3e-0525e1ffa724"
      },
      "outputs": [],
      "source": [
        "import plotly.express as px\n",
        "import plotly.graph_objects as go\n",
        "\n",
        "from matplotlib.offsetbox import (TextArea, DrawingArea, OffsetImage,\n",
        "                                  AnnotationBbox)\n",
        "from plotly.colors import n_colors\n",
        "from plotly.subplots import make_subplots\n",
        "from IPython.display import Image\n",
        "from colorama import Fore, Back, Style\n",
        "y_ = Fore.YELLOW\n",
        "r_ = Fore.RED\n",
        "g_ = Fore.GREEN\n",
        "b_ = Fore.BLUE\n",
        "m_ = Fore.MAGENTA\n",
        "sr_ = Style.RESET_ALL"
      ]
    },
    {
      "cell_type": "markdown",
      "id": "b79c5f24-1d98-47a5-9089-c88aa049e584",
      "metadata": {
        "id": "b79c5f24-1d98-47a5-9089-c88aa049e584"
      },
      "source": [
        "- Movies with the highest IMDb rating, genres and languages\n"
      ]
    },
    {
      "cell_type": "code",
      "execution_count": null,
      "id": "f331bb7b-0b18-4e17-b9e9-7505318e3abb",
      "metadata": {
        "id": "f331bb7b-0b18-4e17-b9e9-7505318e3abb",
        "outputId": "def40ec3-9883-43dc-f08e-bca8546e6c6c"
      },
      "outputs": [
        {
          "data": {
            "application/vnd.plotly.v1+json": {
              "config": {
                "plotlyServerURL": "https://plot.ly"
              },
              "data": [
                {
                  "branchvalues": "total",
                  "customdata": [
                    [
                      9
                    ],
                    [
                      8
                    ],
                    [
                      8
                    ],
                    [
                      9
                    ],
                    [
                      8
                    ],
                    [
                      8
                    ],
                    [
                      8
                    ],
                    [
                      8
                    ],
                    [
                      9
                    ],
                    [
                      8
                    ],
                    [
                      8
                    ],
                    [
                      9
                    ],
                    [
                      8
                    ],
                    [
                      8
                    ],
                    [
                      8
                    ],
                    [
                      9
                    ],
                    [
                      9
                    ],
                    [
                      8
                    ],
                    [
                      8
                    ],
                    [
                      8
                    ],
                    [
                      8
                    ],
                    [
                      9
                    ],
                    [
                      8
                    ],
                    [
                      9
                    ],
                    [
                      8
                    ],
                    [
                      8
                    ],
                    [
                      8
                    ],
                    [
                      8
                    ],
                    [
                      9
                    ],
                    [
                      8
                    ],
                    [
                      8.325301204819278
                    ]
                  ],
                  "domain": {
                    "x": [
                      0,
                      1
                    ],
                    "y": [
                      0,
                      1
                    ]
                  },
                  "hovertemplate": "labels=%{label}<br>IMDb_sum=%{value}<br>parent=%{parent}<br>id=%{id}<br>IMDb=%{color}<extra></extra>",
                  "ids": [
                    "Movies/David Attenborough: A Life on Our Planet/Documentary,Biography/English",
                    "Movies/Gone Girl/Drama,Mystery,Thriller/English",
                    "Movies/Catch Me If You Can/Biography,Crime,Drama/English,French",
                    "Movies/The Dark Knight/Action,Crime,Drama,Thriller/English,Mandarin",
                    "Movies/The Terminator/Action,Sci-Fi/English,Spanish",
                    "Movies/Andaz Apna Apna/Action,Comedy,Romance/Hindi",
                    "Movies/PK/Comedy,Drama,Musical,Sci-Fi/Hindi",
                    "Movies/Like Stars on Earth/Drama,Family/Hindi",
                    "Movies/C/o Kancharapalem/Drama/Telugu",
                    "Movies/Miracle in Cell No. 7/Drama/Turkish",
                    "Movies/Andaz Apna Apna/Action,Comedy,Romance",
                    "Movies/The Dark Knight/Action,Crime,Drama,Thriller",
                    "Movies/The Terminator/Action,Sci-Fi",
                    "Movies/Catch Me If You Can/Biography,Crime,Drama",
                    "Movies/PK/Comedy,Drama,Musical,Sci-Fi",
                    "Movies/David Attenborough: A Life on Our Planet/Documentary,Biography",
                    "Movies/C/o Kancharapalem/Drama",
                    "Movies/Miracle in Cell No. 7/Drama",
                    "Movies/Like Stars on Earth/Drama,Family",
                    "Movies/Gone Girl/Drama,Mystery,Thriller",
                    "Movies/Andaz Apna Apna",
                    "Movies/C/o Kancharapalem",
                    "Movies/Catch Me If You Can",
                    "Movies/David Attenborough: A Life on Our Planet",
                    "Movies/Gone Girl",
                    "Movies/Like Stars on Earth",
                    "Movies/Miracle in Cell No. 7",
                    "Movies/PK",
                    "Movies/The Dark Knight",
                    "Movies/The Terminator",
                    "Movies"
                  ],
                  "labels": [
                    "English",
                    "English",
                    "English,French",
                    "English,Mandarin",
                    "English,Spanish",
                    "Hindi",
                    "Hindi",
                    "Hindi",
                    "Telugu",
                    "Turkish",
                    "Action,Comedy,Romance",
                    "Action,Crime,Drama,Thriller",
                    "Action,Sci-Fi",
                    "Biography,Crime,Drama",
                    "Comedy,Drama,Musical,Sci-Fi",
                    "Documentary,Biography",
                    "Drama",
                    "Drama",
                    "Drama,Family",
                    "Drama,Mystery,Thriller",
                    "Andaz Apna Apna",
                    "C/o Kancharapalem",
                    "Catch Me If You Can",
                    "David Attenborough: A Life on Our Planet",
                    "Gone Girl",
                    "Like Stars on Earth",
                    "Miracle in Cell No. 7",
                    "PK",
                    "The Dark Knight",
                    "The Terminator",
                    "Movies"
                  ],
                  "marker": {
                    "coloraxis": "coloraxis",
                    "colors": [
                      9,
                      8,
                      8,
                      9,
                      8,
                      8,
                      8,
                      8,
                      9,
                      8,
                      8,
                      9,
                      8,
                      8,
                      8,
                      9,
                      9,
                      8,
                      8,
                      8,
                      8,
                      9,
                      8,
                      9,
                      8,
                      8,
                      8,
                      8,
                      9,
                      8,
                      8.325301204819278
                    ]
                  },
                  "name": "",
                  "parents": [
                    "Movies/David Attenborough: A Life on Our Planet/Documentary,Biography",
                    "Movies/Gone Girl/Drama,Mystery,Thriller",
                    "Movies/Catch Me If You Can/Biography,Crime,Drama",
                    "Movies/The Dark Knight/Action,Crime,Drama,Thriller",
                    "Movies/The Terminator/Action,Sci-Fi",
                    "Movies/Andaz Apna Apna/Action,Comedy,Romance",
                    "Movies/PK/Comedy,Drama,Musical,Sci-Fi",
                    "Movies/Like Stars on Earth/Drama,Family",
                    "Movies/C/o Kancharapalem/Drama",
                    "Movies/Miracle in Cell No. 7/Drama",
                    "Movies/Andaz Apna Apna",
                    "Movies/The Dark Knight",
                    "Movies/The Terminator",
                    "Movies/Catch Me If You Can",
                    "Movies/PK",
                    "Movies/David Attenborough: A Life on Our Planet",
                    "Movies/C/o Kancharapalem",
                    "Movies/Miracle in Cell No. 7",
                    "Movies/Like Stars on Earth",
                    "Movies/Gone Girl",
                    "Movies",
                    "Movies",
                    "Movies",
                    "Movies",
                    "Movies",
                    "Movies",
                    "Movies",
                    "Movies",
                    "Movies",
                    "Movies",
                    ""
                  ],
                  "type": "treemap",
                  "values": [
                    9,
                    8,
                    8,
                    9,
                    8,
                    8,
                    8,
                    8,
                    9,
                    8,
                    8,
                    9,
                    8,
                    8,
                    8,
                    9,
                    9,
                    8,
                    8,
                    8,
                    8,
                    9,
                    8,
                    9,
                    8,
                    8,
                    8,
                    8,
                    9,
                    8,
                    83
                  ]
                }
              ],
              "layout": {
                "autosize": true,
                "coloraxis": {
                  "colorbar": {
                    "title": {
                      "text": "IMDb"
                    }
                  },
                  "colorscale": [
                    [
                      0,
                      "rgb(243, 224, 247)"
                    ],
                    [
                      0.16666666666666666,
                      "rgb(228, 199, 241)"
                    ],
                    [
                      0.3333333333333333,
                      "rgb(209, 175, 232)"
                    ],
                    [
                      0.5,
                      "rgb(185, 152, 221)"
                    ],
                    [
                      0.6666666666666666,
                      "rgb(159, 130, 206)"
                    ],
                    [
                      0.8333333333333334,
                      "rgb(130, 109, 186)"
                    ],
                    [
                      1,
                      "rgb(99, 88, 159)"
                    ]
                  ]
                },
                "legend": {
                  "tracegroupgap": 0
                },
                "margin": {
                  "t": 60
                },
                "template": {
                  "data": {
                    "bar": [
                      {
                        "error_x": {
                          "color": "#2a3f5f"
                        },
                        "error_y": {
                          "color": "#2a3f5f"
                        },
                        "marker": {
                          "line": {
                            "color": "#E5ECF6",
                            "width": 0.5
                          },
                          "pattern": {
                            "fillmode": "overlay",
                            "size": 10,
                            "solidity": 0.2
                          }
                        },
                        "type": "bar"
                      }
                    ],
                    "barpolar": [
                      {
                        "marker": {
                          "line": {
                            "color": "#E5ECF6",
                            "width": 0.5
                          },
                          "pattern": {
                            "fillmode": "overlay",
                            "size": 10,
                            "solidity": 0.2
                          }
                        },
                        "type": "barpolar"
                      }
                    ],
                    "carpet": [
                      {
                        "aaxis": {
                          "endlinecolor": "#2a3f5f",
                          "gridcolor": "white",
                          "linecolor": "white",
                          "minorgridcolor": "white",
                          "startlinecolor": "#2a3f5f"
                        },
                        "baxis": {
                          "endlinecolor": "#2a3f5f",
                          "gridcolor": "white",
                          "linecolor": "white",
                          "minorgridcolor": "white",
                          "startlinecolor": "#2a3f5f"
                        },
                        "type": "carpet"
                      }
                    ],
                    "choropleth": [
                      {
                        "colorbar": {
                          "outlinewidth": 0,
                          "ticks": ""
                        },
                        "type": "choropleth"
                      }
                    ],
                    "contour": [
                      {
                        "colorbar": {
                          "outlinewidth": 0,
                          "ticks": ""
                        },
                        "colorscale": [
                          [
                            0,
                            "#0d0887"
                          ],
                          [
                            0.1111111111111111,
                            "#46039f"
                          ],
                          [
                            0.2222222222222222,
                            "#7201a8"
                          ],
                          [
                            0.3333333333333333,
                            "#9c179e"
                          ],
                          [
                            0.4444444444444444,
                            "#bd3786"
                          ],
                          [
                            0.5555555555555556,
                            "#d8576b"
                          ],
                          [
                            0.6666666666666666,
                            "#ed7953"
                          ],
                          [
                            0.7777777777777778,
                            "#fb9f3a"
                          ],
                          [
                            0.8888888888888888,
                            "#fdca26"
                          ],
                          [
                            1,
                            "#f0f921"
                          ]
                        ],
                        "type": "contour"
                      }
                    ],
                    "contourcarpet": [
                      {
                        "colorbar": {
                          "outlinewidth": 0,
                          "ticks": ""
                        },
                        "type": "contourcarpet"
                      }
                    ],
                    "heatmap": [
                      {
                        "colorbar": {
                          "outlinewidth": 0,
                          "ticks": ""
                        },
                        "colorscale": [
                          [
                            0,
                            "#0d0887"
                          ],
                          [
                            0.1111111111111111,
                            "#46039f"
                          ],
                          [
                            0.2222222222222222,
                            "#7201a8"
                          ],
                          [
                            0.3333333333333333,
                            "#9c179e"
                          ],
                          [
                            0.4444444444444444,
                            "#bd3786"
                          ],
                          [
                            0.5555555555555556,
                            "#d8576b"
                          ],
                          [
                            0.6666666666666666,
                            "#ed7953"
                          ],
                          [
                            0.7777777777777778,
                            "#fb9f3a"
                          ],
                          [
                            0.8888888888888888,
                            "#fdca26"
                          ],
                          [
                            1,
                            "#f0f921"
                          ]
                        ],
                        "type": "heatmap"
                      }
                    ],
                    "heatmapgl": [
                      {
                        "colorbar": {
                          "outlinewidth": 0,
                          "ticks": ""
                        },
                        "colorscale": [
                          [
                            0,
                            "#0d0887"
                          ],
                          [
                            0.1111111111111111,
                            "#46039f"
                          ],
                          [
                            0.2222222222222222,
                            "#7201a8"
                          ],
                          [
                            0.3333333333333333,
                            "#9c179e"
                          ],
                          [
                            0.4444444444444444,
                            "#bd3786"
                          ],
                          [
                            0.5555555555555556,
                            "#d8576b"
                          ],
                          [
                            0.6666666666666666,
                            "#ed7953"
                          ],
                          [
                            0.7777777777777778,
                            "#fb9f3a"
                          ],
                          [
                            0.8888888888888888,
                            "#fdca26"
                          ],
                          [
                            1,
                            "#f0f921"
                          ]
                        ],
                        "type": "heatmapgl"
                      }
                    ],
                    "histogram": [
                      {
                        "marker": {
                          "pattern": {
                            "fillmode": "overlay",
                            "size": 10,
                            "solidity": 0.2
                          }
                        },
                        "type": "histogram"
                      }
                    ],
                    "histogram2d": [
                      {
                        "colorbar": {
                          "outlinewidth": 0,
                          "ticks": ""
                        },
                        "colorscale": [
                          [
                            0,
                            "#0d0887"
                          ],
                          [
                            0.1111111111111111,
                            "#46039f"
                          ],
                          [
                            0.2222222222222222,
                            "#7201a8"
                          ],
                          [
                            0.3333333333333333,
                            "#9c179e"
                          ],
                          [
                            0.4444444444444444,
                            "#bd3786"
                          ],
                          [
                            0.5555555555555556,
                            "#d8576b"
                          ],
                          [
                            0.6666666666666666,
                            "#ed7953"
                          ],
                          [
                            0.7777777777777778,
                            "#fb9f3a"
                          ],
                          [
                            0.8888888888888888,
                            "#fdca26"
                          ],
                          [
                            1,
                            "#f0f921"
                          ]
                        ],
                        "type": "histogram2d"
                      }
                    ],
                    "histogram2dcontour": [
                      {
                        "colorbar": {
                          "outlinewidth": 0,
                          "ticks": ""
                        },
                        "colorscale": [
                          [
                            0,
                            "#0d0887"
                          ],
                          [
                            0.1111111111111111,
                            "#46039f"
                          ],
                          [
                            0.2222222222222222,
                            "#7201a8"
                          ],
                          [
                            0.3333333333333333,
                            "#9c179e"
                          ],
                          [
                            0.4444444444444444,
                            "#bd3786"
                          ],
                          [
                            0.5555555555555556,
                            "#d8576b"
                          ],
                          [
                            0.6666666666666666,
                            "#ed7953"
                          ],
                          [
                            0.7777777777777778,
                            "#fb9f3a"
                          ],
                          [
                            0.8888888888888888,
                            "#fdca26"
                          ],
                          [
                            1,
                            "#f0f921"
                          ]
                        ],
                        "type": "histogram2dcontour"
                      }
                    ],
                    "mesh3d": [
                      {
                        "colorbar": {
                          "outlinewidth": 0,
                          "ticks": ""
                        },
                        "type": "mesh3d"
                      }
                    ],
                    "parcoords": [
                      {
                        "line": {
                          "colorbar": {
                            "outlinewidth": 0,
                            "ticks": ""
                          }
                        },
                        "type": "parcoords"
                      }
                    ],
                    "pie": [
                      {
                        "automargin": true,
                        "type": "pie"
                      }
                    ],
                    "scatter": [
                      {
                        "fillpattern": {
                          "fillmode": "overlay",
                          "size": 10,
                          "solidity": 0.2
                        },
                        "type": "scatter"
                      }
                    ],
                    "scatter3d": [
                      {
                        "line": {
                          "colorbar": {
                            "outlinewidth": 0,
                            "ticks": ""
                          }
                        },
                        "marker": {
                          "colorbar": {
                            "outlinewidth": 0,
                            "ticks": ""
                          }
                        },
                        "type": "scatter3d"
                      }
                    ],
                    "scattercarpet": [
                      {
                        "marker": {
                          "colorbar": {
                            "outlinewidth": 0,
                            "ticks": ""
                          }
                        },
                        "type": "scattercarpet"
                      }
                    ],
                    "scattergeo": [
                      {
                        "marker": {
                          "colorbar": {
                            "outlinewidth": 0,
                            "ticks": ""
                          }
                        },
                        "type": "scattergeo"
                      }
                    ],
                    "scattergl": [
                      {
                        "marker": {
                          "colorbar": {
                            "outlinewidth": 0,
                            "ticks": ""
                          }
                        },
                        "type": "scattergl"
                      }
                    ],
                    "scattermapbox": [
                      {
                        "marker": {
                          "colorbar": {
                            "outlinewidth": 0,
                            "ticks": ""
                          }
                        },
                        "type": "scattermapbox"
                      }
                    ],
                    "scatterpolar": [
                      {
                        "marker": {
                          "colorbar": {
                            "outlinewidth": 0,
                            "ticks": ""
                          }
                        },
                        "type": "scatterpolar"
                      }
                    ],
                    "scatterpolargl": [
                      {
                        "marker": {
                          "colorbar": {
                            "outlinewidth": 0,
                            "ticks": ""
                          }
                        },
                        "type": "scatterpolargl"
                      }
                    ],
                    "scatterternary": [
                      {
                        "marker": {
                          "colorbar": {
                            "outlinewidth": 0,
                            "ticks": ""
                          }
                        },
                        "type": "scatterternary"
                      }
                    ],
                    "surface": [
                      {
                        "colorbar": {
                          "outlinewidth": 0,
                          "ticks": ""
                        },
                        "colorscale": [
                          [
                            0,
                            "#0d0887"
                          ],
                          [
                            0.1111111111111111,
                            "#46039f"
                          ],
                          [
                            0.2222222222222222,
                            "#7201a8"
                          ],
                          [
                            0.3333333333333333,
                            "#9c179e"
                          ],
                          [
                            0.4444444444444444,
                            "#bd3786"
                          ],
                          [
                            0.5555555555555556,
                            "#d8576b"
                          ],
                          [
                            0.6666666666666666,
                            "#ed7953"
                          ],
                          [
                            0.7777777777777778,
                            "#fb9f3a"
                          ],
                          [
                            0.8888888888888888,
                            "#fdca26"
                          ],
                          [
                            1,
                            "#f0f921"
                          ]
                        ],
                        "type": "surface"
                      }
                    ],
                    "table": [
                      {
                        "cells": {
                          "fill": {
                            "color": "#EBF0F8"
                          },
                          "line": {
                            "color": "white"
                          }
                        },
                        "header": {
                          "fill": {
                            "color": "#C8D4E3"
                          },
                          "line": {
                            "color": "white"
                          }
                        },
                        "type": "table"
                      }
                    ]
                  },
                  "layout": {
                    "annotationdefaults": {
                      "arrowcolor": "#2a3f5f",
                      "arrowhead": 0,
                      "arrowwidth": 1
                    },
                    "autotypenumbers": "strict",
                    "coloraxis": {
                      "colorbar": {
                        "outlinewidth": 0,
                        "ticks": ""
                      }
                    },
                    "colorscale": {
                      "diverging": [
                        [
                          0,
                          "#8e0152"
                        ],
                        [
                          0.1,
                          "#c51b7d"
                        ],
                        [
                          0.2,
                          "#de77ae"
                        ],
                        [
                          0.3,
                          "#f1b6da"
                        ],
                        [
                          0.4,
                          "#fde0ef"
                        ],
                        [
                          0.5,
                          "#f7f7f7"
                        ],
                        [
                          0.6,
                          "#e6f5d0"
                        ],
                        [
                          0.7,
                          "#b8e186"
                        ],
                        [
                          0.8,
                          "#7fbc41"
                        ],
                        [
                          0.9,
                          "#4d9221"
                        ],
                        [
                          1,
                          "#276419"
                        ]
                      ],
                      "sequential": [
                        [
                          0,
                          "#0d0887"
                        ],
                        [
                          0.1111111111111111,
                          "#46039f"
                        ],
                        [
                          0.2222222222222222,
                          "#7201a8"
                        ],
                        [
                          0.3333333333333333,
                          "#9c179e"
                        ],
                        [
                          0.4444444444444444,
                          "#bd3786"
                        ],
                        [
                          0.5555555555555556,
                          "#d8576b"
                        ],
                        [
                          0.6666666666666666,
                          "#ed7953"
                        ],
                        [
                          0.7777777777777778,
                          "#fb9f3a"
                        ],
                        [
                          0.8888888888888888,
                          "#fdca26"
                        ],
                        [
                          1,
                          "#f0f921"
                        ]
                      ],
                      "sequentialminus": [
                        [
                          0,
                          "#0d0887"
                        ],
                        [
                          0.1111111111111111,
                          "#46039f"
                        ],
                        [
                          0.2222222222222222,
                          "#7201a8"
                        ],
                        [
                          0.3333333333333333,
                          "#9c179e"
                        ],
                        [
                          0.4444444444444444,
                          "#bd3786"
                        ],
                        [
                          0.5555555555555556,
                          "#d8576b"
                        ],
                        [
                          0.6666666666666666,
                          "#ed7953"
                        ],
                        [
                          0.7777777777777778,
                          "#fb9f3a"
                        ],
                        [
                          0.8888888888888888,
                          "#fdca26"
                        ],
                        [
                          1,
                          "#f0f921"
                        ]
                      ]
                    },
                    "colorway": [
                      "#636efa",
                      "#EF553B",
                      "#00cc96",
                      "#ab63fa",
                      "#FFA15A",
                      "#19d3f3",
                      "#FF6692",
                      "#B6E880",
                      "#FF97FF",
                      "#FECB52"
                    ],
                    "font": {
                      "color": "#2a3f5f"
                    },
                    "geo": {
                      "bgcolor": "white",
                      "lakecolor": "white",
                      "landcolor": "#E5ECF6",
                      "showlakes": true,
                      "showland": true,
                      "subunitcolor": "white"
                    },
                    "hoverlabel": {
                      "align": "left"
                    },
                    "hovermode": "closest",
                    "mapbox": {
                      "style": "light"
                    },
                    "paper_bgcolor": "white",
                    "plot_bgcolor": "#E5ECF6",
                    "polar": {
                      "angularaxis": {
                        "gridcolor": "white",
                        "linecolor": "white",
                        "ticks": ""
                      },
                      "bgcolor": "#E5ECF6",
                      "radialaxis": {
                        "gridcolor": "white",
                        "linecolor": "white",
                        "ticks": ""
                      }
                    },
                    "scene": {
                      "xaxis": {
                        "backgroundcolor": "#E5ECF6",
                        "gridcolor": "white",
                        "gridwidth": 2,
                        "linecolor": "white",
                        "showbackground": true,
                        "ticks": "",
                        "zerolinecolor": "white"
                      },
                      "yaxis": {
                        "backgroundcolor": "#E5ECF6",
                        "gridcolor": "white",
                        "gridwidth": 2,
                        "linecolor": "white",
                        "showbackground": true,
                        "ticks": "",
                        "zerolinecolor": "white"
                      },
                      "zaxis": {
                        "backgroundcolor": "#E5ECF6",
                        "gridcolor": "white",
                        "gridwidth": 2,
                        "linecolor": "white",
                        "showbackground": true,
                        "ticks": "",
                        "zerolinecolor": "white"
                      }
                    },
                    "shapedefaults": {
                      "line": {
                        "color": "#2a3f5f"
                      }
                    },
                    "ternary": {
                      "aaxis": {
                        "gridcolor": "white",
                        "linecolor": "white",
                        "ticks": ""
                      },
                      "baxis": {
                        "gridcolor": "white",
                        "linecolor": "white",
                        "ticks": ""
                      },
                      "bgcolor": "#E5ECF6",
                      "caxis": {
                        "gridcolor": "white",
                        "linecolor": "white",
                        "ticks": ""
                      }
                    },
                    "title": {
                      "x": 0.05
                    },
                    "xaxis": {
                      "automargin": true,
                      "gridcolor": "white",
                      "linecolor": "white",
                      "ticks": "",
                      "title": {
                        "standoff": 15
                      },
                      "zerolinecolor": "white",
                      "zerolinewidth": 2
                    },
                    "yaxis": {
                      "automargin": true,
                      "gridcolor": "white",
                      "linecolor": "white",
                      "ticks": "",
                      "title": {
                        "standoff": 15
                      },
                      "zerolinecolor": "white",
                      "zerolinewidth": 2
                    }
                  }
                }
              }
            },
            "image/png": "[encoded data removed]",
            "text/html": [
              "<div>                            <div id=\"95c69836-4235-44e9-8a43-05206404d0f1\" class=\"plotly-graph-div\" style=\"height:525px; width:100%;\"></div>            <script type=\"text/javascript\">                require([\"plotly\"], function(Plotly) {                    window.PLOTLYENV=window.PLOTLYENV || {};                                    if (document.getElementById(\"95c69836-4235-44e9-8a43-05206404d0f1\")) {                    Plotly.newPlot(                        \"95c69836-4235-44e9-8a43-05206404d0f1\",                        [{\"branchvalues\":\"total\",\"customdata\":[[9.0],[8.0],[8.0],[9.0],[8.0],[8.0],[8.0],[8.0],[9.0],[8.0],[8.0],[9.0],[8.0],[8.0],[8.0],[9.0],[9.0],[8.0],[8.0],[8.0],[8.0],[9.0],[8.0],[9.0],[8.0],[8.0],[8.0],[8.0],[9.0],[8.0],[8.325301204819278]],\"domain\":{\"x\":[0.0,1.0],\"y\":[0.0,1.0]},\"hovertemplate\":\"labels=%{label}<br>IMDb_sum=%{value}<br>parent=%{parent}<br>id=%{id}<br>IMDb=%{color}<extra></extra>\",\"ids\":[\"Movies/David Attenborough: A Life on Our Planet/Documentary,Biography/English\",\"Movies/Gone Girl/Drama,Mystery,Thriller/English\",\"Movies/Catch Me If You Can/Biography,Crime,Drama/English,French\",\"Movies/The Dark Knight/Action,Crime,Drama,Thriller/English,Mandarin\",\"Movies/The Terminator/Action,Sci-Fi/English,Spanish\",\"Movies/Andaz Apna Apna/Action,Comedy,Romance/Hindi\",\"Movies/PK/Comedy,Drama,Musical,Sci-Fi/Hindi\",\"Movies/Like Stars on Earth/Drama,Family/Hindi\",\"Movies/C/o Kancharapalem/Drama/Telugu\",\"Movies/Miracle in Cell No. 7/Drama/Turkish\",\"Movies/Andaz Apna Apna/Action,Comedy,Romance\",\"Movies/The Dark Knight/Action,Crime,Drama,Thriller\",\"Movies/The Terminator/Action,Sci-Fi\",\"Movies/Catch Me If You Can/Biography,Crime,Drama\",\"Movies/PK/Comedy,Drama,Musical,Sci-Fi\",\"Movies/David Attenborough: A Life on Our Planet/Documentary,Biography\",\"Movies/C/o Kancharapalem/Drama\",\"Movies/Miracle in Cell No. 7/Drama\",\"Movies/Like Stars on Earth/Drama,Family\",\"Movies/Gone Girl/Drama,Mystery,Thriller\",\"Movies/Andaz Apna Apna\",\"Movies/C/o Kancharapalem\",\"Movies/Catch Me If You Can\",\"Movies/David Attenborough: A Life on Our Planet\",\"Movies/Gone Girl\",\"Movies/Like Stars on Earth\",\"Movies/Miracle in Cell No. 7\",\"Movies/PK\",\"Movies/The Dark Knight\",\"Movies/The Terminator\",\"Movies\"],\"labels\":[\"English\",\"English\",\"English,French\",\"English,Mandarin\",\"English,Spanish\",\"Hindi\",\"Hindi\",\"Hindi\",\"Telugu\",\"Turkish\",\"Action,Comedy,Romance\",\"Action,Crime,Drama,Thriller\",\"Action,Sci-Fi\",\"Biography,Crime,Drama\",\"Comedy,Drama,Musical,Sci-Fi\",\"Documentary,Biography\",\"Drama\",\"Drama\",\"Drama,Family\",\"Drama,Mystery,Thriller\",\"Andaz Apna Apna\",\"C/o Kancharapalem\",\"Catch Me If You Can\",\"David Attenborough: A Life on Our Planet\",\"Gone Girl\",\"Like Stars on Earth\",\"Miracle in Cell No. 7\",\"PK\",\"The Dark Knight\",\"The Terminator\",\"Movies\"],\"marker\":{\"coloraxis\":\"coloraxis\",\"colors\":[9.0,8.0,8.0,9.0,8.0,8.0,8.0,8.0,9.0,8.0,8.0,9.0,8.0,8.0,8.0,9.0,9.0,8.0,8.0,8.0,8.0,9.0,8.0,9.0,8.0,8.0,8.0,8.0,9.0,8.0,8.325301204819278]},\"name\":\"\",\"parents\":[\"Movies/David Attenborough: A Life on Our Planet/Documentary,Biography\",\"Movies/Gone Girl/Drama,Mystery,Thriller\",\"Movies/Catch Me If You Can/Biography,Crime,Drama\",\"Movies/The Dark Knight/Action,Crime,Drama,Thriller\",\"Movies/The Terminator/Action,Sci-Fi\",\"Movies/Andaz Apna Apna/Action,Comedy,Romance\",\"Movies/PK/Comedy,Drama,Musical,Sci-Fi\",\"Movies/Like Stars on Earth/Drama,Family\",\"Movies/C/o Kancharapalem/Drama\",\"Movies/Miracle in Cell No. 7/Drama\",\"Movies/Andaz Apna Apna\",\"Movies/The Dark Knight\",\"Movies/The Terminator\",\"Movies/Catch Me If You Can\",\"Movies/PK\",\"Movies/David Attenborough: A Life on Our Planet\",\"Movies/C/o Kancharapalem\",\"Movies/Miracle in Cell No. 7\",\"Movies/Like Stars on Earth\",\"Movies/Gone Girl\",\"Movies\",\"Movies\",\"Movies\",\"Movies\",\"Movies\",\"Movies\",\"Movies\",\"Movies\",\"Movies\",\"Movies\",\"\"],\"values\":[9.0,8.0,8.0,9.0,8.0,8.0,8.0,8.0,9.0,8.0,8.0,9.0,8.0,8.0,8.0,9.0,9.0,8.0,8.0,8.0,8.0,9.0,8.0,9.0,8.0,8.0,8.0,8.0,9.0,8.0,83.0],\"type\":\"treemap\"}],                        {\"template\":{\"data\":{\"histogram2dcontour\":[{\"type\":\"histogram2dcontour\",\"colorbar\":{\"outlinewidth\":0,\"ticks\":\"\"},\"colorscale\":[[0.0,\"#0d0887\"],[0.1111111111111111,\"#46039f\"],[0.2222222222222222,\"#7201a8\"],[0.3333333333333333,\"#9c179e\"],[0.4444444444444444,\"#bd3786\"],[0.5555555555555556,\"#d8576b\"],[0.6666666666666666,\"#ed7953\"],[0.7777777777777778,\"#fb9f3a\"],[0.8888888888888888,\"#fdca26\"],[1.0,\"#f0f921\"]]}],\"choropleth\":[{\"type\":\"choropleth\",\"colorbar\":{\"outlinewidth\":0,\"ticks\":\"\"}}],\"histogram2d\":[{\"type\":\"histogram2d\",\"colorbar\":{\"outlinewidth\":0,\"ticks\":\"\"},\"colorscale\":[[0.0,\"#0d0887\"],[0.1111111111111111,\"#46039f\"],[0.2222222222222222,\"#7201a8\"],[0.3333333333333333,\"#9c179e\"],[0.4444444444444444,\"#bd3786\"],[0.5555555555555556,\"#d8576b\"],[0.6666666666666666,\"#ed7953\"],[0.7777777777777778,\"#fb9f3a\"],[0.8888888888888888,\"#fdca26\"],[1.0,\"#f0f921\"]]}],\"heatmap\":[{\"type\":\"heatmap\",\"colorbar\":{\"outlinewidth\":0,\"ticks\":\"\"},\"colorscale\":[[0.0,\"#0d0887\"],[0.1111111111111111,\"#46039f\"],[0.2222222222222222,\"#7201a8\"],[0.3333333333333333,\"#9c179e\"],[0.4444444444444444,\"#bd3786\"],[0.5555555555555556,\"#d8576b\"],[0.6666666666666666,\"#ed7953\"],[0.7777777777777778,\"#fb9f3a\"],[0.8888888888888888,\"#fdca26\"],[1.0,\"#f0f921\"]]}],\"heatmapgl\":[{\"type\":\"heatmapgl\",\"colorbar\":{\"outlinewidth\":0,\"ticks\":\"\"},\"colorscale\":[[0.0,\"#0d0887\"],[0.1111111111111111,\"#46039f\"],[0.2222222222222222,\"#7201a8\"],[0.3333333333333333,\"#9c179e\"],[0.4444444444444444,\"#bd3786\"],[0.5555555555555556,\"#d8576b\"],[0.6666666666666666,\"#ed7953\"],[0.7777777777777778,\"#fb9f3a\"],[0.8888888888888888,\"#fdca26\"],[1.0,\"#f0f921\"]]}],\"contourcarpet\":[{\"type\":\"contourcarpet\",\"colorbar\":{\"outlinewidth\":0,\"ticks\":\"\"}}],\"contour\":[{\"type\":\"contour\",\"colorbar\":{\"outlinewidth\":0,\"ticks\":\"\"},\"colorscale\":[[0.0,\"#0d0887\"],[0.1111111111111111,\"#46039f\"],[0.2222222222222222,\"#7201a8\"],[0.3333333333333333,\"#9c179e\"],[0.4444444444444444,\"#bd3786\"],[0.5555555555555556,\"#d8576b\"],[0.6666666666666666,\"#ed7953\"],[0.7777777777777778,\"#fb9f3a\"],[0.8888888888888888,\"#fdca26\"],[1.0,\"#f0f921\"]]}],\"surface\":[{\"type\":\"surface\",\"colorbar\":{\"outlinewidth\":0,\"ticks\":\"\"},\"colorscale\":[[0.0,\"#0d0887\"],[0.1111111111111111,\"#46039f\"],[0.2222222222222222,\"#7201a8\"],[0.3333333333333333,\"#9c179e\"],[0.4444444444444444,\"#bd3786\"],[0.5555555555555556,\"#d8576b\"],[0.6666666666666666,\"#ed7953\"],[0.7777777777777778,\"#fb9f3a\"],[0.8888888888888888,\"#fdca26\"],[1.0,\"#f0f921\"]]}],\"mesh3d\":[{\"type\":\"mesh3d\",\"colorbar\":{\"outlinewidth\":0,\"ticks\":\"\"}}],\"scatter\":[{\"fillpattern\":{\"fillmode\":\"overlay\",\"size\":10,\"solidity\":0.2},\"type\":\"scatter\"}],\"parcoords\":[{\"type\":\"parcoords\",\"line\":{\"colorbar\":{\"outlinewidth\":0,\"ticks\":\"\"}}}],\"scatterpolargl\":[{\"type\":\"scatterpolargl\",\"marker\":{\"colorbar\":{\"outlinewidth\":0,\"ticks\":\"\"}}}],\"bar\":[{\"error_x\":{\"color\":\"#2a3f5f\"},\"error_y\":{\"color\":\"#2a3f5f\"},\"marker\":{\"line\":{\"color\":\"#E5ECF6\",\"width\":0.5},\"pattern\":{\"fillmode\":\"overlay\",\"size\":10,\"solidity\":0.2}},\"type\":\"bar\"}],\"scattergeo\":[{\"type\":\"scattergeo\",\"marker\":{\"colorbar\":{\"outlinewidth\":0,\"ticks\":\"\"}}}],\"scatterpolar\":[{\"type\":\"scatterpolar\",\"marker\":{\"colorbar\":{\"outlinewidth\":0,\"ticks\":\"\"}}}],\"histogram\":[{\"marker\":{\"pattern\":{\"fillmode\":\"overlay\",\"size\":10,\"solidity\":0.2}},\"type\":\"histogram\"}],\"scattergl\":[{\"type\":\"scattergl\",\"marker\":{\"colorbar\":{\"outlinewidth\":0,\"ticks\":\"\"}}}],\"scatter3d\":[{\"type\":\"scatter3d\",\"line\":{\"colorbar\":{\"outlinewidth\":0,\"ticks\":\"\"}},\"marker\":{\"colorbar\":{\"outlinewidth\":0,\"ticks\":\"\"}}}],\"scattermapbox\":[{\"type\":\"scattermapbox\",\"marker\":{\"colorbar\":{\"outlinewidth\":0,\"ticks\":\"\"}}}],\"scatterternary\":[{\"type\":\"scatterternary\",\"marker\":{\"colorbar\":{\"outlinewidth\":0,\"ticks\":\"\"}}}],\"scattercarpet\":[{\"type\":\"scattercarpet\",\"marker\":{\"colorbar\":{\"outlinewidth\":0,\"ticks\":\"\"}}}],\"carpet\":[{\"aaxis\":{\"endlinecolor\":\"#2a3f5f\",\"gridcolor\":\"white\",\"linecolor\":\"white\",\"minorgridcolor\":\"white\",\"startlinecolor\":\"#2a3f5f\"},\"baxis\":{\"endlinecolor\":\"#2a3f5f\",\"gridcolor\":\"white\",\"linecolor\":\"white\",\"minorgridcolor\":\"white\",\"startlinecolor\":\"#2a3f5f\"},\"type\":\"carpet\"}],\"table\":[{\"cells\":{\"fill\":{\"color\":\"#EBF0F8\"},\"line\":{\"color\":\"white\"}},\"header\":{\"fill\":{\"color\":\"#C8D4E3\"},\"line\":{\"color\":\"white\"}},\"type\":\"table\"}],\"barpolar\":[{\"marker\":{\"line\":{\"color\":\"#E5ECF6\",\"width\":0.5},\"pattern\":{\"fillmode\":\"overlay\",\"size\":10,\"solidity\":0.2}},\"type\":\"barpolar\"}],\"pie\":[{\"automargin\":true,\"type\":\"pie\"}]},\"layout\":{\"autotypenumbers\":\"strict\",\"colorway\":[\"#636efa\",\"#EF553B\",\"#00cc96\",\"#ab63fa\",\"#FFA15A\",\"#19d3f3\",\"#FF6692\",\"#B6E880\",\"#FF97FF\",\"#FECB52\"],\"font\":{\"color\":\"#2a3f5f\"},\"hovermode\":\"closest\",\"hoverlabel\":{\"align\":\"left\"},\"paper_bgcolor\":\"white\",\"plot_bgcolor\":\"#E5ECF6\",\"polar\":{\"bgcolor\":\"#E5ECF6\",\"angularaxis\":{\"gridcolor\":\"white\",\"linecolor\":\"white\",\"ticks\":\"\"},\"radialaxis\":{\"gridcolor\":\"white\",\"linecolor\":\"white\",\"ticks\":\"\"}},\"ternary\":{\"bgcolor\":\"#E5ECF6\",\"aaxis\":{\"gridcolor\":\"white\",\"linecolor\":\"white\",\"ticks\":\"\"},\"baxis\":{\"gridcolor\":\"white\",\"linecolor\":\"white\",\"ticks\":\"\"},\"caxis\":{\"gridcolor\":\"white\",\"linecolor\":\"white\",\"ticks\":\"\"}},\"coloraxis\":{\"colorbar\":{\"outlinewidth\":0,\"ticks\":\"\"}},\"colorscale\":{\"sequential\":[[0.0,\"#0d0887\"],[0.1111111111111111,\"#46039f\"],[0.2222222222222222,\"#7201a8\"],[0.3333333333333333,\"#9c179e\"],[0.4444444444444444,\"#bd3786\"],[0.5555555555555556,\"#d8576b\"],[0.6666666666666666,\"#ed7953\"],[0.7777777777777778,\"#fb9f3a\"],[0.8888888888888888,\"#fdca26\"],[1.0,\"#f0f921\"]],\"sequentialminus\":[[0.0,\"#0d0887\"],[0.1111111111111111,\"#46039f\"],[0.2222222222222222,\"#7201a8\"],[0.3333333333333333,\"#9c179e\"],[0.4444444444444444,\"#bd3786\"],[0.5555555555555556,\"#d8576b\"],[0.6666666666666666,\"#ed7953\"],[0.7777777777777778,\"#fb9f3a\"],[0.8888888888888888,\"#fdca26\"],[1.0,\"#f0f921\"]],\"diverging\":[[0,\"#8e0152\"],[0.1,\"#c51b7d\"],[0.2,\"#de77ae\"],[0.3,\"#f1b6da\"],[0.4,\"#fde0ef\"],[0.5,\"#f7f7f7\"],[0.6,\"#e6f5d0\"],[0.7,\"#b8e186\"],[0.8,\"#7fbc41\"],[0.9,\"#4d9221\"],[1,\"#276419\"]]},\"xaxis\":{\"gridcolor\":\"white\",\"linecolor\":\"white\",\"ticks\":\"\",\"title\":{\"standoff\":15},\"zerolinecolor\":\"white\",\"automargin\":true,\"zerolinewidth\":2},\"yaxis\":{\"gridcolor\":\"white\",\"linecolor\":\"white\",\"ticks\":\"\",\"title\":{\"standoff\":15},\"zerolinecolor\":\"white\",\"automargin\":true,\"zerolinewidth\":2},\"scene\":{\"xaxis\":{\"backgroundcolor\":\"#E5ECF6\",\"gridcolor\":\"white\",\"linecolor\":\"white\",\"showbackground\":true,\"ticks\":\"\",\"zerolinecolor\":\"white\",\"gridwidth\":2},\"yaxis\":{\"backgroundcolor\":\"#E5ECF6\",\"gridcolor\":\"white\",\"linecolor\":\"white\",\"showbackground\":true,\"ticks\":\"\",\"zerolinecolor\":\"white\",\"gridwidth\":2},\"zaxis\":{\"backgroundcolor\":\"#E5ECF6\",\"gridcolor\":\"white\",\"linecolor\":\"white\",\"showbackground\":true,\"ticks\":\"\",\"zerolinecolor\":\"white\",\"gridwidth\":2}},\"shapedefaults\":{\"line\":{\"color\":\"#2a3f5f\"}},\"annotationdefaults\":{\"arrowcolor\":\"#2a3f5f\",\"arrowhead\":0,\"arrowwidth\":1},\"geo\":{\"bgcolor\":\"white\",\"landcolor\":\"#E5ECF6\",\"subunitcolor\":\"white\",\"showland\":true,\"showlakes\":true,\"lakecolor\":\"white\"},\"title\":{\"x\":0.05},\"mapbox\":{\"style\":\"light\"}}},\"coloraxis\":{\"colorbar\":{\"title\":{\"text\":\"IMDb\"}},\"colorscale\":[[0.0,\"rgb(243, 224, 247)\"],[0.16666666666666666,\"rgb(228, 199, 241)\"],[0.3333333333333333,\"rgb(209, 175, 232)\"],[0.5,\"rgb(185, 152, 221)\"],[0.6666666666666666,\"rgb(159, 130, 206)\"],[0.8333333333333334,\"rgb(130, 109, 186)\"],[1.0,\"rgb(99, 88, 159)\"]]},\"legend\":{\"tracegroupgap\":0},\"margin\":{\"t\":60}},                        {\"responsive\": true}                    ).then(function(){\n",
              "                            \n",
              "var gd = document.getElementById('95c69836-4235-44e9-8a43-05206404d0f1');\n",
              "var x = new MutationObserver(function (mutations, observer) {{\n",
              "        var display = window.getComputedStyle(gd).display;\n",
              "        if (!display || display === 'none') {{\n",
              "            console.log([gd, 'removed!']);\n",
              "            Plotly.purge(gd);\n",
              "            observer.disconnect();\n",
              "        }}\n",
              "}});\n",
              "\n",
              "// Listen for the removal of the full notebook cells\n",
              "var notebookContainer = gd.closest('#notebook-container');\n",
              "if (notebookContainer) {{\n",
              "    x.observe(notebookContainer, {childList: true});\n",
              "}}\n",
              "\n",
              "// Listen for the clearing of the current output cell\n",
              "var outputEl = gd.closest('.output');\n",
              "if (outputEl) {{\n",
              "    x.observe(outputEl, {childList: true});\n",
              "}}\n",
              "\n",
              "                        })                };                });            </script>        </div>"
            ]
          },
          "metadata": {},
          "output_type": "display_data"
        }
      ],
      "source": [
        "r1 = df.sort_values(by ='IMDb', ascending = False)\n",
        "r1 = r1[0:10]\n",
        "r1['Movies']='Movies'\n",
        "fig = px.treemap(r1, path =['Movies','Title','Genres','Language'], values ='IMDb',color ='IMDb',color_continuous_scale ='Purp')\n",
        "fig.show()"
      ]
    },
    {
      "cell_type": "markdown",
      "id": "2dc1ce94-4282-43d3-aeb0-abd6f170ffed",
      "metadata": {
        "id": "2dc1ce94-4282-43d3-aeb0-abd6f170ffed"
      },
      "source": [
        "- Movies with the highest Rotten Tomatoes rating vs directors"
      ]
    },
    {
      "cell_type": "code",
      "execution_count": null,
      "id": "a930f83d-121b-40d5-9939-aa6b13a9a7cc",
      "metadata": {
        "id": "a930f83d-121b-40d5-9939-aa6b13a9a7cc"
      },
      "outputs": [],
      "source": [
        "custom_colors = [\"#ff6b6b\",\"#95d5b2\",\"#a2d2ff\",\"#72efdd\"]\n",
        "customPalette = sns.set_palette(sns.color_palette(custom_colors))"
      ]
    },
    {
      "cell_type": "code",
      "execution_count": null,
      "id": "27b9809b-5428-44cc-998e-9789a6099ced",
      "metadata": {
        "id": "27b9809b-5428-44cc-998e-9789a6099ced",
        "outputId": "8e9f6adf-ef35-4ed6-ec9a-e22b2d8795f6"
      },
      "outputs": [
        {
          "data": {
            "image/png": "[encoded data removed]",
            "text/plain": [
              "<Figure size 432x72 with 1 Axes>"
            ]
          },
          "metadata": {
            "needs_background": "light"
          },
          "output_type": "display_data"
        }
      ],
      "source": [
        "netflix_p = sns.light_palette(custom_colors[0], reverse=True)\n",
        "sns.palplot(sns.color_palette(netflix_p),size=1)\n"
      ]
    },
    {
      "cell_type": "markdown",
      "id": "e808c72a-cd45-4da2-9b85-1d546e56e4a1",
      "metadata": {
        "id": "e808c72a-cd45-4da2-9b85-1d546e56e4a1"
      },
      "source": [
        "- Runtime of top 10 longest movies"
      ]
    },
    {
      "cell_type": "code",
      "execution_count": null,
      "id": "0b4357f8-3968-44ce-a8e8-cdfd271367c8",
      "metadata": {
        "id": "0b4357f8-3968-44ce-a8e8-cdfd271367c8",
        "outputId": "eb0f520f-cbb3-4713-87bb-ec45610192cb"
      },
      "outputs": [
        {
          "data": {
            "application/vnd.plotly.v1+json": {
              "config": {
                "plotlyServerURL": "https://plot.ly"
              },
              "data": [
                {
                  "alignmentgroup": "True",
                  "hovertemplate": "Title=%{x}<br>Runtime=%{marker.color}<extra></extra>",
                  "legendgroup": "",
                  "marker": {
                    "color": [
                      359,
                      317,
                      288,
                      224,
                      220,
                      216,
                      213,
                      210,
                      210,
                      209
                    ],
                    "coloraxis": "coloraxis",
                    "pattern": {
                      "shape": ""
                    }
                  },
                  "name": "",
                  "offsetgroup": "",
                  "orientation": "v",
                  "showlegend": false,
                  "textposition": "auto",
                  "type": "bar",
                  "x": [
                    "No Direction Home: Bob Dylan",
                    "1900",
                    "Red Cliff",
                    "Lagaan: Once Upon a Time in India",
                    "Jatt James Bond",
                    "Mohabbatein",
                    "Jodhaa Akbar",
                    "Kabhi Khushi Kabhie Gham",
                    "Swades",
                    "The Irishman"
                  ],
                  "xaxis": "x",
                  "y": [
                    359,
                    317,
                    288,
                    224,
                    220,
                    216,
                    213,
                    210,
                    210,
                    209
                  ],
                  "yaxis": "y"
                }
              ],
              "layout": {
                "autosize": true,
                "barmode": "relative",
                "coloraxis": {
                  "colorbar": {
                    "title": {
                      "text": "Runtime"
                    }
                  },
                  "colorscale": [
                    [
                      0,
                      "#0d0887"
                    ],
                    [
                      0.1111111111111111,
                      "#46039f"
                    ],
                    [
                      0.2222222222222222,
                      "#7201a8"
                    ],
                    [
                      0.3333333333333333,
                      "#9c179e"
                    ],
                    [
                      0.4444444444444444,
                      "#bd3786"
                    ],
                    [
                      0.5555555555555556,
                      "#d8576b"
                    ],
                    [
                      0.6666666666666666,
                      "#ed7953"
                    ],
                    [
                      0.7777777777777778,
                      "#fb9f3a"
                    ],
                    [
                      0.8888888888888888,
                      "#fdca26"
                    ],
                    [
                      1,
                      "#f0f921"
                    ]
                  ]
                },
                "legend": {
                  "tracegroupgap": 0
                },
                "template": {
                  "data": {
                    "bar": [
                      {
                        "error_x": {
                          "color": "#2a3f5f"
                        },
                        "error_y": {
                          "color": "#2a3f5f"
                        },
                        "marker": {
                          "line": {
                            "color": "#E5ECF6",
                            "width": 0.5
                          },
                          "pattern": {
                            "fillmode": "overlay",
                            "size": 10,
                            "solidity": 0.2
                          }
                        },
                        "type": "bar"
                      }
                    ],
                    "barpolar": [
                      {
                        "marker": {
                          "line": {
                            "color": "#E5ECF6",
                            "width": 0.5
                          },
                          "pattern": {
                            "fillmode": "overlay",
                            "size": 10,
                            "solidity": 0.2
                          }
                        },
                        "type": "barpolar"
                      }
                    ],
                    "carpet": [
                      {
                        "aaxis": {
                          "endlinecolor": "#2a3f5f",
                          "gridcolor": "white",
                          "linecolor": "white",
                          "minorgridcolor": "white",
                          "startlinecolor": "#2a3f5f"
                        },
                        "baxis": {
                          "endlinecolor": "#2a3f5f",
                          "gridcolor": "white",
                          "linecolor": "white",
                          "minorgridcolor": "white",
                          "startlinecolor": "#2a3f5f"
                        },
                        "type": "carpet"
                      }
                    ],
                    "choropleth": [
                      {
                        "colorbar": {
                          "outlinewidth": 0,
                          "ticks": ""
                        },
                        "type": "choropleth"
                      }
                    ],
                    "contour": [
                      {
                        "colorbar": {
                          "outlinewidth": 0,
                          "ticks": ""
                        },
                        "colorscale": [
                          [
                            0,
                            "#0d0887"
                          ],
                          [
                            0.1111111111111111,
                            "#46039f"
                          ],
                          [
                            0.2222222222222222,
                            "#7201a8"
                          ],
                          [
                            0.3333333333333333,
                            "#9c179e"
                          ],
                          [
                            0.4444444444444444,
                            "#bd3786"
                          ],
                          [
                            0.5555555555555556,
                            "#d8576b"
                          ],
                          [
                            0.6666666666666666,
                            "#ed7953"
                          ],
                          [
                            0.7777777777777778,
                            "#fb9f3a"
                          ],
                          [
                            0.8888888888888888,
                            "#fdca26"
                          ],
                          [
                            1,
                            "#f0f921"
                          ]
                        ],
                        "type": "contour"
                      }
                    ],
                    "contourcarpet": [
                      {
                        "colorbar": {
                          "outlinewidth": 0,
                          "ticks": ""
                        },
                        "type": "contourcarpet"
                      }
                    ],
                    "heatmap": [
                      {
                        "colorbar": {
                          "outlinewidth": 0,
                          "ticks": ""
                        },
                        "colorscale": [
                          [
                            0,
                            "#0d0887"
                          ],
                          [
                            0.1111111111111111,
                            "#46039f"
                          ],
                          [
                            0.2222222222222222,
                            "#7201a8"
                          ],
                          [
                            0.3333333333333333,
                            "#9c179e"
                          ],
                          [
                            0.4444444444444444,
                            "#bd3786"
                          ],
                          [
                            0.5555555555555556,
                            "#d8576b"
                          ],
                          [
                            0.6666666666666666,
                            "#ed7953"
                          ],
                          [
                            0.7777777777777778,
                            "#fb9f3a"
                          ],
                          [
                            0.8888888888888888,
                            "#fdca26"
                          ],
                          [
                            1,
                            "#f0f921"
                          ]
                        ],
                        "type": "heatmap"
                      }
                    ],
                    "heatmapgl": [
                      {
                        "colorbar": {
                          "outlinewidth": 0,
                          "ticks": ""
                        },
                        "colorscale": [
                          [
                            0,
                            "#0d0887"
                          ],
                          [
                            0.1111111111111111,
                            "#46039f"
                          ],
                          [
                            0.2222222222222222,
                            "#7201a8"
                          ],
                          [
                            0.3333333333333333,
                            "#9c179e"
                          ],
                          [
                            0.4444444444444444,
                            "#bd3786"
                          ],
                          [
                            0.5555555555555556,
                            "#d8576b"
                          ],
                          [
                            0.6666666666666666,
                            "#ed7953"
                          ],
                          [
                            0.7777777777777778,
                            "#fb9f3a"
                          ],
                          [
                            0.8888888888888888,
                            "#fdca26"
                          ],
                          [
                            1,
                            "#f0f921"
                          ]
                        ],
                        "type": "heatmapgl"
                      }
                    ],
                    "histogram": [
                      {
                        "marker": {
                          "pattern": {
                            "fillmode": "overlay",
                            "size": 10,
                            "solidity": 0.2
                          }
                        },
                        "type": "histogram"
                      }
                    ],
                    "histogram2d": [
                      {
                        "colorbar": {
                          "outlinewidth": 0,
                          "ticks": ""
                        },
                        "colorscale": [
                          [
                            0,
                            "#0d0887"
                          ],
                          [
                            0.1111111111111111,
                            "#46039f"
                          ],
                          [
                            0.2222222222222222,
                            "#7201a8"
                          ],
                          [
                            0.3333333333333333,
                            "#9c179e"
                          ],
                          [
                            0.4444444444444444,
                            "#bd3786"
                          ],
                          [
                            0.5555555555555556,
                            "#d8576b"
                          ],
                          [
                            0.6666666666666666,
                            "#ed7953"
                          ],
                          [
                            0.7777777777777778,
                            "#fb9f3a"
                          ],
                          [
                            0.8888888888888888,
                            "#fdca26"
                          ],
                          [
                            1,
                            "#f0f921"
                          ]
                        ],
                        "type": "histogram2d"
                      }
                    ],
                    "histogram2dcontour": [
                      {
                        "colorbar": {
                          "outlinewidth": 0,
                          "ticks": ""
                        },
                        "colorscale": [
                          [
                            0,
                            "#0d0887"
                          ],
                          [
                            0.1111111111111111,
                            "#46039f"
                          ],
                          [
                            0.2222222222222222,
                            "#7201a8"
                          ],
                          [
                            0.3333333333333333,
                            "#9c179e"
                          ],
                          [
                            0.4444444444444444,
                            "#bd3786"
                          ],
                          [
                            0.5555555555555556,
                            "#d8576b"
                          ],
                          [
                            0.6666666666666666,
                            "#ed7953"
                          ],
                          [
                            0.7777777777777778,
                            "#fb9f3a"
                          ],
                          [
                            0.8888888888888888,
                            "#fdca26"
                          ],
                          [
                            1,
                            "#f0f921"
                          ]
                        ],
                        "type": "histogram2dcontour"
                      }
                    ],
                    "mesh3d": [
                      {
                        "colorbar": {
                          "outlinewidth": 0,
                          "ticks": ""
                        },
                        "type": "mesh3d"
                      }
                    ],
                    "parcoords": [
                      {
                        "line": {
                          "colorbar": {
                            "outlinewidth": 0,
                            "ticks": ""
                          }
                        },
                        "type": "parcoords"
                      }
                    ],
                    "pie": [
                      {
                        "automargin": true,
                        "type": "pie"
                      }
                    ],
                    "scatter": [
                      {
                        "fillpattern": {
                          "fillmode": "overlay",
                          "size": 10,
                          "solidity": 0.2
                        },
                        "type": "scatter"
                      }
                    ],
                    "scatter3d": [
                      {
                        "line": {
                          "colorbar": {
                            "outlinewidth": 0,
                            "ticks": ""
                          }
                        },
                        "marker": {
                          "colorbar": {
                            "outlinewidth": 0,
                            "ticks": ""
                          }
                        },
                        "type": "scatter3d"
                      }
                    ],
                    "scattercarpet": [
                      {
                        "marker": {
                          "colorbar": {
                            "outlinewidth": 0,
                            "ticks": ""
                          }
                        },
                        "type": "scattercarpet"
                      }
                    ],
                    "scattergeo": [
                      {
                        "marker": {
                          "colorbar": {
                            "outlinewidth": 0,
                            "ticks": ""
                          }
                        },
                        "type": "scattergeo"
                      }
                    ],
                    "scattergl": [
                      {
                        "marker": {
                          "colorbar": {
                            "outlinewidth": 0,
                            "ticks": ""
                          }
                        },
                        "type": "scattergl"
                      }
                    ],
                    "scattermapbox": [
                      {
                        "marker": {
                          "colorbar": {
                            "outlinewidth": 0,
                            "ticks": ""
                          }
                        },
                        "type": "scattermapbox"
                      }
                    ],
                    "scatterpolar": [
                      {
                        "marker": {
                          "colorbar": {
                            "outlinewidth": 0,
                            "ticks": ""
                          }
                        },
                        "type": "scatterpolar"
                      }
                    ],
                    "scatterpolargl": [
                      {
                        "marker": {
                          "colorbar": {
                            "outlinewidth": 0,
                            "ticks": ""
                          }
                        },
                        "type": "scatterpolargl"
                      }
                    ],
                    "scatterternary": [
                      {
                        "marker": {
                          "colorbar": {
                            "outlinewidth": 0,
                            "ticks": ""
                          }
                        },
                        "type": "scatterternary"
                      }
                    ],
                    "surface": [
                      {
                        "colorbar": {
                          "outlinewidth": 0,
                          "ticks": ""
                        },
                        "colorscale": [
                          [
                            0,
                            "#0d0887"
                          ],
                          [
                            0.1111111111111111,
                            "#46039f"
                          ],
                          [
                            0.2222222222222222,
                            "#7201a8"
                          ],
                          [
                            0.3333333333333333,
                            "#9c179e"
                          ],
                          [
                            0.4444444444444444,
                            "#bd3786"
                          ],
                          [
                            0.5555555555555556,
                            "#d8576b"
                          ],
                          [
                            0.6666666666666666,
                            "#ed7953"
                          ],
                          [
                            0.7777777777777778,
                            "#fb9f3a"
                          ],
                          [
                            0.8888888888888888,
                            "#fdca26"
                          ],
                          [
                            1,
                            "#f0f921"
                          ]
                        ],
                        "type": "surface"
                      }
                    ],
                    "table": [
                      {
                        "cells": {
                          "fill": {
                            "color": "#EBF0F8"
                          },
                          "line": {
                            "color": "white"
                          }
                        },
                        "header": {
                          "fill": {
                            "color": "#C8D4E3"
                          },
                          "line": {
                            "color": "white"
                          }
                        },
                        "type": "table"
                      }
                    ]
                  },
                  "layout": {
                    "annotationdefaults": {
                      "arrowcolor": "#2a3f5f",
                      "arrowhead": 0,
                      "arrowwidth": 1
                    },
                    "autotypenumbers": "strict",
                    "coloraxis": {
                      "colorbar": {
                        "outlinewidth": 0,
                        "ticks": ""
                      }
                    },
                    "colorscale": {
                      "diverging": [
                        [
                          0,
                          "#8e0152"
                        ],
                        [
                          0.1,
                          "#c51b7d"
                        ],
                        [
                          0.2,
                          "#de77ae"
                        ],
                        [
                          0.3,
                          "#f1b6da"
                        ],
                        [
                          0.4,
                          "#fde0ef"
                        ],
                        [
                          0.5,
                          "#f7f7f7"
                        ],
                        [
                          0.6,
                          "#e6f5d0"
                        ],
                        [
                          0.7,
                          "#b8e186"
                        ],
                        [
                          0.8,
                          "#7fbc41"
                        ],
                        [
                          0.9,
                          "#4d9221"
                        ],
                        [
                          1,
                          "#276419"
                        ]
                      ],
                      "sequential": [
                        [
                          0,
                          "#0d0887"
                        ],
                        [
                          0.1111111111111111,
                          "#46039f"
                        ],
                        [
                          0.2222222222222222,
                          "#7201a8"
                        ],
                        [
                          0.3333333333333333,
                          "#9c179e"
                        ],
                        [
                          0.4444444444444444,
                          "#bd3786"
                        ],
                        [
                          0.5555555555555556,
                          "#d8576b"
                        ],
                        [
                          0.6666666666666666,
                          "#ed7953"
                        ],
                        [
                          0.7777777777777778,
                          "#fb9f3a"
                        ],
                        [
                          0.8888888888888888,
                          "#fdca26"
                        ],
                        [
                          1,
                          "#f0f921"
                        ]
                      ],
                      "sequentialminus": [
                        [
                          0,
                          "#0d0887"
                        ],
                        [
                          0.1111111111111111,
                          "#46039f"
                        ],
                        [
                          0.2222222222222222,
                          "#7201a8"
                        ],
                        [
                          0.3333333333333333,
                          "#9c179e"
                        ],
                        [
                          0.4444444444444444,
                          "#bd3786"
                        ],
                        [
                          0.5555555555555556,
                          "#d8576b"
                        ],
                        [
                          0.6666666666666666,
                          "#ed7953"
                        ],
                        [
                          0.7777777777777778,
                          "#fb9f3a"
                        ],
                        [
                          0.8888888888888888,
                          "#fdca26"
                        ],
                        [
                          1,
                          "#f0f921"
                        ]
                      ]
                    },
                    "colorway": [
                      "#636efa",
                      "#EF553B",
                      "#00cc96",
                      "#ab63fa",
                      "#FFA15A",
                      "#19d3f3",
                      "#FF6692",
                      "#B6E880",
                      "#FF97FF",
                      "#FECB52"
                    ],
                    "font": {
                      "color": "#2a3f5f"
                    },
                    "geo": {
                      "bgcolor": "white",
                      "lakecolor": "white",
                      "landcolor": "#E5ECF6",
                      "showlakes": true,
                      "showland": true,
                      "subunitcolor": "white"
                    },
                    "hoverlabel": {
                      "align": "left"
                    },
                    "hovermode": "closest",
                    "mapbox": {
                      "style": "light"
                    },
                    "paper_bgcolor": "white",
                    "plot_bgcolor": "#E5ECF6",
                    "polar": {
                      "angularaxis": {
                        "gridcolor": "white",
                        "linecolor": "white",
                        "ticks": ""
                      },
                      "bgcolor": "#E5ECF6",
                      "radialaxis": {
                        "gridcolor": "white",
                        "linecolor": "white",
                        "ticks": ""
                      }
                    },
                    "scene": {
                      "xaxis": {
                        "backgroundcolor": "#E5ECF6",
                        "gridcolor": "white",
                        "gridwidth": 2,
                        "linecolor": "white",
                        "showbackground": true,
                        "ticks": "",
                        "zerolinecolor": "white"
                      },
                      "yaxis": {
                        "backgroundcolor": "#E5ECF6",
                        "gridcolor": "white",
                        "gridwidth": 2,
                        "linecolor": "white",
                        "showbackground": true,
                        "ticks": "",
                        "zerolinecolor": "white"
                      },
                      "zaxis": {
                        "backgroundcolor": "#E5ECF6",
                        "gridcolor": "white",
                        "gridwidth": 2,
                        "linecolor": "white",
                        "showbackground": true,
                        "ticks": "",
                        "zerolinecolor": "white"
                      }
                    },
                    "shapedefaults": {
                      "line": {
                        "color": "#2a3f5f"
                      }
                    },
                    "ternary": {
                      "aaxis": {
                        "gridcolor": "white",
                        "linecolor": "white",
                        "ticks": ""
                      },
                      "baxis": {
                        "gridcolor": "white",
                        "linecolor": "white",
                        "ticks": ""
                      },
                      "bgcolor": "#E5ECF6",
                      "caxis": {
                        "gridcolor": "white",
                        "linecolor": "white",
                        "ticks": ""
                      }
                    },
                    "title": {
                      "x": 0.05
                    },
                    "xaxis": {
                      "automargin": true,
                      "gridcolor": "white",
                      "linecolor": "white",
                      "ticks": "",
                      "title": {
                        "standoff": 15
                      },
                      "zerolinecolor": "white",
                      "zerolinewidth": 2
                    },
                    "yaxis": {
                      "automargin": true,
                      "gridcolor": "white",
                      "linecolor": "white",
                      "ticks": "",
                      "title": {
                        "standoff": 15
                      },
                      "zerolinecolor": "white",
                      "zerolinewidth": 2
                    }
                  }
                },
                "title": {
                  "text": "Runtime of the top 10 longest movies"
                },
                "xaxis": {
                  "anchor": "y",
                  "autorange": true,
                  "domain": [
                    0,
                    1
                  ],
                  "range": [
                    -0.5,
                    9.5
                  ],
                  "title": {
                    "text": "Title"
                  },
                  "type": "category"
                },
                "yaxis": {
                  "anchor": "x",
                  "autorange": true,
                  "domain": [
                    0,
                    1
                  ],
                  "range": [
                    0,
                    377.89473684210526
                  ],
                  "title": {
                    "text": "Runtime"
                  },
                  "type": "linear"
                }
              }
            },
            "image/png": "[encoded data removed]",
            "text/html": [
              "<div>                            <div id=\"9b8213a4-5df5-4d8f-aea0-4a5c5799c5db\" class=\"plotly-graph-div\" style=\"height:500px; width:100%;\"></div>            <script type=\"text/javascript\">                require([\"plotly\"], function(Plotly) {                    window.PLOTLYENV=window.PLOTLYENV || {};                                    if (document.getElementById(\"9b8213a4-5df5-4d8f-aea0-4a5c5799c5db\")) {                    Plotly.newPlot(                        \"9b8213a4-5df5-4d8f-aea0-4a5c5799c5db\",                        [{\"alignmentgroup\":\"True\",\"hovertemplate\":\"Title=%{x}<br>Runtime=%{marker.color}<extra></extra>\",\"legendgroup\":\"\",\"marker\":{\"color\":[359.0,317.0,288.0,224.0,220.0,216.0,213.0,210.0,210.0,209.0],\"coloraxis\":\"coloraxis\",\"pattern\":{\"shape\":\"\"}},\"name\":\"\",\"offsetgroup\":\"\",\"orientation\":\"v\",\"showlegend\":false,\"textposition\":\"auto\",\"x\":[\"No Direction Home: Bob Dylan\",\"1900\",\"Red Cliff\",\"Lagaan: Once Upon a Time in India\",\"Jatt James Bond\",\"Mohabbatein\",\"Jodhaa Akbar\",\"Kabhi Khushi Kabhie Gham\",\"Swades\",\"The Irishman\"],\"xaxis\":\"x\",\"y\":[359.0,317.0,288.0,224.0,220.0,216.0,213.0,210.0,210.0,209.0],\"yaxis\":\"y\",\"type\":\"bar\"}],                        {\"template\":{\"data\":{\"histogram2dcontour\":[{\"type\":\"histogram2dcontour\",\"colorbar\":{\"outlinewidth\":0,\"ticks\":\"\"},\"colorscale\":[[0.0,\"#0d0887\"],[0.1111111111111111,\"#46039f\"],[0.2222222222222222,\"#7201a8\"],[0.3333333333333333,\"#9c179e\"],[0.4444444444444444,\"#bd3786\"],[0.5555555555555556,\"#d8576b\"],[0.6666666666666666,\"#ed7953\"],[0.7777777777777778,\"#fb9f3a\"],[0.8888888888888888,\"#fdca26\"],[1.0,\"#f0f921\"]]}],\"choropleth\":[{\"type\":\"choropleth\",\"colorbar\":{\"outlinewidth\":0,\"ticks\":\"\"}}],\"histogram2d\":[{\"type\":\"histogram2d\",\"colorbar\":{\"outlinewidth\":0,\"ticks\":\"\"},\"colorscale\":[[0.0,\"#0d0887\"],[0.1111111111111111,\"#46039f\"],[0.2222222222222222,\"#7201a8\"],[0.3333333333333333,\"#9c179e\"],[0.4444444444444444,\"#bd3786\"],[0.5555555555555556,\"#d8576b\"],[0.6666666666666666,\"#ed7953\"],[0.7777777777777778,\"#fb9f3a\"],[0.8888888888888888,\"#fdca26\"],[1.0,\"#f0f921\"]]}],\"heatmap\":[{\"type\":\"heatmap\",\"colorbar\":{\"outlinewidth\":0,\"ticks\":\"\"},\"colorscale\":[[0.0,\"#0d0887\"],[0.1111111111111111,\"#46039f\"],[0.2222222222222222,\"#7201a8\"],[0.3333333333333333,\"#9c179e\"],[0.4444444444444444,\"#bd3786\"],[0.5555555555555556,\"#d8576b\"],[0.6666666666666666,\"#ed7953\"],[0.7777777777777778,\"#fb9f3a\"],[0.8888888888888888,\"#fdca26\"],[1.0,\"#f0f921\"]]}],\"heatmapgl\":[{\"type\":\"heatmapgl\",\"colorbar\":{\"outlinewidth\":0,\"ticks\":\"\"},\"colorscale\":[[0.0,\"#0d0887\"],[0.1111111111111111,\"#46039f\"],[0.2222222222222222,\"#7201a8\"],[0.3333333333333333,\"#9c179e\"],[0.4444444444444444,\"#bd3786\"],[0.5555555555555556,\"#d8576b\"],[0.6666666666666666,\"#ed7953\"],[0.7777777777777778,\"#fb9f3a\"],[0.8888888888888888,\"#fdca26\"],[1.0,\"#f0f921\"]]}],\"contourcarpet\":[{\"type\":\"contourcarpet\",\"colorbar\":{\"outlinewidth\":0,\"ticks\":\"\"}}],\"contour\":[{\"type\":\"contour\",\"colorbar\":{\"outlinewidth\":0,\"ticks\":\"\"},\"colorscale\":[[0.0,\"#0d0887\"],[0.1111111111111111,\"#46039f\"],[0.2222222222222222,\"#7201a8\"],[0.3333333333333333,\"#9c179e\"],[0.4444444444444444,\"#bd3786\"],[0.5555555555555556,\"#d8576b\"],[0.6666666666666666,\"#ed7953\"],[0.7777777777777778,\"#fb9f3a\"],[0.8888888888888888,\"#fdca26\"],[1.0,\"#f0f921\"]]}],\"surface\":[{\"type\":\"surface\",\"colorbar\":{\"outlinewidth\":0,\"ticks\":\"\"},\"colorscale\":[[0.0,\"#0d0887\"],[0.1111111111111111,\"#46039f\"],[0.2222222222222222,\"#7201a8\"],[0.3333333333333333,\"#9c179e\"],[0.4444444444444444,\"#bd3786\"],[0.5555555555555556,\"#d8576b\"],[0.6666666666666666,\"#ed7953\"],[0.7777777777777778,\"#fb9f3a\"],[0.8888888888888888,\"#fdca26\"],[1.0,\"#f0f921\"]]}],\"mesh3d\":[{\"type\":\"mesh3d\",\"colorbar\":{\"outlinewidth\":0,\"ticks\":\"\"}}],\"scatter\":[{\"fillpattern\":{\"fillmode\":\"overlay\",\"size\":10,\"solidity\":0.2},\"type\":\"scatter\"}],\"parcoords\":[{\"type\":\"parcoords\",\"line\":{\"colorbar\":{\"outlinewidth\":0,\"ticks\":\"\"}}}],\"scatterpolargl\":[{\"type\":\"scatterpolargl\",\"marker\":{\"colorbar\":{\"outlinewidth\":0,\"ticks\":\"\"}}}],\"bar\":[{\"error_x\":{\"color\":\"#2a3f5f\"},\"error_y\":{\"color\":\"#2a3f5f\"},\"marker\":{\"line\":{\"color\":\"#E5ECF6\",\"width\":0.5},\"pattern\":{\"fillmode\":\"overlay\",\"size\":10,\"solidity\":0.2}},\"type\":\"bar\"}],\"scattergeo\":[{\"type\":\"scattergeo\",\"marker\":{\"colorbar\":{\"outlinewidth\":0,\"ticks\":\"\"}}}],\"scatterpolar\":[{\"type\":\"scatterpolar\",\"marker\":{\"colorbar\":{\"outlinewidth\":0,\"ticks\":\"\"}}}],\"histogram\":[{\"marker\":{\"pattern\":{\"fillmode\":\"overlay\",\"size\":10,\"solidity\":0.2}},\"type\":\"histogram\"}],\"scattergl\":[{\"type\":\"scattergl\",\"marker\":{\"colorbar\":{\"outlinewidth\":0,\"ticks\":\"\"}}}],\"scatter3d\":[{\"type\":\"scatter3d\",\"line\":{\"colorbar\":{\"outlinewidth\":0,\"ticks\":\"\"}},\"marker\":{\"colorbar\":{\"outlinewidth\":0,\"ticks\":\"\"}}}],\"scattermapbox\":[{\"type\":\"scattermapbox\",\"marker\":{\"colorbar\":{\"outlinewidth\":0,\"ticks\":\"\"}}}],\"scatterternary\":[{\"type\":\"scatterternary\",\"marker\":{\"colorbar\":{\"outlinewidth\":0,\"ticks\":\"\"}}}],\"scattercarpet\":[{\"type\":\"scattercarpet\",\"marker\":{\"colorbar\":{\"outlinewidth\":0,\"ticks\":\"\"}}}],\"carpet\":[{\"aaxis\":{\"endlinecolor\":\"#2a3f5f\",\"gridcolor\":\"white\",\"linecolor\":\"white\",\"minorgridcolor\":\"white\",\"startlinecolor\":\"#2a3f5f\"},\"baxis\":{\"endlinecolor\":\"#2a3f5f\",\"gridcolor\":\"white\",\"linecolor\":\"white\",\"minorgridcolor\":\"white\",\"startlinecolor\":\"#2a3f5f\"},\"type\":\"carpet\"}],\"table\":[{\"cells\":{\"fill\":{\"color\":\"#EBF0F8\"},\"line\":{\"color\":\"white\"}},\"header\":{\"fill\":{\"color\":\"#C8D4E3\"},\"line\":{\"color\":\"white\"}},\"type\":\"table\"}],\"barpolar\":[{\"marker\":{\"line\":{\"color\":\"#E5ECF6\",\"width\":0.5},\"pattern\":{\"fillmode\":\"overlay\",\"size\":10,\"solidity\":0.2}},\"type\":\"barpolar\"}],\"pie\":[{\"automargin\":true,\"type\":\"pie\"}]},\"layout\":{\"autotypenumbers\":\"strict\",\"colorway\":[\"#636efa\",\"#EF553B\",\"#00cc96\",\"#ab63fa\",\"#FFA15A\",\"#19d3f3\",\"#FF6692\",\"#B6E880\",\"#FF97FF\",\"#FECB52\"],\"font\":{\"color\":\"#2a3f5f\"},\"hovermode\":\"closest\",\"hoverlabel\":{\"align\":\"left\"},\"paper_bgcolor\":\"white\",\"plot_bgcolor\":\"#E5ECF6\",\"polar\":{\"bgcolor\":\"#E5ECF6\",\"angularaxis\":{\"gridcolor\":\"white\",\"linecolor\":\"white\",\"ticks\":\"\"},\"radialaxis\":{\"gridcolor\":\"white\",\"linecolor\":\"white\",\"ticks\":\"\"}},\"ternary\":{\"bgcolor\":\"#E5ECF6\",\"aaxis\":{\"gridcolor\":\"white\",\"linecolor\":\"white\",\"ticks\":\"\"},\"baxis\":{\"gridcolor\":\"white\",\"linecolor\":\"white\",\"ticks\":\"\"},\"caxis\":{\"gridcolor\":\"white\",\"linecolor\":\"white\",\"ticks\":\"\"}},\"coloraxis\":{\"colorbar\":{\"outlinewidth\":0,\"ticks\":\"\"}},\"colorscale\":{\"sequential\":[[0.0,\"#0d0887\"],[0.1111111111111111,\"#46039f\"],[0.2222222222222222,\"#7201a8\"],[0.3333333333333333,\"#9c179e\"],[0.4444444444444444,\"#bd3786\"],[0.5555555555555556,\"#d8576b\"],[0.6666666666666666,\"#ed7953\"],[0.7777777777777778,\"#fb9f3a\"],[0.8888888888888888,\"#fdca26\"],[1.0,\"#f0f921\"]],\"sequentialminus\":[[0.0,\"#0d0887\"],[0.1111111111111111,\"#46039f\"],[0.2222222222222222,\"#7201a8\"],[0.3333333333333333,\"#9c179e\"],[0.4444444444444444,\"#bd3786\"],[0.5555555555555556,\"#d8576b\"],[0.6666666666666666,\"#ed7953\"],[0.7777777777777778,\"#fb9f3a\"],[0.8888888888888888,\"#fdca26\"],[1.0,\"#f0f921\"]],\"diverging\":[[0,\"#8e0152\"],[0.1,\"#c51b7d\"],[0.2,\"#de77ae\"],[0.3,\"#f1b6da\"],[0.4,\"#fde0ef\"],[0.5,\"#f7f7f7\"],[0.6,\"#e6f5d0\"],[0.7,\"#b8e186\"],[0.8,\"#7fbc41\"],[0.9,\"#4d9221\"],[1,\"#276419\"]]},\"xaxis\":{\"gridcolor\":\"white\",\"linecolor\":\"white\",\"ticks\":\"\",\"title\":{\"standoff\":15},\"zerolinecolor\":\"white\",\"automargin\":true,\"zerolinewidth\":2},\"yaxis\":{\"gridcolor\":\"white\",\"linecolor\":\"white\",\"ticks\":\"\",\"title\":{\"standoff\":15},\"zerolinecolor\":\"white\",\"automargin\":true,\"zerolinewidth\":2},\"scene\":{\"xaxis\":{\"backgroundcolor\":\"#E5ECF6\",\"gridcolor\":\"white\",\"linecolor\":\"white\",\"showbackground\":true,\"ticks\":\"\",\"zerolinecolor\":\"white\",\"gridwidth\":2},\"yaxis\":{\"backgroundcolor\":\"#E5ECF6\",\"gridcolor\":\"white\",\"linecolor\":\"white\",\"showbackground\":true,\"ticks\":\"\",\"zerolinecolor\":\"white\",\"gridwidth\":2},\"zaxis\":{\"backgroundcolor\":\"#E5ECF6\",\"gridcolor\":\"white\",\"linecolor\":\"white\",\"showbackground\":true,\"ticks\":\"\",\"zerolinecolor\":\"white\",\"gridwidth\":2}},\"shapedefaults\":{\"line\":{\"color\":\"#2a3f5f\"}},\"annotationdefaults\":{\"arrowcolor\":\"#2a3f5f\",\"arrowhead\":0,\"arrowwidth\":1},\"geo\":{\"bgcolor\":\"white\",\"landcolor\":\"#E5ECF6\",\"subunitcolor\":\"white\",\"showland\":true,\"showlakes\":true,\"lakecolor\":\"white\"},\"title\":{\"x\":0.05},\"mapbox\":{\"style\":\"light\"}}},\"xaxis\":{\"anchor\":\"y\",\"domain\":[0.0,1.0],\"title\":{\"text\":\"Title\"}},\"yaxis\":{\"anchor\":\"x\",\"domain\":[0.0,1.0],\"title\":{\"text\":\"Runtime\"}},\"coloraxis\":{\"colorbar\":{\"title\":{\"text\":\"Runtime\"}},\"colorscale\":[[0.0,\"#0d0887\"],[0.1111111111111111,\"#46039f\"],[0.2222222222222222,\"#7201a8\"],[0.3333333333333333,\"#9c179e\"],[0.4444444444444444,\"#bd3786\"],[0.5555555555555556,\"#d8576b\"],[0.6666666666666666,\"#ed7953\"],[0.7777777777777778,\"#fb9f3a\"],[0.8888888888888888,\"#fdca26\"],[1.0,\"#f0f921\"]]},\"legend\":{\"tracegroupgap\":0},\"title\":{\"text\":\"Runtime of the top 10 longest movies\"},\"barmode\":\"relative\",\"height\":500},                        {\"responsive\": true}                    ).then(function(){\n",
              "                            \n",
              "var gd = document.getElementById('9b8213a4-5df5-4d8f-aea0-4a5c5799c5db');\n",
              "var x = new MutationObserver(function (mutations, observer) {{\n",
              "        var display = window.getComputedStyle(gd).display;\n",
              "        if (!display || display === 'none') {{\n",
              "            console.log([gd, 'removed!']);\n",
              "            Plotly.purge(gd);\n",
              "            observer.disconnect();\n",
              "        }}\n",
              "}});\n",
              "\n",
              "// Listen for the removal of the full notebook cells\n",
              "var notebookContainer = gd.closest('#notebook-container');\n",
              "if (notebookContainer) {{\n",
              "    x.observe(notebookContainer, {childList: true});\n",
              "}}\n",
              "\n",
              "// Listen for the clearing of the current output cell\n",
              "var outputEl = gd.closest('.output');\n",
              "if (outputEl) {{\n",
              "    x.observe(outputEl, {childList: true});\n",
              "}}\n",
              "\n",
              "                        })                };                });            </script>        </div>"
            ]
          },
          "metadata": {},
          "output_type": "display_data"
        }
      ],
      "source": [
        "longest_movies = df.sort_values('Runtime',ascending = False).head(10)\n",
        "fig = px.bar(longest_movies, x ='Title', y ='Runtime', color ='Runtime', height = 500, title ='Runtime of the top 10 longest movies')\n",
        "fig.show()"
      ]
    },
    {
      "cell_type": "code",
      "execution_count": null,
      "id": "8a3fd7b4-119c-4d5c-b74b-4790b586e7c2",
      "metadata": {
        "id": "8a3fd7b4-119c-4d5c-b74b-4790b586e7c2",
        "outputId": "80489f64-7eeb-477e-d794-f8dafaab6a24"
      },
      "outputs": [
        {
          "data": {
            "image/png": "[encoded data removed]",
            "text/plain": [
              "<Figure size 504x504 with 1 Axes>"
            ]
          },
          "metadata": {
            "needs_background": "light"
          },
          "output_type": "display_data"
        }
      ],
      "source": [
        "df = df.sort_values(by = 'Rotten_Tomatoes', ascending = False)\n",
        "rating = df[0:20]\n",
        "sns.catplot(x = 'Rotten_Tomatoes', y = 'Directors',data = rating, palette = netflix_p,height=7,kind=\"point\");"
      ]
    },
    {
      "cell_type": "code",
      "execution_count": null,
      "id": "6e76ca14-00af-4121-85d4-392a427e2d55",
      "metadata": {
        "id": "6e76ca14-00af-4121-85d4-392a427e2d55"
      },
      "outputs": [],
      "source": [
        "def splitting(dataframe,col):\n",
        "    result = dataframe[col].str.get_dummies(',')\n",
        "    print('Done!')\n",
        "    return result"
      ]
    },
    {
      "cell_type": "code",
      "execution_count": null,
      "id": "fc22779f-a294-405e-9819-acb9073654f0",
      "metadata": {
        "id": "fc22779f-a294-405e-9819-acb9073654f0",
        "outputId": "68a7084f-a608-4959-a90d-8afbc36a6147"
      },
      "outputs": [
        {
          "name": "stdout",
          "output_type": "stream",
          "text": [
            "Done!\n",
            "Done!\n"
          ]
        }
      ],
      "source": [
        "genres = splitting(df,'Genres')\n",
        "lang = splitting(df,'Language')"
      ]
    },
    {
      "cell_type": "markdown",
      "id": "be1dad22-7771-44f6-b3b5-be1537b1005c",
      "metadata": {
        "id": "be1dad22-7771-44f6-b3b5-be1537b1005c"
      },
      "source": [
        "- Languages and genres of movies on all platforms"
      ]
    },
    {
      "cell_type": "code",
      "execution_count": null,
      "id": "7a778d78-4f8c-4478-a505-d11866927f8a",
      "metadata": {
        "id": "7a778d78-4f8c-4478-a505-d11866927f8a"
      },
      "outputs": [],
      "source": [
        "df_l_merged = pd.concat([df,lang], axis = 1, sort = False)\n",
        "df_g_merged = pd.concat([df, genres], axis = 1, sort = False)"
      ]
    },
    {
      "cell_type": "code",
      "execution_count": null,
      "id": "0b36b8d2-c9a0-4bc8-a66b-033ef00e4283",
      "metadata": {
        "id": "0b36b8d2-c9a0-4bc8-a66b-033ef00e4283"
      },
      "outputs": [],
      "source": [
        "def bar(dataframe,platform,c):\n",
        "    dataframe=dataframe.loc[dataframe[platform] == 1]\n",
        "    val_counts = dataframe.iloc[:,15:].sum(axis=0).sort_values(ascending = False)\n",
        "    val_counts2 = pd.DataFrame(val_counts,columns=['Number of movies' ])\n",
        "    return val_counts2[0:20].style.bar(subset=[\"Number of movies\", ], color = c)"
      ]
    },
    {
      "cell_type": "code",
      "execution_count": null,
      "id": "1fe9aaa8-cd5b-45fc-9f0f-e6cbb3611c75",
      "metadata": {
        "id": "1fe9aaa8-cd5b-45fc-9f0f-e6cbb3611c75",
        "outputId": "8df05160-92f3-4db5-9b4e-eacd20d0bfa5"
      },
      "outputs": [
        {
          "data": {
            "text/html": [
              "<style type=\"text/css\">\n",
              "#T_b4fa6_row0_col0 {\n",
              "  width: 10em;\n",
              "  background: linear-gradient(90deg, #ff6b6b 100.0%, transparent 100.0%);\n",
              "}\n",
              "#T_b4fa6_row1_col0 {\n",
              "  width: 10em;\n",
              "  background: linear-gradient(90deg, #ff6b6b 14.0%, transparent 14.0%);\n",
              "}\n",
              "#T_b4fa6_row2_col0 {\n",
              "  width: 10em;\n",
              "  background: linear-gradient(90deg, #ff6b6b 13.4%, transparent 13.4%);\n",
              "}\n",
              "#T_b4fa6_row3_col0 {\n",
              "  width: 10em;\n",
              "  background: linear-gradient(90deg, #ff6b6b 10.1%, transparent 10.1%);\n",
              "}\n",
              "#T_b4fa6_row4_col0 {\n",
              "  width: 10em;\n",
              "  background: linear-gradient(90deg, #ff6b6b 4.8%, transparent 4.8%);\n",
              "}\n",
              "#T_b4fa6_row5_col0 {\n",
              "  width: 10em;\n",
              "  background: linear-gradient(90deg, #ff6b6b 4.7%, transparent 4.7%);\n",
              "}\n",
              "#T_b4fa6_row6_col0 {\n",
              "  width: 10em;\n",
              "  background: linear-gradient(90deg, #ff6b6b 3.8%, transparent 3.8%);\n",
              "}\n",
              "#T_b4fa6_row7_col0 {\n",
              "  width: 10em;\n",
              "  background: linear-gradient(90deg, #ff6b6b 3.1%, transparent 3.1%);\n",
              "}\n",
              "#T_b4fa6_row8_col0 {\n",
              "  width: 10em;\n",
              "  background: linear-gradient(90deg, #ff6b6b 2.8%, transparent 2.8%);\n",
              "}\n",
              "#T_b4fa6_row9_col0 {\n",
              "  width: 10em;\n",
              "  background: linear-gradient(90deg, #ff6b6b 2.7%, transparent 2.7%);\n",
              "}\n",
              "#T_b4fa6_row10_col0 {\n",
              "  width: 10em;\n",
              "  background: linear-gradient(90deg, #ff6b6b 2.4%, transparent 2.4%);\n",
              "}\n",
              "#T_b4fa6_row11_col0, #T_b4fa6_row12_col0 {\n",
              "  width: 10em;\n",
              "  background: linear-gradient(90deg, #ff6b6b 1.8%, transparent 1.8%);\n",
              "}\n",
              "#T_b4fa6_row13_col0 {\n",
              "  width: 10em;\n",
              "  background: linear-gradient(90deg, #ff6b6b 1.7%, transparent 1.7%);\n",
              "}\n",
              "#T_b4fa6_row14_col0 {\n",
              "  width: 10em;\n",
              "  background: linear-gradient(90deg, #ff6b6b 1.6%, transparent 1.6%);\n",
              "}\n",
              "#T_b4fa6_row15_col0, #T_b4fa6_row16_col0 {\n",
              "  width: 10em;\n",
              "  background: linear-gradient(90deg, #ff6b6b 1.5%, transparent 1.5%);\n",
              "}\n",
              "#T_b4fa6_row17_col0, #T_b4fa6_row18_col0 {\n",
              "  width: 10em;\n",
              "  background: linear-gradient(90deg, #ff6b6b 1.4%, transparent 1.4%);\n",
              "}\n",
              "#T_b4fa6_row19_col0 {\n",
              "  width: 10em;\n",
              "  background: linear-gradient(90deg, #ff6b6b 1.3%, transparent 1.3%);\n",
              "}\n",
              "</style>\n",
              "<table id=\"T_b4fa6\">\n",
              "  <thead>\n",
              "    <tr>\n",
              "      <th class=\"blank level0\" >&nbsp;</th>\n",
              "      <th id=\"T_b4fa6_level0_col0\" class=\"col_heading level0 col0\" >Number of movies</th>\n",
              "    </tr>\n",
              "  </thead>\n",
              "  <tbody>\n",
              "    <tr>\n",
              "      <th id=\"T_b4fa6_level0_row0\" class=\"row_heading level0 row0\" >English</th>\n",
              "      <td id=\"T_b4fa6_row0_col0\" class=\"data row0 col0\" >1360</td>\n",
              "    </tr>\n",
              "    <tr>\n",
              "      <th id=\"T_b4fa6_level0_row1\" class=\"row_heading level0 row1\" >Spanish</th>\n",
              "      <td id=\"T_b4fa6_row1_col0\" class=\"data row1 col0\" >190</td>\n",
              "    </tr>\n",
              "    <tr>\n",
              "      <th id=\"T_b4fa6_level0_row2\" class=\"row_heading level0 row2\" >Hindi</th>\n",
              "      <td id=\"T_b4fa6_row2_col0\" class=\"data row2 col0\" >182</td>\n",
              "    </tr>\n",
              "    <tr>\n",
              "      <th id=\"T_b4fa6_level0_row3\" class=\"row_heading level0 row3\" >French</th>\n",
              "      <td id=\"T_b4fa6_row3_col0\" class=\"data row3 col0\" >138</td>\n",
              "    </tr>\n",
              "    <tr>\n",
              "      <th id=\"T_b4fa6_level0_row4\" class=\"row_heading level0 row4\" >German</th>\n",
              "      <td id=\"T_b4fa6_row4_col0\" class=\"data row4 col0\" >65</td>\n",
              "    </tr>\n",
              "    <tr>\n",
              "      <th id=\"T_b4fa6_level0_row5\" class=\"row_heading level0 row5\" >Japanese</th>\n",
              "      <td id=\"T_b4fa6_row5_col0\" class=\"data row5 col0\" >64</td>\n",
              "    </tr>\n",
              "    <tr>\n",
              "      <th id=\"T_b4fa6_level0_row6\" class=\"row_heading level0 row6\" >Italian</th>\n",
              "      <td id=\"T_b4fa6_row6_col0\" class=\"data row6 col0\" >51</td>\n",
              "    </tr>\n",
              "    <tr>\n",
              "      <th id=\"T_b4fa6_level0_row7\" class=\"row_heading level0 row7\" >Mandarin</th>\n",
              "      <td id=\"T_b4fa6_row7_col0\" class=\"data row7 col0\" >42</td>\n",
              "    </tr>\n",
              "    <tr>\n",
              "      <th id=\"T_b4fa6_level0_row8\" class=\"row_heading level0 row8\" >Russian</th>\n",
              "      <td id=\"T_b4fa6_row8_col0\" class=\"data row8 col0\" >38</td>\n",
              "    </tr>\n",
              "    <tr>\n",
              "      <th id=\"T_b4fa6_level0_row9\" class=\"row_heading level0 row9\" >Arabic</th>\n",
              "      <td id=\"T_b4fa6_row9_col0\" class=\"data row9 col0\" >37</td>\n",
              "    </tr>\n",
              "    <tr>\n",
              "      <th id=\"T_b4fa6_level0_row10\" class=\"row_heading level0 row10\" >Turkish</th>\n",
              "      <td id=\"T_b4fa6_row10_col0\" class=\"data row10 col0\" >32</td>\n",
              "    </tr>\n",
              "    <tr>\n",
              "      <th id=\"T_b4fa6_level0_row11\" class=\"row_heading level0 row11\" >Filipino</th>\n",
              "      <td id=\"T_b4fa6_row11_col0\" class=\"data row11 col0\" >25</td>\n",
              "    </tr>\n",
              "    <tr>\n",
              "      <th id=\"T_b4fa6_level0_row12\" class=\"row_heading level0 row12\" >Chinese</th>\n",
              "      <td id=\"T_b4fa6_row12_col0\" class=\"data row12 col0\" >25</td>\n",
              "    </tr>\n",
              "    <tr>\n",
              "      <th id=\"T_b4fa6_level0_row13\" class=\"row_heading level0 row13\" >Cantonese</th>\n",
              "      <td id=\"T_b4fa6_row13_col0\" class=\"data row13 col0\" >23</td>\n",
              "    </tr>\n",
              "    <tr>\n",
              "      <th id=\"T_b4fa6_level0_row14\" class=\"row_heading level0 row14\" >Punjabi</th>\n",
              "      <td id=\"T_b4fa6_row14_col0\" class=\"data row14 col0\" >22</td>\n",
              "    </tr>\n",
              "    <tr>\n",
              "      <th id=\"T_b4fa6_level0_row15\" class=\"row_heading level0 row15\" >Tagalog</th>\n",
              "      <td id=\"T_b4fa6_row15_col0\" class=\"data row15 col0\" >21</td>\n",
              "    </tr>\n",
              "    <tr>\n",
              "      <th id=\"T_b4fa6_level0_row16\" class=\"row_heading level0 row16\" >Latin</th>\n",
              "      <td id=\"T_b4fa6_row16_col0\" class=\"data row16 col0\" >20</td>\n",
              "    </tr>\n",
              "    <tr>\n",
              "      <th id=\"T_b4fa6_level0_row17\" class=\"row_heading level0 row17\" >Tamil</th>\n",
              "      <td id=\"T_b4fa6_row17_col0\" class=\"data row17 col0\" >19</td>\n",
              "    </tr>\n",
              "    <tr>\n",
              "      <th id=\"T_b4fa6_level0_row18\" class=\"row_heading level0 row18\" >Portuguese</th>\n",
              "      <td id=\"T_b4fa6_row18_col0\" class=\"data row18 col0\" >19</td>\n",
              "    </tr>\n",
              "    <tr>\n",
              "      <th id=\"T_b4fa6_level0_row19\" class=\"row_heading level0 row19\" >Korean</th>\n",
              "      <td id=\"T_b4fa6_row19_col0\" class=\"data row19 col0\" >18</td>\n",
              "    </tr>\n",
              "  </tbody>\n",
              "</table>\n"
            ],
            "text/plain": [
              "<pandas.io.formats.style.Styler at 0x7fe68abe8a00>"
            ]
          },
          "execution_count": 119,
          "metadata": {},
          "output_type": "execute_result"
        }
      ],
      "source": [
        "bar(df_l_merged,'Netflix','#ff6b6b')"
      ]
    },
    {
      "cell_type": "code",
      "execution_count": null,
      "id": "cb980b81-b33e-4964-b878-dcbb91fb7df9",
      "metadata": {
        "id": "cb980b81-b33e-4964-b878-dcbb91fb7df9",
        "outputId": "9784e7e5-9196-4b2b-939b-eef32b8ea566"
      },
      "outputs": [
        {
          "data": {
            "text/html": [
              "<style type=\"text/css\">\n",
              "#T_1b4f1_row0_col0 {\n",
              "  width: 10em;\n",
              "  background: linear-gradient(90deg, #ff6b6b 100.0%, transparent 100.0%);\n",
              "}\n",
              "#T_1b4f1_row1_col0 {\n",
              "  width: 10em;\n",
              "  background: linear-gradient(90deg, #ff6b6b 90.1%, transparent 90.1%);\n",
              "}\n",
              "#T_1b4f1_row2_col0 {\n",
              "  width: 10em;\n",
              "  background: linear-gradient(90deg, #ff6b6b 51.5%, transparent 51.5%);\n",
              "}\n",
              "#T_1b4f1_row3_col0 {\n",
              "  width: 10em;\n",
              "  background: linear-gradient(90deg, #ff6b6b 43.4%, transparent 43.4%);\n",
              "}\n",
              "#T_1b4f1_row4_col0 {\n",
              "  width: 10em;\n",
              "  background: linear-gradient(90deg, #ff6b6b 39.5%, transparent 39.5%);\n",
              "}\n",
              "#T_1b4f1_row5_col0 {\n",
              "  width: 10em;\n",
              "  background: linear-gradient(90deg, #ff6b6b 31.0%, transparent 31.0%);\n",
              "}\n",
              "#T_1b4f1_row6_col0 {\n",
              "  width: 10em;\n",
              "  background: linear-gradient(90deg, #ff6b6b 27.4%, transparent 27.4%);\n",
              "}\n",
              "#T_1b4f1_row7_col0 {\n",
              "  width: 10em;\n",
              "  background: linear-gradient(90deg, #ff6b6b 24.8%, transparent 24.8%);\n",
              "}\n",
              "#T_1b4f1_row8_col0, #T_1b4f1_row9_col0 {\n",
              "  width: 10em;\n",
              "  background: linear-gradient(90deg, #ff6b6b 19.6%, transparent 19.6%);\n",
              "}\n",
              "#T_1b4f1_row10_col0 {\n",
              "  width: 10em;\n",
              "  background: linear-gradient(90deg, #ff6b6b 18.7%, transparent 18.7%);\n",
              "}\n",
              "#T_1b4f1_row11_col0 {\n",
              "  width: 10em;\n",
              "  background: linear-gradient(90deg, #ff6b6b 17.0%, transparent 17.0%);\n",
              "}\n",
              "#T_1b4f1_row12_col0 {\n",
              "  width: 10em;\n",
              "  background: linear-gradient(90deg, #ff6b6b 16.7%, transparent 16.7%);\n",
              "}\n",
              "#T_1b4f1_row13_col0 {\n",
              "  width: 10em;\n",
              "  background: linear-gradient(90deg, #ff6b6b 15.5%, transparent 15.5%);\n",
              "}\n",
              "#T_1b4f1_row14_col0 {\n",
              "  width: 10em;\n",
              "  background: linear-gradient(90deg, #ff6b6b 14.6%, transparent 14.6%);\n",
              "}\n",
              "#T_1b4f1_row15_col0 {\n",
              "  width: 10em;\n",
              "  background: linear-gradient(90deg, #ff6b6b 9.5%, transparent 9.5%);\n",
              "}\n",
              "#T_1b4f1_row16_col0 {\n",
              "  width: 10em;\n",
              "  background: linear-gradient(90deg, #ff6b6b 9.2%, transparent 9.2%);\n",
              "}\n",
              "#T_1b4f1_row17_col0 {\n",
              "  width: 10em;\n",
              "  background: linear-gradient(90deg, #ff6b6b 8.7%, transparent 8.7%);\n",
              "}\n",
              "#T_1b4f1_row18_col0 {\n",
              "  width: 10em;\n",
              "  background: linear-gradient(90deg, #ff6b6b 7.1%, transparent 7.1%);\n",
              "}\n",
              "#T_1b4f1_row19_col0 {\n",
              "  width: 10em;\n",
              "  background: linear-gradient(90deg, #ff6b6b 5.9%, transparent 5.9%);\n",
              "}\n",
              "</style>\n",
              "<table id=\"T_1b4f1\">\n",
              "  <thead>\n",
              "    <tr>\n",
              "      <th class=\"blank level0\" >&nbsp;</th>\n",
              "      <th id=\"T_1b4f1_level0_col0\" class=\"col_heading level0 col0\" >Number of movies</th>\n",
              "    </tr>\n",
              "  </thead>\n",
              "  <tbody>\n",
              "    <tr>\n",
              "      <th id=\"T_1b4f1_level0_row0\" class=\"row_heading level0 row0\" >Drama</th>\n",
              "      <td id=\"T_1b4f1_row0_col0\" class=\"data row0 col0\" >851</td>\n",
              "    </tr>\n",
              "    <tr>\n",
              "      <th id=\"T_1b4f1_level0_row1\" class=\"row_heading level0 row1\" >Comedy</th>\n",
              "      <td id=\"T_1b4f1_row1_col0\" class=\"data row1 col0\" >767</td>\n",
              "    </tr>\n",
              "    <tr>\n",
              "      <th id=\"T_1b4f1_level0_row2\" class=\"row_heading level0 row2\" >Thriller</th>\n",
              "      <td id=\"T_1b4f1_row2_col0\" class=\"data row2 col0\" >438</td>\n",
              "    </tr>\n",
              "    <tr>\n",
              "      <th id=\"T_1b4f1_level0_row3\" class=\"row_heading level0 row3\" >Action</th>\n",
              "      <td id=\"T_1b4f1_row3_col0\" class=\"data row3 col0\" >369</td>\n",
              "    </tr>\n",
              "    <tr>\n",
              "      <th id=\"T_1b4f1_level0_row4\" class=\"row_heading level0 row4\" >Romance</th>\n",
              "      <td id=\"T_1b4f1_row4_col0\" class=\"data row4 col0\" >336</td>\n",
              "    </tr>\n",
              "    <tr>\n",
              "      <th id=\"T_1b4f1_level0_row5\" class=\"row_heading level0 row5\" >Crime</th>\n",
              "      <td id=\"T_1b4f1_row5_col0\" class=\"data row5 col0\" >264</td>\n",
              "    </tr>\n",
              "    <tr>\n",
              "      <th id=\"T_1b4f1_level0_row6\" class=\"row_heading level0 row6\" >Adventure</th>\n",
              "      <td id=\"T_1b4f1_row6_col0\" class=\"data row6 col0\" >233</td>\n",
              "    </tr>\n",
              "    <tr>\n",
              "      <th id=\"T_1b4f1_level0_row7\" class=\"row_heading level0 row7\" >Family</th>\n",
              "      <td id=\"T_1b4f1_row7_col0\" class=\"data row7 col0\" >211</td>\n",
              "    </tr>\n",
              "    <tr>\n",
              "      <th id=\"T_1b4f1_level0_row8\" class=\"row_heading level0 row8\" >Mystery</th>\n",
              "      <td id=\"T_1b4f1_row8_col0\" class=\"data row8 col0\" >167</td>\n",
              "    </tr>\n",
              "    <tr>\n",
              "      <th id=\"T_1b4f1_level0_row9\" class=\"row_heading level0 row9\" >Fantasy</th>\n",
              "      <td id=\"T_1b4f1_row9_col0\" class=\"data row9 col0\" >167</td>\n",
              "    </tr>\n",
              "    <tr>\n",
              "      <th id=\"T_1b4f1_level0_row10\" class=\"row_heading level0 row10\" >Documentary</th>\n",
              "      <td id=\"T_1b4f1_row10_col0\" class=\"data row10 col0\" >159</td>\n",
              "    </tr>\n",
              "    <tr>\n",
              "      <th id=\"T_1b4f1_level0_row11\" class=\"row_heading level0 row11\" >Animation</th>\n",
              "      <td id=\"T_1b4f1_row11_col0\" class=\"data row11 col0\" >145</td>\n",
              "    </tr>\n",
              "    <tr>\n",
              "      <th id=\"T_1b4f1_level0_row12\" class=\"row_heading level0 row12\" >Horror</th>\n",
              "      <td id=\"T_1b4f1_row12_col0\" class=\"data row12 col0\" >142</td>\n",
              "    </tr>\n",
              "    <tr>\n",
              "      <th id=\"T_1b4f1_level0_row13\" class=\"row_heading level0 row13\" >Sci-Fi</th>\n",
              "      <td id=\"T_1b4f1_row13_col0\" class=\"data row13 col0\" >132</td>\n",
              "    </tr>\n",
              "    <tr>\n",
              "      <th id=\"T_1b4f1_level0_row14\" class=\"row_heading level0 row14\" >Biography</th>\n",
              "      <td id=\"T_1b4f1_row14_col0\" class=\"data row14 col0\" >124</td>\n",
              "    </tr>\n",
              "    <tr>\n",
              "      <th id=\"T_1b4f1_level0_row15\" class=\"row_heading level0 row15\" >Music</th>\n",
              "      <td id=\"T_1b4f1_row15_col0\" class=\"data row15 col0\" >81</td>\n",
              "    </tr>\n",
              "    <tr>\n",
              "      <th id=\"T_1b4f1_level0_row16\" class=\"row_heading level0 row16\" >Sport</th>\n",
              "      <td id=\"T_1b4f1_row16_col0\" class=\"data row16 col0\" >78</td>\n",
              "    </tr>\n",
              "    <tr>\n",
              "      <th id=\"T_1b4f1_level0_row17\" class=\"row_heading level0 row17\" >History</th>\n",
              "      <td id=\"T_1b4f1_row17_col0\" class=\"data row17 col0\" >74</td>\n",
              "    </tr>\n",
              "    <tr>\n",
              "      <th id=\"T_1b4f1_level0_row18\" class=\"row_heading level0 row18\" >War</th>\n",
              "      <td id=\"T_1b4f1_row18_col0\" class=\"data row18 col0\" >60</td>\n",
              "    </tr>\n",
              "    <tr>\n",
              "      <th id=\"T_1b4f1_level0_row19\" class=\"row_heading level0 row19\" >Musical</th>\n",
              "      <td id=\"T_1b4f1_row19_col0\" class=\"data row19 col0\" >50</td>\n",
              "    </tr>\n",
              "  </tbody>\n",
              "</table>\n"
            ],
            "text/plain": [
              "<pandas.io.formats.style.Styler at 0x7fe68ad69d90>"
            ]
          },
          "execution_count": 120,
          "metadata": {},
          "output_type": "execute_result"
        }
      ],
      "source": [
        "bar(df_g_merged,'Netflix','#ff6b6b')"
      ]
    },
    {
      "cell_type": "code",
      "execution_count": null,
      "id": "23bebf63-3c8f-4910-9531-4be9808e92bd",
      "metadata": {
        "id": "23bebf63-3c8f-4910-9531-4be9808e92bd",
        "outputId": "bef606db-94c8-4667-c438-5644e01a971a"
      },
      "outputs": [
        {
          "data": {
            "text/html": [
              "<style type=\"text/css\">\n",
              "#T_dc1a5_row0_col0 {\n",
              "  width: 10em;\n",
              "  background: linear-gradient(90deg, #95d5b2 100.0%, transparent 100.0%);\n",
              "}\n",
              "#T_dc1a5_row1_col0 {\n",
              "  width: 10em;\n",
              "  background: linear-gradient(90deg, #95d5b2 8.7%, transparent 8.7%);\n",
              "}\n",
              "#T_dc1a5_row2_col0 {\n",
              "  width: 10em;\n",
              "  background: linear-gradient(90deg, #95d5b2 8.1%, transparent 8.1%);\n",
              "}\n",
              "#T_dc1a5_row3_col0 {\n",
              "  width: 10em;\n",
              "  background: linear-gradient(90deg, #95d5b2 4.9%, transparent 4.9%);\n",
              "}\n",
              "#T_dc1a5_row4_col0 {\n",
              "  width: 10em;\n",
              "  background: linear-gradient(90deg, #95d5b2 4.1%, transparent 4.1%);\n",
              "}\n",
              "#T_dc1a5_row5_col0 {\n",
              "  width: 10em;\n",
              "  background: linear-gradient(90deg, #95d5b2 3.7%, transparent 3.7%);\n",
              "}\n",
              "#T_dc1a5_row6_col0 {\n",
              "  width: 10em;\n",
              "  background: linear-gradient(90deg, #95d5b2 3.5%, transparent 3.5%);\n",
              "}\n",
              "#T_dc1a5_row7_col0 {\n",
              "  width: 10em;\n",
              "  background: linear-gradient(90deg, #95d5b2 2.4%, transparent 2.4%);\n",
              "}\n",
              "#T_dc1a5_row8_col0 {\n",
              "  width: 10em;\n",
              "  background: linear-gradient(90deg, #95d5b2 2.3%, transparent 2.3%);\n",
              "}\n",
              "#T_dc1a5_row9_col0 {\n",
              "  width: 10em;\n",
              "  background: linear-gradient(90deg, #95d5b2 1.8%, transparent 1.8%);\n",
              "}\n",
              "#T_dc1a5_row10_col0 {\n",
              "  width: 10em;\n",
              "  background: linear-gradient(90deg, #95d5b2 1.2%, transparent 1.2%);\n",
              "}\n",
              "#T_dc1a5_row11_col0 {\n",
              "  width: 10em;\n",
              "  background: linear-gradient(90deg, #95d5b2 1.1%, transparent 1.1%);\n",
              "}\n",
              "#T_dc1a5_row12_col0 {\n",
              "  width: 10em;\n",
              "  background: linear-gradient(90deg, #95d5b2 0.9%, transparent 0.9%);\n",
              "}\n",
              "#T_dc1a5_row13_col0, #T_dc1a5_row14_col0, #T_dc1a5_row15_col0, #T_dc1a5_row16_col0, #T_dc1a5_row17_col0 {\n",
              "  width: 10em;\n",
              "  background: linear-gradient(90deg, #95d5b2 0.6%, transparent 0.6%);\n",
              "}\n",
              "#T_dc1a5_row18_col0, #T_dc1a5_row19_col0 {\n",
              "  width: 10em;\n",
              "  background: linear-gradient(90deg, #95d5b2 0.5%, transparent 0.5%);\n",
              "}\n",
              "</style>\n",
              "<table id=\"T_dc1a5\">\n",
              "  <thead>\n",
              "    <tr>\n",
              "      <th class=\"blank level0\" >&nbsp;</th>\n",
              "      <th id=\"T_dc1a5_level0_col0\" class=\"col_heading level0 col0\" >Number of movies</th>\n",
              "    </tr>\n",
              "  </thead>\n",
              "  <tbody>\n",
              "    <tr>\n",
              "      <th id=\"T_dc1a5_level0_row0\" class=\"row_heading level0 row0\" >English</th>\n",
              "      <td id=\"T_dc1a5_row0_col0\" class=\"data row0 col0\" >656</td>\n",
              "    </tr>\n",
              "    <tr>\n",
              "      <th id=\"T_dc1a5_level0_row1\" class=\"row_heading level0 row1\" >Spanish</th>\n",
              "      <td id=\"T_dc1a5_row1_col0\" class=\"data row1 col0\" >57</td>\n",
              "    </tr>\n",
              "    <tr>\n",
              "      <th id=\"T_dc1a5_level0_row2\" class=\"row_heading level0 row2\" >French</th>\n",
              "      <td id=\"T_dc1a5_row2_col0\" class=\"data row2 col0\" >53</td>\n",
              "    </tr>\n",
              "    <tr>\n",
              "      <th id=\"T_dc1a5_level0_row3\" class=\"row_heading level0 row3\" >German</th>\n",
              "      <td id=\"T_dc1a5_row3_col0\" class=\"data row3 col0\" >32</td>\n",
              "    </tr>\n",
              "    <tr>\n",
              "      <th id=\"T_dc1a5_level0_row4\" class=\"row_heading level0 row4\" >Japanese</th>\n",
              "      <td id=\"T_dc1a5_row4_col0\" class=\"data row4 col0\" >27</td>\n",
              "    </tr>\n",
              "    <tr>\n",
              "      <th id=\"T_dc1a5_level0_row5\" class=\"row_heading level0 row5\" >Russian</th>\n",
              "      <td id=\"T_dc1a5_row5_col0\" class=\"data row5 col0\" >24</td>\n",
              "    </tr>\n",
              "    <tr>\n",
              "      <th id=\"T_dc1a5_level0_row6\" class=\"row_heading level0 row6\" >Italian</th>\n",
              "      <td id=\"T_dc1a5_row6_col0\" class=\"data row6 col0\" >23</td>\n",
              "    </tr>\n",
              "    <tr>\n",
              "      <th id=\"T_dc1a5_level0_row7\" class=\"row_heading level0 row7\" >Korean</th>\n",
              "      <td id=\"T_dc1a5_row7_col0\" class=\"data row7 col0\" >16</td>\n",
              "    </tr>\n",
              "    <tr>\n",
              "      <th id=\"T_dc1a5_level0_row8\" class=\"row_heading level0 row8\" >Mandarin</th>\n",
              "      <td id=\"T_dc1a5_row8_col0\" class=\"data row8 col0\" >15</td>\n",
              "    </tr>\n",
              "    <tr>\n",
              "      <th id=\"T_dc1a5_level0_row9\" class=\"row_heading level0 row9\" >Swedish</th>\n",
              "      <td id=\"T_dc1a5_row9_col0\" class=\"data row9 col0\" >12</td>\n",
              "    </tr>\n",
              "    <tr>\n",
              "      <th id=\"T_dc1a5_level0_row10\" class=\"row_heading level0 row10\" >Hindi</th>\n",
              "      <td id=\"T_dc1a5_row10_col0\" class=\"data row10 col0\" >8</td>\n",
              "    </tr>\n",
              "    <tr>\n",
              "      <th id=\"T_dc1a5_level0_row11\" class=\"row_heading level0 row11\" >Arabic</th>\n",
              "      <td id=\"T_dc1a5_row11_col0\" class=\"data row11 col0\" >7</td>\n",
              "    </tr>\n",
              "    <tr>\n",
              "      <th id=\"T_dc1a5_level0_row12\" class=\"row_heading level0 row12\" >Latin</th>\n",
              "      <td id=\"T_dc1a5_row12_col0\" class=\"data row12 col0\" >6</td>\n",
              "    </tr>\n",
              "    <tr>\n",
              "      <th id=\"T_dc1a5_level0_row13\" class=\"row_heading level0 row13\" >Portuguese</th>\n",
              "      <td id=\"T_dc1a5_row13_col0\" class=\"data row13 col0\" >4</td>\n",
              "    </tr>\n",
              "    <tr>\n",
              "      <th id=\"T_dc1a5_level0_row14\" class=\"row_heading level0 row14\" >Dutch</th>\n",
              "      <td id=\"T_dc1a5_row14_col0\" class=\"data row14 col0\" >4</td>\n",
              "    </tr>\n",
              "    <tr>\n",
              "      <th id=\"T_dc1a5_level0_row15\" class=\"row_heading level0 row15\" >Chinese</th>\n",
              "      <td id=\"T_dc1a5_row15_col0\" class=\"data row15 col0\" >4</td>\n",
              "    </tr>\n",
              "    <tr>\n",
              "      <th id=\"T_dc1a5_level0_row16\" class=\"row_heading level0 row16\" >Romanian</th>\n",
              "      <td id=\"T_dc1a5_row16_col0\" class=\"data row16 col0\" >4</td>\n",
              "    </tr>\n",
              "    <tr>\n",
              "      <th id=\"T_dc1a5_level0_row17\" class=\"row_heading level0 row17\" >Cantonese</th>\n",
              "      <td id=\"T_dc1a5_row17_col0\" class=\"data row17 col0\" >4</td>\n",
              "    </tr>\n",
              "    <tr>\n",
              "      <th id=\"T_dc1a5_level0_row18\" class=\"row_heading level0 row18\" >Polish</th>\n",
              "      <td id=\"T_dc1a5_row18_col0\" class=\"data row18 col0\" >3</td>\n",
              "    </tr>\n",
              "    <tr>\n",
              "      <th id=\"T_dc1a5_level0_row19\" class=\"row_heading level0 row19\" >Finnish</th>\n",
              "      <td id=\"T_dc1a5_row19_col0\" class=\"data row19 col0\" >3</td>\n",
              "    </tr>\n",
              "  </tbody>\n",
              "</table>\n"
            ],
            "text/plain": [
              "<pandas.io.formats.style.Styler at 0x7fe61810b100>"
            ]
          },
          "execution_count": 121,
          "metadata": {},
          "output_type": "execute_result"
        }
      ],
      "source": [
        "bar(df_l_merged,'Hulu','#95d5b2')"
      ]
    },
    {
      "cell_type": "code",
      "execution_count": null,
      "id": "b8abfe5b-f3a9-4b30-a4e3-22fc77403587",
      "metadata": {
        "id": "b8abfe5b-f3a9-4b30-a4e3-22fc77403587",
        "outputId": "39b7c771-6aef-4153-e640-e4489541d255"
      },
      "outputs": [
        {
          "data": {
            "text/html": [
              "<style type=\"text/css\">\n",
              "#T_1a197_row0_col0 {\n",
              "  width: 10em;\n",
              "  background: linear-gradient(90deg, #a2d2ff 100.0%, transparent 100.0%);\n",
              "}\n",
              "#T_1a197_row1_col0 {\n",
              "  width: 10em;\n",
              "  background: linear-gradient(90deg, #a2d2ff 73.7%, transparent 73.7%);\n",
              "}\n",
              "#T_1a197_row2_col0 {\n",
              "  width: 10em;\n",
              "  background: linear-gradient(90deg, #a2d2ff 58.5%, transparent 58.5%);\n",
              "}\n",
              "#T_1a197_row3_col0 {\n",
              "  width: 10em;\n",
              "  background: linear-gradient(90deg, #a2d2ff 46.3%, transparent 46.3%);\n",
              "}\n",
              "#T_1a197_row4_col0 {\n",
              "  width: 10em;\n",
              "  background: linear-gradient(90deg, #a2d2ff 39.4%, transparent 39.4%);\n",
              "}\n",
              "#T_1a197_row5_col0 {\n",
              "  width: 10em;\n",
              "  background: linear-gradient(90deg, #a2d2ff 34.3%, transparent 34.3%);\n",
              "}\n",
              "#T_1a197_row6_col0 {\n",
              "  width: 10em;\n",
              "  background: linear-gradient(90deg, #a2d2ff 31.0%, transparent 31.0%);\n",
              "}\n",
              "#T_1a197_row7_col0 {\n",
              "  width: 10em;\n",
              "  background: linear-gradient(90deg, #a2d2ff 28.1%, transparent 28.1%);\n",
              "}\n",
              "#T_1a197_row8_col0 {\n",
              "  width: 10em;\n",
              "  background: linear-gradient(90deg, #a2d2ff 25.4%, transparent 25.4%);\n",
              "}\n",
              "#T_1a197_row9_col0 {\n",
              "  width: 10em;\n",
              "  background: linear-gradient(90deg, #a2d2ff 24.8%, transparent 24.8%);\n",
              "}\n",
              "#T_1a197_row10_col0 {\n",
              "  width: 10em;\n",
              "  background: linear-gradient(90deg, #a2d2ff 20.6%, transparent 20.6%);\n",
              "}\n",
              "#T_1a197_row11_col0 {\n",
              "  width: 10em;\n",
              "  background: linear-gradient(90deg, #a2d2ff 20.3%, transparent 20.3%);\n",
              "}\n",
              "#T_1a197_row12_col0 {\n",
              "  width: 10em;\n",
              "  background: linear-gradient(90deg, #a2d2ff 19.7%, transparent 19.7%);\n",
              "}\n",
              "#T_1a197_row13_col0 {\n",
              "  width: 10em;\n",
              "  background: linear-gradient(90deg, #a2d2ff 15.5%, transparent 15.5%);\n",
              "}\n",
              "#T_1a197_row14_col0 {\n",
              "  width: 10em;\n",
              "  background: linear-gradient(90deg, #a2d2ff 14.6%, transparent 14.6%);\n",
              "}\n",
              "#T_1a197_row15_col0 {\n",
              "  width: 10em;\n",
              "  background: linear-gradient(90deg, #a2d2ff 13.1%, transparent 13.1%);\n",
              "}\n",
              "#T_1a197_row16_col0 {\n",
              "  width: 10em;\n",
              "  background: linear-gradient(90deg, #a2d2ff 7.5%, transparent 7.5%);\n",
              "}\n",
              "#T_1a197_row17_col0 {\n",
              "  width: 10em;\n",
              "  background: linear-gradient(90deg, #a2d2ff 6.9%, transparent 6.9%);\n",
              "}\n",
              "#T_1a197_row18_col0 {\n",
              "  width: 10em;\n",
              "  background: linear-gradient(90deg, #a2d2ff 6.0%, transparent 6.0%);\n",
              "}\n",
              "#T_1a197_row19_col0 {\n",
              "  width: 10em;\n",
              "  background: linear-gradient(90deg, #a2d2ff 4.2%, transparent 4.2%);\n",
              "}\n",
              "</style>\n",
              "<table id=\"T_1a197\">\n",
              "  <thead>\n",
              "    <tr>\n",
              "      <th class=\"blank level0\" >&nbsp;</th>\n",
              "      <th id=\"T_1a197_level0_col0\" class=\"col_heading level0 col0\" >Number of movies</th>\n",
              "    </tr>\n",
              "  </thead>\n",
              "  <tbody>\n",
              "    <tr>\n",
              "      <th id=\"T_1a197_level0_row0\" class=\"row_heading level0 row0\" >Drama</th>\n",
              "      <td id=\"T_1a197_row0_col0\" class=\"data row0 col0\" >335</td>\n",
              "    </tr>\n",
              "    <tr>\n",
              "      <th id=\"T_1a197_level0_row1\" class=\"row_heading level0 row1\" >Comedy</th>\n",
              "      <td id=\"T_1a197_row1_col0\" class=\"data row1 col0\" >247</td>\n",
              "    </tr>\n",
              "    <tr>\n",
              "      <th id=\"T_1a197_level0_row2\" class=\"row_heading level0 row2\" >Thriller</th>\n",
              "      <td id=\"T_1a197_row2_col0\" class=\"data row2 col0\" >196</td>\n",
              "    </tr>\n",
              "    <tr>\n",
              "      <th id=\"T_1a197_level0_row3\" class=\"row_heading level0 row3\" >Action</th>\n",
              "      <td id=\"T_1a197_row3_col0\" class=\"data row3 col0\" >155</td>\n",
              "    </tr>\n",
              "    <tr>\n",
              "      <th id=\"T_1a197_level0_row4\" class=\"row_heading level0 row4\" >Romance</th>\n",
              "      <td id=\"T_1a197_row4_col0\" class=\"data row4 col0\" >132</td>\n",
              "    </tr>\n",
              "    <tr>\n",
              "      <th id=\"T_1a197_level0_row5\" class=\"row_heading level0 row5\" >Adventure</th>\n",
              "      <td id=\"T_1a197_row5_col0\" class=\"data row5 col0\" >115</td>\n",
              "    </tr>\n",
              "    <tr>\n",
              "      <th id=\"T_1a197_level0_row6\" class=\"row_heading level0 row6\" >Horror</th>\n",
              "      <td id=\"T_1a197_row6_col0\" class=\"data row6 col0\" >104</td>\n",
              "    </tr>\n",
              "    <tr>\n",
              "      <th id=\"T_1a197_level0_row7\" class=\"row_heading level0 row7\" >Crime</th>\n",
              "      <td id=\"T_1a197_row7_col0\" class=\"data row7 col0\" >94</td>\n",
              "    </tr>\n",
              "    <tr>\n",
              "      <th id=\"T_1a197_level0_row8\" class=\"row_heading level0 row8\" >Sci-Fi</th>\n",
              "      <td id=\"T_1a197_row8_col0\" class=\"data row8 col0\" >85</td>\n",
              "    </tr>\n",
              "    <tr>\n",
              "      <th id=\"T_1a197_level0_row9\" class=\"row_heading level0 row9\" >Fantasy</th>\n",
              "      <td id=\"T_1a197_row9_col0\" class=\"data row9 col0\" >83</td>\n",
              "    </tr>\n",
              "    <tr>\n",
              "      <th id=\"T_1a197_level0_row10\" class=\"row_heading level0 row10\" >Documentary</th>\n",
              "      <td id=\"T_1a197_row10_col0\" class=\"data row10 col0\" >69</td>\n",
              "    </tr>\n",
              "    <tr>\n",
              "      <th id=\"T_1a197_level0_row11\" class=\"row_heading level0 row11\" >Mystery</th>\n",
              "      <td id=\"T_1a197_row11_col0\" class=\"data row11 col0\" >68</td>\n",
              "    </tr>\n",
              "    <tr>\n",
              "      <th id=\"T_1a197_level0_row12\" class=\"row_heading level0 row12\" >Family</th>\n",
              "      <td id=\"T_1a197_row12_col0\" class=\"data row12 col0\" >66</td>\n",
              "    </tr>\n",
              "    <tr>\n",
              "      <th id=\"T_1a197_level0_row13\" class=\"row_heading level0 row13\" >Animation</th>\n",
              "      <td id=\"T_1a197_row13_col0\" class=\"data row13 col0\" >52</td>\n",
              "    </tr>\n",
              "    <tr>\n",
              "      <th id=\"T_1a197_level0_row14\" class=\"row_heading level0 row14\" >Biography</th>\n",
              "      <td id=\"T_1a197_row14_col0\" class=\"data row14 col0\" >49</td>\n",
              "    </tr>\n",
              "    <tr>\n",
              "      <th id=\"T_1a197_level0_row15\" class=\"row_heading level0 row15\" >Music</th>\n",
              "      <td id=\"T_1a197_row15_col0\" class=\"data row15 col0\" >44</td>\n",
              "    </tr>\n",
              "    <tr>\n",
              "      <th id=\"T_1a197_level0_row16\" class=\"row_heading level0 row16\" >History</th>\n",
              "      <td id=\"T_1a197_row16_col0\" class=\"data row16 col0\" >25</td>\n",
              "    </tr>\n",
              "    <tr>\n",
              "      <th id=\"T_1a197_level0_row17\" class=\"row_heading level0 row17\" >Sport</th>\n",
              "      <td id=\"T_1a197_row17_col0\" class=\"data row17 col0\" >23</td>\n",
              "    </tr>\n",
              "    <tr>\n",
              "      <th id=\"T_1a197_level0_row18\" class=\"row_heading level0 row18\" >War</th>\n",
              "      <td id=\"T_1a197_row18_col0\" class=\"data row18 col0\" >20</td>\n",
              "    </tr>\n",
              "    <tr>\n",
              "      <th id=\"T_1a197_level0_row19\" class=\"row_heading level0 row19\" >Western</th>\n",
              "      <td id=\"T_1a197_row19_col0\" class=\"data row19 col0\" >14</td>\n",
              "    </tr>\n",
              "  </tbody>\n",
              "</table>\n"
            ],
            "text/plain": [
              "<pandas.io.formats.style.Styler at 0x7fe689fee3a0>"
            ]
          },
          "execution_count": 122,
          "metadata": {},
          "output_type": "execute_result"
        }
      ],
      "source": [
        "bar(df_g_merged,'Hulu','#a2d2ff')"
      ]
    },
    {
      "cell_type": "code",
      "execution_count": null,
      "id": "b6e7171b-599e-4ea6-8f6f-c99cd4277ea0",
      "metadata": {
        "id": "b6e7171b-599e-4ea6-8f6f-c99cd4277ea0",
        "outputId": "3b6c1a31-2200-4268-d3a6-06bbdc5ea932"
      },
      "outputs": [
        {
          "data": {
            "text/html": [
              "<style type=\"text/css\">\n",
              "#T_0995f_row0_col0 {\n",
              "  width: 10em;\n",
              "  background: linear-gradient(90deg, #a2d2ff 100.0%, transparent 100.0%);\n",
              "}\n",
              "#T_0995f_row1_col0 {\n",
              "  width: 10em;\n",
              "  background: linear-gradient(90deg, #a2d2ff 6.3%, transparent 6.3%);\n",
              "}\n",
              "#T_0995f_row2_col0 {\n",
              "  width: 10em;\n",
              "  background: linear-gradient(90deg, #a2d2ff 5.8%, transparent 5.8%);\n",
              "}\n",
              "#T_0995f_row3_col0 {\n",
              "  width: 10em;\n",
              "  background: linear-gradient(90deg, #a2d2ff 4.5%, transparent 4.5%);\n",
              "}\n",
              "#T_0995f_row4_col0 {\n",
              "  width: 10em;\n",
              "  background: linear-gradient(90deg, #a2d2ff 3.8%, transparent 3.8%);\n",
              "}\n",
              "#T_0995f_row5_col0 {\n",
              "  width: 10em;\n",
              "  background: linear-gradient(90deg, #a2d2ff 2.8%, transparent 2.8%);\n",
              "}\n",
              "#T_0995f_row6_col0 {\n",
              "  width: 10em;\n",
              "  background: linear-gradient(90deg, #a2d2ff 2.0%, transparent 2.0%);\n",
              "}\n",
              "#T_0995f_row7_col0 {\n",
              "  width: 10em;\n",
              "  background: linear-gradient(90deg, #a2d2ff 1.7%, transparent 1.7%);\n",
              "}\n",
              "#T_0995f_row8_col0, #T_0995f_row9_col0 {\n",
              "  width: 10em;\n",
              "  background: linear-gradient(90deg, #a2d2ff 1.3%, transparent 1.3%);\n",
              "}\n",
              "#T_0995f_row10_col0 {\n",
              "  width: 10em;\n",
              "  background: linear-gradient(90deg, #a2d2ff 0.9%, transparent 0.9%);\n",
              "}\n",
              "#T_0995f_row11_col0, #T_0995f_row12_col0 {\n",
              "  width: 10em;\n",
              "  background: linear-gradient(90deg, #a2d2ff 0.8%, transparent 0.8%);\n",
              "}\n",
              "#T_0995f_row13_col0 {\n",
              "  width: 10em;\n",
              "  background: linear-gradient(90deg, #a2d2ff 0.7%, transparent 0.7%);\n",
              "}\n",
              "#T_0995f_row14_col0, #T_0995f_row15_col0, #T_0995f_row16_col0 {\n",
              "  width: 10em;\n",
              "  background: linear-gradient(90deg, #a2d2ff 0.6%, transparent 0.6%);\n",
              "}\n",
              "#T_0995f_row17_col0, #T_0995f_row18_col0 {\n",
              "  width: 10em;\n",
              "  background: linear-gradient(90deg, #a2d2ff 0.5%, transparent 0.5%);\n",
              "}\n",
              "#T_0995f_row19_col0 {\n",
              "  width: 10em;\n",
              "  background: linear-gradient(90deg, #a2d2ff 0.4%, transparent 0.4%);\n",
              "}\n",
              "</style>\n",
              "<table id=\"T_0995f\">\n",
              "  <thead>\n",
              "    <tr>\n",
              "      <th class=\"blank level0\" >&nbsp;</th>\n",
              "      <th id=\"T_0995f_level0_col0\" class=\"col_heading level0 col0\" >Number of movies</th>\n",
              "    </tr>\n",
              "  </thead>\n",
              "  <tbody>\n",
              "    <tr>\n",
              "      <th id=\"T_0995f_level0_row0\" class=\"row_heading level0 row0\" >English</th>\n",
              "      <td id=\"T_0995f_row0_col0\" class=\"data row0 col0\" >1905</td>\n",
              "    </tr>\n",
              "    <tr>\n",
              "      <th id=\"T_0995f_level0_row1\" class=\"row_heading level0 row1\" >French</th>\n",
              "      <td id=\"T_0995f_row1_col0\" class=\"data row1 col0\" >120</td>\n",
              "    </tr>\n",
              "    <tr>\n",
              "      <th id=\"T_0995f_level0_row2\" class=\"row_heading level0 row2\" >Spanish</th>\n",
              "      <td id=\"T_0995f_row2_col0\" class=\"data row2 col0\" >111</td>\n",
              "    </tr>\n",
              "    <tr>\n",
              "      <th id=\"T_0995f_level0_row3\" class=\"row_heading level0 row3\" >Hindi</th>\n",
              "      <td id=\"T_0995f_row3_col0\" class=\"data row3 col0\" >85</td>\n",
              "    </tr>\n",
              "    <tr>\n",
              "      <th id=\"T_0995f_level0_row4\" class=\"row_heading level0 row4\" >German</th>\n",
              "      <td id=\"T_0995f_row4_col0\" class=\"data row4 col0\" >72</td>\n",
              "    </tr>\n",
              "    <tr>\n",
              "      <th id=\"T_0995f_level0_row5\" class=\"row_heading level0 row5\" >Italian</th>\n",
              "      <td id=\"T_0995f_row5_col0\" class=\"data row5 col0\" >53</td>\n",
              "    </tr>\n",
              "    <tr>\n",
              "      <th id=\"T_0995f_level0_row6\" class=\"row_heading level0 row6\" >Russian</th>\n",
              "      <td id=\"T_0995f_row6_col0\" class=\"data row6 col0\" >39</td>\n",
              "    </tr>\n",
              "    <tr>\n",
              "      <th id=\"T_0995f_level0_row7\" class=\"row_heading level0 row7\" >Mandarin</th>\n",
              "      <td id=\"T_0995f_row7_col0\" class=\"data row7 col0\" >33</td>\n",
              "    </tr>\n",
              "    <tr>\n",
              "      <th id=\"T_0995f_level0_row8\" class=\"row_heading level0 row8\" >Arabic</th>\n",
              "      <td id=\"T_0995f_row8_col0\" class=\"data row8 col0\" >25</td>\n",
              "    </tr>\n",
              "    <tr>\n",
              "      <th id=\"T_0995f_level0_row9\" class=\"row_heading level0 row9\" >Japanese</th>\n",
              "      <td id=\"T_0995f_row9_col0\" class=\"data row9 col0\" >25</td>\n",
              "    </tr>\n",
              "    <tr>\n",
              "      <th id=\"T_0995f_level0_row10\" class=\"row_heading level0 row10\" >Latin</th>\n",
              "      <td id=\"T_0995f_row10_col0\" class=\"data row10 col0\" >18</td>\n",
              "    </tr>\n",
              "    <tr>\n",
              "      <th id=\"T_0995f_level0_row11\" class=\"row_heading level0 row11\" >Cantonese</th>\n",
              "      <td id=\"T_0995f_row11_col0\" class=\"data row11 col0\" >16</td>\n",
              "    </tr>\n",
              "    <tr>\n",
              "      <th id=\"T_0995f_level0_row12\" class=\"row_heading level0 row12\" >Hebrew</th>\n",
              "      <td id=\"T_0995f_row12_col0\" class=\"data row12 col0\" >15</td>\n",
              "    </tr>\n",
              "    <tr>\n",
              "      <th id=\"T_0995f_level0_row13\" class=\"row_heading level0 row13\" >Telugu</th>\n",
              "      <td id=\"T_0995f_row13_col0\" class=\"data row13 col0\" >13</td>\n",
              "    </tr>\n",
              "    <tr>\n",
              "      <th id=\"T_0995f_level0_row14\" class=\"row_heading level0 row14\" >Tamil</th>\n",
              "      <td id=\"T_0995f_row14_col0\" class=\"data row14 col0\" >11</td>\n",
              "    </tr>\n",
              "    <tr>\n",
              "      <th id=\"T_0995f_level0_row15\" class=\"row_heading level0 row15\" >Korean</th>\n",
              "      <td id=\"T_0995f_row15_col0\" class=\"data row15 col0\" >11</td>\n",
              "    </tr>\n",
              "    <tr>\n",
              "      <th id=\"T_0995f_level0_row16\" class=\"row_heading level0 row16\" >Portuguese</th>\n",
              "      <td id=\"T_0995f_row16_col0\" class=\"data row16 col0\" >11</td>\n",
              "    </tr>\n",
              "    <tr>\n",
              "      <th id=\"T_0995f_level0_row17\" class=\"row_heading level0 row17\" >Polish</th>\n",
              "      <td id=\"T_0995f_row17_col0\" class=\"data row17 col0\" >9</td>\n",
              "    </tr>\n",
              "    <tr>\n",
              "      <th id=\"T_0995f_level0_row18\" class=\"row_heading level0 row18\" >Chinese</th>\n",
              "      <td id=\"T_0995f_row18_col0\" class=\"data row18 col0\" >9</td>\n",
              "    </tr>\n",
              "    <tr>\n",
              "      <th id=\"T_0995f_level0_row19\" class=\"row_heading level0 row19\" >Urdu</th>\n",
              "      <td id=\"T_0995f_row19_col0\" class=\"data row19 col0\" >8</td>\n",
              "    </tr>\n",
              "  </tbody>\n",
              "</table>\n"
            ],
            "text/plain": [
              "<pandas.io.formats.style.Styler at 0x7fe68ad9ae20>"
            ]
          },
          "execution_count": 123,
          "metadata": {},
          "output_type": "execute_result"
        }
      ],
      "source": [
        "bar(df_l_merged,'Prime Video','#a2d2ff')"
      ]
    },
    {
      "cell_type": "code",
      "execution_count": null,
      "id": "e9bb5559-f4c9-4018-934a-c78634a63bb1",
      "metadata": {
        "id": "e9bb5559-f4c9-4018-934a-c78634a63bb1",
        "outputId": "29274118-62ee-46b9-b628-998a4b5be218"
      },
      "outputs": [
        {
          "data": {
            "text/html": [
              "<style type=\"text/css\">\n",
              "#T_ebbab_row0_col0 {\n",
              "  width: 10em;\n",
              "  background: linear-gradient(90deg, #a2d2ff 100.0%, transparent 100.0%);\n",
              "}\n",
              "#T_ebbab_row1_col0 {\n",
              "  width: 10em;\n",
              "  background: linear-gradient(90deg, #a2d2ff 65.4%, transparent 65.4%);\n",
              "}\n",
              "#T_ebbab_row2_col0 {\n",
              "  width: 10em;\n",
              "  background: linear-gradient(90deg, #a2d2ff 55.9%, transparent 55.9%);\n",
              "}\n",
              "#T_ebbab_row3_col0 {\n",
              "  width: 10em;\n",
              "  background: linear-gradient(90deg, #a2d2ff 40.4%, transparent 40.4%);\n",
              "}\n",
              "#T_ebbab_row4_col0 {\n",
              "  width: 10em;\n",
              "  background: linear-gradient(90deg, #a2d2ff 35.7%, transparent 35.7%);\n",
              "}\n",
              "#T_ebbab_row5_col0 {\n",
              "  width: 10em;\n",
              "  background: linear-gradient(90deg, #a2d2ff 29.9%, transparent 29.9%);\n",
              "}\n",
              "#T_ebbab_row6_col0 {\n",
              "  width: 10em;\n",
              "  background: linear-gradient(90deg, #a2d2ff 24.2%, transparent 24.2%);\n",
              "}\n",
              "#T_ebbab_row7_col0 {\n",
              "  width: 10em;\n",
              "  background: linear-gradient(90deg, #a2d2ff 21.7%, transparent 21.7%);\n",
              "}\n",
              "#T_ebbab_row8_col0 {\n",
              "  width: 10em;\n",
              "  background: linear-gradient(90deg, #a2d2ff 17.8%, transparent 17.8%);\n",
              "}\n",
              "#T_ebbab_row9_col0 {\n",
              "  width: 10em;\n",
              "  background: linear-gradient(90deg, #a2d2ff 17.4%, transparent 17.4%);\n",
              "}\n",
              "#T_ebbab_row10_col0 {\n",
              "  width: 10em;\n",
              "  background: linear-gradient(90deg, #a2d2ff 16.7%, transparent 16.7%);\n",
              "}\n",
              "#T_ebbab_row11_col0 {\n",
              "  width: 10em;\n",
              "  background: linear-gradient(90deg, #a2d2ff 15.1%, transparent 15.1%);\n",
              "}\n",
              "#T_ebbab_row12_col0 {\n",
              "  width: 10em;\n",
              "  background: linear-gradient(90deg, #a2d2ff 13.4%, transparent 13.4%);\n",
              "}\n",
              "#T_ebbab_row13_col0 {\n",
              "  width: 10em;\n",
              "  background: linear-gradient(90deg, #a2d2ff 10.4%, transparent 10.4%);\n",
              "}\n",
              "#T_ebbab_row14_col0 {\n",
              "  width: 10em;\n",
              "  background: linear-gradient(90deg, #a2d2ff 7.2%, transparent 7.2%);\n",
              "}\n",
              "#T_ebbab_row15_col0 {\n",
              "  width: 10em;\n",
              "  background: linear-gradient(90deg, #a2d2ff 6.5%, transparent 6.5%);\n",
              "}\n",
              "#T_ebbab_row16_col0, #T_ebbab_row17_col0 {\n",
              "  width: 10em;\n",
              "  background: linear-gradient(90deg, #a2d2ff 6.2%, transparent 6.2%);\n",
              "}\n",
              "#T_ebbab_row18_col0 {\n",
              "  width: 10em;\n",
              "  background: linear-gradient(90deg, #a2d2ff 6.1%, transparent 6.1%);\n",
              "}\n",
              "#T_ebbab_row19_col0 {\n",
              "  width: 10em;\n",
              "  background: linear-gradient(90deg, #a2d2ff 5.9%, transparent 5.9%);\n",
              "}\n",
              "</style>\n",
              "<table id=\"T_ebbab\">\n",
              "  <thead>\n",
              "    <tr>\n",
              "      <th class=\"blank level0\" >&nbsp;</th>\n",
              "      <th id=\"T_ebbab_level0_col0\" class=\"col_heading level0 col0\" >Number of movies</th>\n",
              "    </tr>\n",
              "  </thead>\n",
              "  <tbody>\n",
              "    <tr>\n",
              "      <th id=\"T_ebbab_level0_row0\" class=\"row_heading level0 row0\" >Drama</th>\n",
              "      <td id=\"T_ebbab_row0_col0\" class=\"data row0 col0\" >1076</td>\n",
              "    </tr>\n",
              "    <tr>\n",
              "      <th id=\"T_ebbab_level0_row1\" class=\"row_heading level0 row1\" >Comedy</th>\n",
              "      <td id=\"T_ebbab_row1_col0\" class=\"data row1 col0\" >704</td>\n",
              "    </tr>\n",
              "    <tr>\n",
              "      <th id=\"T_ebbab_level0_row2\" class=\"row_heading level0 row2\" >Thriller</th>\n",
              "      <td id=\"T_ebbab_row2_col0\" class=\"data row2 col0\" >602</td>\n",
              "    </tr>\n",
              "    <tr>\n",
              "      <th id=\"T_ebbab_level0_row3\" class=\"row_heading level0 row3\" >Action</th>\n",
              "      <td id=\"T_ebbab_row3_col0\" class=\"data row3 col0\" >435</td>\n",
              "    </tr>\n",
              "    <tr>\n",
              "      <th id=\"T_ebbab_level0_row4\" class=\"row_heading level0 row4\" >Romance</th>\n",
              "      <td id=\"T_ebbab_row4_col0\" class=\"data row4 col0\" >384</td>\n",
              "    </tr>\n",
              "    <tr>\n",
              "      <th id=\"T_ebbab_level0_row5\" class=\"row_heading level0 row5\" >Crime</th>\n",
              "      <td id=\"T_ebbab_row5_col0\" class=\"data row5 col0\" >322</td>\n",
              "    </tr>\n",
              "    <tr>\n",
              "      <th id=\"T_ebbab_level0_row6\" class=\"row_heading level0 row6\" >Horror</th>\n",
              "      <td id=\"T_ebbab_row6_col0\" class=\"data row6 col0\" >260</td>\n",
              "    </tr>\n",
              "    <tr>\n",
              "      <th id=\"T_ebbab_level0_row7\" class=\"row_heading level0 row7\" >Adventure</th>\n",
              "      <td id=\"T_ebbab_row7_col0\" class=\"data row7 col0\" >233</td>\n",
              "    </tr>\n",
              "    <tr>\n",
              "      <th id=\"T_ebbab_level0_row8\" class=\"row_heading level0 row8\" >Family</th>\n",
              "      <td id=\"T_ebbab_row8_col0\" class=\"data row8 col0\" >191</td>\n",
              "    </tr>\n",
              "    <tr>\n",
              "      <th id=\"T_ebbab_level0_row9\" class=\"row_heading level0 row9\" >Mystery</th>\n",
              "      <td id=\"T_ebbab_row9_col0\" class=\"data row9 col0\" >187</td>\n",
              "    </tr>\n",
              "    <tr>\n",
              "      <th id=\"T_ebbab_level0_row10\" class=\"row_heading level0 row10\" >Sci-Fi</th>\n",
              "      <td id=\"T_ebbab_row10_col0\" class=\"data row10 col0\" >180</td>\n",
              "    </tr>\n",
              "    <tr>\n",
              "      <th id=\"T_ebbab_level0_row11\" class=\"row_heading level0 row11\" >Fantasy</th>\n",
              "      <td id=\"T_ebbab_row11_col0\" class=\"data row11 col0\" >163</td>\n",
              "    </tr>\n",
              "    <tr>\n",
              "      <th id=\"T_ebbab_level0_row12\" class=\"row_heading level0 row12\" >Documentary</th>\n",
              "      <td id=\"T_ebbab_row12_col0\" class=\"data row12 col0\" >144</td>\n",
              "    </tr>\n",
              "    <tr>\n",
              "      <th id=\"T_ebbab_level0_row13\" class=\"row_heading level0 row13\" >Biography</th>\n",
              "      <td id=\"T_ebbab_row13_col0\" class=\"data row13 col0\" >112</td>\n",
              "    </tr>\n",
              "    <tr>\n",
              "      <th id=\"T_ebbab_level0_row14\" class=\"row_heading level0 row14\" >War</th>\n",
              "      <td id=\"T_ebbab_row14_col0\" class=\"data row14 col0\" >78</td>\n",
              "    </tr>\n",
              "    <tr>\n",
              "      <th id=\"T_ebbab_level0_row15\" class=\"row_heading level0 row15\" >History</th>\n",
              "      <td id=\"T_ebbab_row15_col0\" class=\"data row15 col0\" >70</td>\n",
              "    </tr>\n",
              "    <tr>\n",
              "      <th id=\"T_ebbab_level0_row16\" class=\"row_heading level0 row16\" >Sport</th>\n",
              "      <td id=\"T_ebbab_row16_col0\" class=\"data row16 col0\" >67</td>\n",
              "    </tr>\n",
              "    <tr>\n",
              "      <th id=\"T_ebbab_level0_row17\" class=\"row_heading level0 row17\" >Western</th>\n",
              "      <td id=\"T_ebbab_row17_col0\" class=\"data row17 col0\" >67</td>\n",
              "    </tr>\n",
              "    <tr>\n",
              "      <th id=\"T_ebbab_level0_row18\" class=\"row_heading level0 row18\" >Animation</th>\n",
              "      <td id=\"T_ebbab_row18_col0\" class=\"data row18 col0\" >66</td>\n",
              "    </tr>\n",
              "    <tr>\n",
              "      <th id=\"T_ebbab_level0_row19\" class=\"row_heading level0 row19\" >Music</th>\n",
              "      <td id=\"T_ebbab_row19_col0\" class=\"data row19 col0\" >63</td>\n",
              "    </tr>\n",
              "  </tbody>\n",
              "</table>\n"
            ],
            "text/plain": [
              "<pandas.io.formats.style.Styler at 0x7fe668d4d610>"
            ]
          },
          "execution_count": 124,
          "metadata": {},
          "output_type": "execute_result"
        }
      ],
      "source": [
        "bar(df_g_merged,'Prime Video','#a2d2ff')"
      ]
    },
    {
      "cell_type": "code",
      "execution_count": null,
      "id": "85fae891-3205-4b3e-9f56-617a9508d3a1",
      "metadata": {
        "id": "85fae891-3205-4b3e-9f56-617a9508d3a1",
        "outputId": "c4cb6829-ff8a-45d8-f338-dd02dcc35cb5"
      },
      "outputs": [
        {
          "data": {
            "text/html": [
              "<style type=\"text/css\">\n",
              "#T_ddd94_row0_col0 {\n",
              "  width: 10em;\n",
              "  background: linear-gradient(90deg, #72efdd 100.0%, transparent 100.0%);\n",
              "}\n",
              "#T_ddd94_row1_col0 {\n",
              "  width: 10em;\n",
              "  background: linear-gradient(90deg, #72efdd 6.0%, transparent 6.0%);\n",
              "}\n",
              "#T_ddd94_row2_col0 {\n",
              "  width: 10em;\n",
              "  background: linear-gradient(90deg, #72efdd 4.8%, transparent 4.8%);\n",
              "}\n",
              "#T_ddd94_row3_col0 {\n",
              "  width: 10em;\n",
              "  background: linear-gradient(90deg, #72efdd 3.5%, transparent 3.5%);\n",
              "}\n",
              "#T_ddd94_row4_col0 {\n",
              "  width: 10em;\n",
              "  background: linear-gradient(90deg, #72efdd 2.3%, transparent 2.3%);\n",
              "}\n",
              "#T_ddd94_row5_col0 {\n",
              "  width: 10em;\n",
              "  background: linear-gradient(90deg, #72efdd 1.7%, transparent 1.7%);\n",
              "}\n",
              "#T_ddd94_row6_col0 {\n",
              "  width: 10em;\n",
              "  background: linear-gradient(90deg, #72efdd 1.5%, transparent 1.5%);\n",
              "}\n",
              "#T_ddd94_row7_col0 {\n",
              "  width: 10em;\n",
              "  background: linear-gradient(90deg, #72efdd 1.2%, transparent 1.2%);\n",
              "}\n",
              "#T_ddd94_row8_col0, #T_ddd94_row9_col0 {\n",
              "  width: 10em;\n",
              "  background: linear-gradient(90deg, #72efdd 1.1%, transparent 1.1%);\n",
              "}\n",
              "#T_ddd94_row10_col0, #T_ddd94_row11_col0 {\n",
              "  width: 10em;\n",
              "  background: linear-gradient(90deg, #72efdd 0.9%, transparent 0.9%);\n",
              "}\n",
              "#T_ddd94_row12_col0 {\n",
              "  width: 10em;\n",
              "  background: linear-gradient(90deg, #72efdd 0.8%, transparent 0.8%);\n",
              "}\n",
              "#T_ddd94_row13_col0, #T_ddd94_row14_col0, #T_ddd94_row15_col0, #T_ddd94_row16_col0 {\n",
              "  width: 10em;\n",
              "  background: linear-gradient(90deg, #72efdd 0.6%, transparent 0.6%);\n",
              "}\n",
              "#T_ddd94_row17_col0, #T_ddd94_row18_col0, #T_ddd94_row19_col0 {\n",
              "  width: 10em;\n",
              "  background: linear-gradient(90deg, #72efdd 0.5%, transparent 0.5%);\n",
              "}\n",
              "</style>\n",
              "<table id=\"T_ddd94\">\n",
              "  <thead>\n",
              "    <tr>\n",
              "      <th class=\"blank level0\" >&nbsp;</th>\n",
              "      <th id=\"T_ddd94_level0_col0\" class=\"col_heading level0 col0\" >Number of movies</th>\n",
              "    </tr>\n",
              "  </thead>\n",
              "  <tbody>\n",
              "    <tr>\n",
              "      <th id=\"T_ddd94_level0_row0\" class=\"row_heading level0 row0\" >English</th>\n",
              "      <td id=\"T_ddd94_row0_col0\" class=\"data row0 col0\" >651</td>\n",
              "    </tr>\n",
              "    <tr>\n",
              "      <th id=\"T_ddd94_level0_row1\" class=\"row_heading level0 row1\" >French</th>\n",
              "      <td id=\"T_ddd94_row1_col0\" class=\"data row1 col0\" >39</td>\n",
              "    </tr>\n",
              "    <tr>\n",
              "      <th id=\"T_ddd94_level0_row2\" class=\"row_heading level0 row2\" >Spanish</th>\n",
              "      <td id=\"T_ddd94_row2_col0\" class=\"data row2 col0\" >31</td>\n",
              "    </tr>\n",
              "    <tr>\n",
              "      <th id=\"T_ddd94_level0_row3\" class=\"row_heading level0 row3\" >German</th>\n",
              "      <td id=\"T_ddd94_row3_col0\" class=\"data row3 col0\" >23</td>\n",
              "    </tr>\n",
              "    <tr>\n",
              "      <th id=\"T_ddd94_level0_row4\" class=\"row_heading level0 row4\" >Italian</th>\n",
              "      <td id=\"T_ddd94_row4_col0\" class=\"data row4 col0\" >15</td>\n",
              "    </tr>\n",
              "    <tr>\n",
              "      <th id=\"T_ddd94_level0_row5\" class=\"row_heading level0 row5\" >Mandarin</th>\n",
              "      <td id=\"T_ddd94_row5_col0\" class=\"data row5 col0\" >11</td>\n",
              "    </tr>\n",
              "    <tr>\n",
              "      <th id=\"T_ddd94_level0_row6\" class=\"row_heading level0 row6\" >Japanese</th>\n",
              "      <td id=\"T_ddd94_row6_col0\" class=\"data row6 col0\" >10</td>\n",
              "    </tr>\n",
              "    <tr>\n",
              "      <th id=\"T_ddd94_level0_row7\" class=\"row_heading level0 row7\" >None</th>\n",
              "      <td id=\"T_ddd94_row7_col0\" class=\"data row7 col0\" >8</td>\n",
              "    </tr>\n",
              "    <tr>\n",
              "      <th id=\"T_ddd94_level0_row8\" class=\"row_heading level0 row8\" >Norwegian</th>\n",
              "      <td id=\"T_ddd94_row8_col0\" class=\"data row8 col0\" >7</td>\n",
              "    </tr>\n",
              "    <tr>\n",
              "      <th id=\"T_ddd94_level0_row9\" class=\"row_heading level0 row9\" >Arabic</th>\n",
              "      <td id=\"T_ddd94_row9_col0\" class=\"data row9 col0\" >7</td>\n",
              "    </tr>\n",
              "    <tr>\n",
              "      <th id=\"T_ddd94_level0_row10\" class=\"row_heading level0 row10\" >Russian</th>\n",
              "      <td id=\"T_ddd94_row10_col0\" class=\"data row10 col0\" >6</td>\n",
              "    </tr>\n",
              "    <tr>\n",
              "      <th id=\"T_ddd94_level0_row11\" class=\"row_heading level0 row11\" >Korean</th>\n",
              "      <td id=\"T_ddd94_row11_col0\" class=\"data row11 col0\" >6</td>\n",
              "    </tr>\n",
              "    <tr>\n",
              "      <th id=\"T_ddd94_level0_row12\" class=\"row_heading level0 row12\" >Hindi</th>\n",
              "      <td id=\"T_ddd94_row12_col0\" class=\"data row12 col0\" >5</td>\n",
              "    </tr>\n",
              "    <tr>\n",
              "      <th id=\"T_ddd94_level0_row13\" class=\"row_heading level0 row13\" >Greek</th>\n",
              "      <td id=\"T_ddd94_row13_col0\" class=\"data row13 col0\" >4</td>\n",
              "    </tr>\n",
              "    <tr>\n",
              "      <th id=\"T_ddd94_level0_row14\" class=\"row_heading level0 row14\" >Icelandic</th>\n",
              "      <td id=\"T_ddd94_row14_col0\" class=\"data row14 col0\" >4</td>\n",
              "    </tr>\n",
              "    <tr>\n",
              "      <th id=\"T_ddd94_level0_row15\" class=\"row_heading level0 row15\" >Xhosa</th>\n",
              "      <td id=\"T_ddd94_row15_col0\" class=\"data row15 col0\" >4</td>\n",
              "    </tr>\n",
              "    <tr>\n",
              "      <th id=\"T_ddd94_level0_row16\" class=\"row_heading level0 row16\" >Hawaiian</th>\n",
              "      <td id=\"T_ddd94_row16_col0\" class=\"data row16 col0\" >4</td>\n",
              "    </tr>\n",
              "    <tr>\n",
              "      <th id=\"T_ddd94_level0_row17\" class=\"row_heading level0 row17\" >Chinese</th>\n",
              "      <td id=\"T_ddd94_row17_col0\" class=\"data row17 col0\" >3</td>\n",
              "    </tr>\n",
              "    <tr>\n",
              "      <th id=\"T_ddd94_level0_row18\" class=\"row_heading level0 row18\" >Portuguese</th>\n",
              "      <td id=\"T_ddd94_row18_col0\" class=\"data row18 col0\" >3</td>\n",
              "    </tr>\n",
              "    <tr>\n",
              "      <th id=\"T_ddd94_level0_row19\" class=\"row_heading level0 row19\" >Inuktitut</th>\n",
              "      <td id=\"T_ddd94_row19_col0\" class=\"data row19 col0\" >3</td>\n",
              "    </tr>\n",
              "  </tbody>\n",
              "</table>\n"
            ],
            "text/plain": [
              "<pandas.io.formats.style.Styler at 0x7fe68ab8f6a0>"
            ]
          },
          "execution_count": 125,
          "metadata": {},
          "output_type": "execute_result"
        }
      ],
      "source": [
        "bar(df_l_merged,'Disney+','#72efdd')"
      ]
    },
    {
      "cell_type": "code",
      "execution_count": null,
      "id": "02a76ccb-1737-4dfd-9604-7e23f63a81d3",
      "metadata": {
        "id": "02a76ccb-1737-4dfd-9604-7e23f63a81d3",
        "outputId": "acd17c03-f949-4169-8edc-91cee8429d08"
      },
      "outputs": [
        {
          "data": {
            "text/html": [
              "<style type=\"text/css\">\n",
              "#T_b2940_row0_col0 {\n",
              "  width: 10em;\n",
              "  background: linear-gradient(90deg, #72efdd 100.0%, transparent 100.0%);\n",
              "}\n",
              "#T_b2940_row1_col0 {\n",
              "  width: 10em;\n",
              "  background: linear-gradient(90deg, #72efdd 68.8%, transparent 68.8%);\n",
              "}\n",
              "#T_b2940_row2_col0 {\n",
              "  width: 10em;\n",
              "  background: linear-gradient(90deg, #72efdd 63.3%, transparent 63.3%);\n",
              "}\n",
              "#T_b2940_row3_col0 {\n",
              "  width: 10em;\n",
              "  background: linear-gradient(90deg, #72efdd 43.8%, transparent 43.8%);\n",
              "}\n",
              "#T_b2940_row4_col0 {\n",
              "  width: 10em;\n",
              "  background: linear-gradient(90deg, #72efdd 42.1%, transparent 42.1%);\n",
              "}\n",
              "#T_b2940_row5_col0 {\n",
              "  width: 10em;\n",
              "  background: linear-gradient(90deg, #72efdd 37.1%, transparent 37.1%);\n",
              "}\n",
              "#T_b2940_row6_col0 {\n",
              "  width: 10em;\n",
              "  background: linear-gradient(90deg, #72efdd 21.0%, transparent 21.0%);\n",
              "}\n",
              "#T_b2940_row7_col0 {\n",
              "  width: 10em;\n",
              "  background: linear-gradient(90deg, #72efdd 20.8%, transparent 20.8%);\n",
              "}\n",
              "#T_b2940_row8_col0 {\n",
              "  width: 10em;\n",
              "  background: linear-gradient(90deg, #72efdd 19.4%, transparent 19.4%);\n",
              "}\n",
              "#T_b2940_row9_col0 {\n",
              "  width: 10em;\n",
              "  background: linear-gradient(90deg, #72efdd 18.1%, transparent 18.1%);\n",
              "}\n",
              "#T_b2940_row10_col0 {\n",
              "  width: 10em;\n",
              "  background: linear-gradient(90deg, #72efdd 12.5%, transparent 12.5%);\n",
              "}\n",
              "#T_b2940_row11_col0 {\n",
              "  width: 10em;\n",
              "  background: linear-gradient(90deg, #72efdd 10.0%, transparent 10.0%);\n",
              "}\n",
              "#T_b2940_row12_col0 {\n",
              "  width: 10em;\n",
              "  background: linear-gradient(90deg, #72efdd 8.7%, transparent 8.7%);\n",
              "}\n",
              "#T_b2940_row13_col0 {\n",
              "  width: 10em;\n",
              "  background: linear-gradient(90deg, #72efdd 6.9%, transparent 6.9%);\n",
              "}\n",
              "#T_b2940_row14_col0 {\n",
              "  width: 10em;\n",
              "  background: linear-gradient(90deg, #72efdd 5.0%, transparent 5.0%);\n",
              "}\n",
              "#T_b2940_row15_col0 {\n",
              "  width: 10em;\n",
              "  background: linear-gradient(90deg, #72efdd 4.6%, transparent 4.6%);\n",
              "}\n",
              "#T_b2940_row16_col0, #T_b2940_row17_col0 {\n",
              "  width: 10em;\n",
              "  background: linear-gradient(90deg, #72efdd 4.2%, transparent 4.2%);\n",
              "}\n",
              "#T_b2940_row18_col0, #T_b2940_row19_col0 {\n",
              "  width: 10em;\n",
              "  background: linear-gradient(90deg, #72efdd 2.9%, transparent 2.9%);\n",
              "}\n",
              "</style>\n",
              "<table id=\"T_b2940\">\n",
              "  <thead>\n",
              "    <tr>\n",
              "      <th class=\"blank level0\" >&nbsp;</th>\n",
              "      <th id=\"T_b2940_level0_col0\" class=\"col_heading level0 col0\" >Number of movies</th>\n",
              "    </tr>\n",
              "  </thead>\n",
              "  <tbody>\n",
              "    <tr>\n",
              "      <th id=\"T_b2940_level0_row0\" class=\"row_heading level0 row0\" >Family</th>\n",
              "      <td id=\"T_b2940_row0_col0\" class=\"data row0 col0\" >520</td>\n",
              "    </tr>\n",
              "    <tr>\n",
              "      <th id=\"T_b2940_level0_row1\" class=\"row_heading level0 row1\" >Comedy</th>\n",
              "      <td id=\"T_b2940_row1_col0\" class=\"data row1 col0\" >358</td>\n",
              "    </tr>\n",
              "    <tr>\n",
              "      <th id=\"T_b2940_level0_row2\" class=\"row_heading level0 row2\" >Adventure</th>\n",
              "      <td id=\"T_b2940_row2_col0\" class=\"data row2 col0\" >329</td>\n",
              "    </tr>\n",
              "    <tr>\n",
              "      <th id=\"T_b2940_level0_row3\" class=\"row_heading level0 row3\" >Fantasy</th>\n",
              "      <td id=\"T_b2940_row3_col0\" class=\"data row3 col0\" >228</td>\n",
              "    </tr>\n",
              "    <tr>\n",
              "      <th id=\"T_b2940_level0_row4\" class=\"row_heading level0 row4\" >Animation</th>\n",
              "      <td id=\"T_b2940_row4_col0\" class=\"data row4 col0\" >219</td>\n",
              "    </tr>\n",
              "    <tr>\n",
              "      <th id=\"T_b2940_level0_row5\" class=\"row_heading level0 row5\" >Drama</th>\n",
              "      <td id=\"T_b2940_row5_col0\" class=\"data row5 col0\" >193</td>\n",
              "    </tr>\n",
              "    <tr>\n",
              "      <th id=\"T_b2940_level0_row6\" class=\"row_heading level0 row6\" >Action</th>\n",
              "      <td id=\"T_b2940_row6_col0\" class=\"data row6 col0\" >109</td>\n",
              "    </tr>\n",
              "    <tr>\n",
              "      <th id=\"T_b2940_level0_row7\" class=\"row_heading level0 row7\" >Sci-Fi</th>\n",
              "      <td id=\"T_b2940_row7_col0\" class=\"data row7 col0\" >108</td>\n",
              "    </tr>\n",
              "    <tr>\n",
              "      <th id=\"T_b2940_level0_row8\" class=\"row_heading level0 row8\" >Romance</th>\n",
              "      <td id=\"T_b2940_row8_col0\" class=\"data row8 col0\" >101</td>\n",
              "    </tr>\n",
              "    <tr>\n",
              "      <th id=\"T_b2940_level0_row9\" class=\"row_heading level0 row9\" >Musical</th>\n",
              "      <td id=\"T_b2940_row9_col0\" class=\"data row9 col0\" >94</td>\n",
              "    </tr>\n",
              "    <tr>\n",
              "      <th id=\"T_b2940_level0_row10\" class=\"row_heading level0 row10\" >Short</th>\n",
              "      <td id=\"T_b2940_row10_col0\" class=\"data row10 col0\" >65</td>\n",
              "    </tr>\n",
              "    <tr>\n",
              "      <th id=\"T_b2940_level0_row11\" class=\"row_heading level0 row11\" >Documentary</th>\n",
              "      <td id=\"T_b2940_row11_col0\" class=\"data row11 col0\" >52</td>\n",
              "    </tr>\n",
              "    <tr>\n",
              "      <th id=\"T_b2940_level0_row12\" class=\"row_heading level0 row12\" >Sport</th>\n",
              "      <td id=\"T_b2940_row12_col0\" class=\"data row12 col0\" >45</td>\n",
              "    </tr>\n",
              "    <tr>\n",
              "      <th id=\"T_b2940_level0_row13\" class=\"row_heading level0 row13\" >Music</th>\n",
              "      <td id=\"T_b2940_row13_col0\" class=\"data row13 col0\" >36</td>\n",
              "    </tr>\n",
              "    <tr>\n",
              "      <th id=\"T_b2940_level0_row14\" class=\"row_heading level0 row14\" >Thriller</th>\n",
              "      <td id=\"T_b2940_row14_col0\" class=\"data row14 col0\" >26</td>\n",
              "    </tr>\n",
              "    <tr>\n",
              "      <th id=\"T_b2940_level0_row15\" class=\"row_heading level0 row15\" >Crime</th>\n",
              "      <td id=\"T_b2940_row15_col0\" class=\"data row15 col0\" >24</td>\n",
              "    </tr>\n",
              "    <tr>\n",
              "      <th id=\"T_b2940_level0_row16\" class=\"row_heading level0 row16\" >Mystery</th>\n",
              "      <td id=\"T_b2940_row16_col0\" class=\"data row16 col0\" >22</td>\n",
              "    </tr>\n",
              "    <tr>\n",
              "      <th id=\"T_b2940_level0_row17\" class=\"row_heading level0 row17\" >Biography</th>\n",
              "      <td id=\"T_b2940_row17_col0\" class=\"data row17 col0\" >22</td>\n",
              "    </tr>\n",
              "    <tr>\n",
              "      <th id=\"T_b2940_level0_row18\" class=\"row_heading level0 row18\" >History</th>\n",
              "      <td id=\"T_b2940_row18_col0\" class=\"data row18 col0\" >15</td>\n",
              "    </tr>\n",
              "    <tr>\n",
              "      <th id=\"T_b2940_level0_row19\" class=\"row_heading level0 row19\" >Western</th>\n",
              "      <td id=\"T_b2940_row19_col0\" class=\"data row19 col0\" >15</td>\n",
              "    </tr>\n",
              "  </tbody>\n",
              "</table>\n"
            ],
            "text/plain": [
              "<pandas.io.formats.style.Styler at 0x7fe68ab8faf0>"
            ]
          },
          "execution_count": 126,
          "metadata": {},
          "output_type": "execute_result"
        }
      ],
      "source": [
        "bar(df_g_merged,'Disney+','#72efdd')"
      ]
    },
    {
      "cell_type": "code",
      "execution_count": null,
      "id": "e7702204-c5b6-4719-b811-050f1f04baa5",
      "metadata": {
        "id": "e7702204-c5b6-4719-b811-050f1f04baa5",
        "outputId": "3d56b4b9-1c6e-4400-9d87-9b99b21b3819"
      },
      "outputs": [
        {
          "data": {
            "image/png": "[encoded data removed]",
            "text/plain": [
              "<Figure size 432x288 with 1 Axes>"
            ]
          },
          "metadata": {
            "needs_background": "light"
          },
          "output_type": "display_data"
        }
      ],
      "source": [
        "plt.plot(df.IMDb, df.Year, 'o', color = 'black')\n",
        "plt.xlabel('IMDb', fontsize = 20)\n",
        "plt.ylabel('Year', fontsize = 20)\n",
        "plt.title('Year vs. IMDb', fontsize = 20)\n",
        "plt.show()"
      ]
    },
    {
      "cell_type": "code",
      "execution_count": null,
      "id": "262158f4-b9cc-4651-a4d7-a654eb508bc0",
      "metadata": {
        "id": "262158f4-b9cc-4651-a4d7-a654eb508bc0",
        "outputId": "b36d6336-0208-443e-d9d4-fb24d2d8bce2"
      },
      "outputs": [
        {
          "data": {
            "image/png": "[encoded data removed]",
            "text/plain": [
              "<Figure size 432x288 with 1 Axes>"
            ]
          },
          "metadata": {
            "needs_background": "light"
          },
          "output_type": "display_data"
        }
      ],
      "source": [
        "plt.plot(df.IMDb, df.Runtime, 'o', color = 'black')\n",
        "plt.xlabel('IMDb', fontsize = 20)\n",
        "plt.ylabel('Runtime', fontsize = 20)\n",
        "plt.title('Runtime vs. IMDB', fontsize = 20)\n",
        "plt.show()"
      ]
    },
    {
      "cell_type": "code",
      "execution_count": null,
      "id": "7b5c6266-8f50-42fe-b31c-ac311b78e595",
      "metadata": {
        "id": "7b5c6266-8f50-42fe-b31c-ac311b78e595"
      },
      "outputs": [],
      "source": [
        "import scipy.stats as stats\n",
        "from scipy.stats import norm\n",
        "import math"
      ]
    },
    {
      "cell_type": "code",
      "execution_count": null,
      "id": "c291171e-4f23-4138-8dc8-e61b59b70560",
      "metadata": {
        "id": "c291171e-4f23-4138-8dc8-e61b59b70560",
        "outputId": "faf5dc73-876f-44b0-cde6-cadfaa8643fd"
      },
      "outputs": [
        {
          "data": {
            "image/png": "[encoded data removed]",
            "text/plain": [
              "<Figure size 360x360 with 1 Axes>"
            ]
          },
          "metadata": {
            "needs_background": "light"
          },
          "output_type": "display_data"
        }
      ],
      "source": [
        " sns.displot(df['IMDb'], kde = True, bins = 15)\n",
        "plt.xlabel('IMDb', fontsize = 20)\n",
        "plt.ylabel('Value_Count', fontsize = 20)\n",
        "plt.title('Normal Distrubtion of IMDB', fontsize = 20)\n",
        "plt.show()"
      ]
    },
    {
      "cell_type": "code",
      "execution_count": null,
      "id": "6f9e6bc5-5db9-466f-8b76-a216bb5219a5",
      "metadata": {
        "id": "6f9e6bc5-5db9-466f-8b76-a216bb5219a5"
      },
      "outputs": [],
      "source": [
        "# Create PMF variable.\n",
        "\n",
        "pmf = df.IMDb.value_counts().sort_index() / len(df.IMDb)"
      ]
    },
    {
      "cell_type": "markdown",
      "id": "81cb6947-7867-4954-a75a-2f3f343ef775",
      "metadata": {
        "id": "81cb6947-7867-4954-a75a-2f3f343ef775"
      },
      "source": [
        "- pmf"
      ]
    },
    {
      "cell_type": "code",
      "execution_count": null,
      "id": "e5398c1c-7e02-4f84-bfb7-0f48acbbce94",
      "metadata": {
        "id": "e5398c1c-7e02-4f84-bfb7-0f48acbbce94",
        "outputId": "19b8135b-1753-4059-802f-1fea6f888503"
      },
      "outputs": [
        {
          "data": {
            "image/png": "[encoded data removed]",
            "text/plain": [
              "<Figure size 432x288 with 1 Axes>"
            ]
          },
          "metadata": {
            "needs_background": "light"
          },
          "output_type": "display_data"
        }
      ],
      "source": [
        "# Plot probability mass function on line graph. \n",
        "\n",
        "pmf.plot(kind = 'line')\n",
        "plt.xlabel('IMDb', fontsize = 20)\n",
        "plt.ylabel('Probability', fontsize = 20)\n",
        "plt.title('Probability of Obtaining IMDB Rating Over 5', fontsize = 20)\n",
        "plt.show()"
      ]
    },
    {
      "cell_type": "code",
      "execution_count": null,
      "id": "8f32fb2f-341b-4c41-841f-e7c6102ef84f",
      "metadata": {
        "id": "8f32fb2f-341b-4c41-841f-e7c6102ef84f"
      },
      "outputs": [],
      "source": [
        "# Create second Pmf. \n",
        "pmf_2 = df.Runtime.value_counts().sort_index() / len(df.Runtime)"
      ]
    },
    {
      "cell_type": "code",
      "execution_count": null,
      "id": "ecd83828-3451-4e09-8b51-f87c34a13bca",
      "metadata": {
        "id": "ecd83828-3451-4e09-8b51-f87c34a13bca",
        "outputId": "11ebf71d-87dc-47d4-ee0b-a29fff079827"
      },
      "outputs": [
        {
          "data": {
            "image/png": "[encoded data removed]",
            "text/plain": [
              "<Figure size 432x288 with 1 Axes>"
            ]
          },
          "metadata": {
            "needs_background": "light"
          },
          "output_type": "display_data"
        }
      ],
      "source": [
        "# Plot PMF on line graph. \n",
        "pmf_2.plot(kind = 'line')\n",
        "plt.xlabel('Runtime', fontsize = 20)\n",
        "plt.ylabel('Probability', fontsize = 20)\n",
        "plt.title('Probability of Runtime Over 100 Minutes', fontsize = 20)\n",
        "plt.show()"
      ]
    },
    {
      "cell_type": "code",
      "execution_count": null,
      "id": "410092a7-0822-4280-9e26-eb63669525ad",
      "metadata": {
        "id": "410092a7-0822-4280-9e26-eb63669525ad"
      },
      "outputs": [],
      "source": [
        "counts, bin_edges = np.histogram(df['Year'], bins = 10, density = True)"
      ]
    },
    {
      "cell_type": "code",
      "execution_count": null,
      "id": "060d82ae-5c57-4d1a-9088-a756887e8919",
      "metadata": {
        "id": "060d82ae-5c57-4d1a-9088-a756887e8919"
      },
      "outputs": [],
      "source": [
        "pdf = counts/(sum(counts))"
      ]
    },
    {
      "cell_type": "code",
      "execution_count": null,
      "id": "79a3f33a-e4fe-4e84-a87b-5998b743cc1a",
      "metadata": {
        "id": "79a3f33a-e4fe-4e84-a87b-5998b743cc1a",
        "outputId": "357cdf86-2b85-46ef-ae13-f08602a5f798"
      },
      "outputs": [
        {
          "name": "stdout",
          "output_type": "stream",
          "text": [
            "[3.93700787e-04 3.54330709e-03 4.13385827e-03 8.66141732e-03\n",
            " 9.44881890e-03 3.56299213e-02 4.23228346e-02 8.62204724e-02\n",
            " 2.07874016e-01 6.01771654e-01]\n",
            "[1919.  1929.2 1939.4 1949.6 1959.8 1970.  1980.2 1990.4 2000.6 2010.8\n",
            " 2021. ]\n"
          ]
        }
      ],
      "source": [
        "print(pdf)\n",
        "print(bin_edges)"
      ]
    },
    {
      "cell_type": "code",
      "execution_count": null,
      "id": "d568558e-380a-4b18-8513-398d383e1509",
      "metadata": {
        "id": "d568558e-380a-4b18-8513-398d383e1509"
      },
      "outputs": [],
      "source": [
        "cdf = np.cumsum(pdf)"
      ]
    },
    {
      "cell_type": "code",
      "execution_count": null,
      "id": "25aa3d5d-5025-41f6-8b3f-854676df358b",
      "metadata": {
        "id": "25aa3d5d-5025-41f6-8b3f-854676df358b",
        "outputId": "e9336d06-0792-4146-c89f-b50c8a46129b"
      },
      "outputs": [
        {
          "data": {
            "image/png": "[encoded data removed]",
            "text/plain": [
              "<Figure size 432x288 with 1 Axes>"
            ]
          },
          "metadata": {
            "needs_background": "light"
          },
          "output_type": "display_data"
        }
      ],
      "source": [
        "# Plot PDF vs. CDF \n",
        "plt.plot(bin_edges[1:], pdf)\n",
        "plt.plot(bin_edges[1:], cdf)\n",
        "plt.xlabel('Year', fontsize = 20)\n",
        "plt.ylabel('Probability', fontsize = 20)\n",
        "plt.title('Observed vs. Expected: Year', fontsize = 20)\n",
        "plt.show()"
      ]
    },
    {
      "cell_type": "code",
      "execution_count": null,
      "id": "35ae7591-6c8e-4aec-936b-869c3d0f4997",
      "metadata": {
        "id": "35ae7591-6c8e-4aec-936b-869c3d0f4997",
        "outputId": "24e57aa4-0b7f-4bf6-903b-53369fe22d1f"
      },
      "outputs": [
        {
          "data": {
            "image/png": "[encoded data removed]",
            "text/plain": [
              "<Figure size 1440x720 with 1 Axes>"
            ]
          },
          "metadata": {
            "needs_background": "light"
          },
          "output_type": "display_data"
        }
      ],
      "source": [
        "# Draw the box plot\n",
        "ax = plt.subplots(figsize =(20,10))\n",
        "ax = sns.boxplot(x ='Year', y ='IMDb', hue ='Age',data = df)\n",
        "\n",
        "# Plot formatting\n",
        "plt.title('Box Plot of IMDb\\'s Ratings')\n",
        "plt.xlabel('Year')\n",
        "plt.ylabel('IMDb\\'s Rating');"
      ]
    },
    {
      "cell_type": "code",
      "execution_count": null,
      "id": "5bed66d0-ceab-45de-a4b2-30aa7cfeb42a",
      "metadata": {
        "id": "5bed66d0-ceab-45de-a4b2-30aa7cfeb42a",
        "outputId": "40569e0e-c788-4676-88b7-e0899c7acd28"
      },
      "outputs": [
        {
          "data": {
            "image/png": "[encoded data removed]",
            "text/plain": [
              "<Figure size 1440x720 with 1 Axes>"
            ]
          },
          "metadata": {
            "needs_background": "light"
          },
          "output_type": "display_data"
        }
      ],
      "source": [
        "# Draw the box plot\n",
        "ax = plt.subplots(figsize = (20,10))\n",
        "ax = sns.boxplot(x ='Year', y ='Rotten_Tomatoes', hue = 'Age',\n",
        "               data = df)\n",
        "\n",
        "# Plot formatting\n",
        "plt.title('Box Plot of Rotten_Tomatoes\\' Ratings')\n",
        "plt.xlabel('Year')\n",
        "plt.ylabel('Rotten_Tomatoes\\' Rating')"
      ]
    }
  ],
  "metadata": {
    "kernelspec": {
      "display_name": "Python 3 (ipykernel)",
      "language": "python",
      "name": "python3"
    },
    "language_info": {
      "codemirror_mode": {
        "name": "ipython",
        "version": 3
      },
      "file_extension": ".py",
      "mimetype": "text/x-python",
      "name": "python",
      "nbconvert_exporter": "python",
      "pygments_lexer": "ipython3",
      "version": "3.9.7"
    },
    "colab": {
      "name": "MoviesOnStreamingPlatform.ipynb",
      "provenance": [],
      "include_colab_link": true
    }
  },
  "nbformat": 4,
  "nbformat_minor": 5
}