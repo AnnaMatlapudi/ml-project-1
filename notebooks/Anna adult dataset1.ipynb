{
 "cells": [
  {
   "cell_type": "markdown",
   "id": "64ab726a",
   "metadata": {},
   "source": [
    "## Adult census dataset"
   ]
  },
  {
   "cell_type": "markdown",
   "id": "61970645",
   "metadata": {},
   "source": [
    "This dataset is openly accessible, either visit: UCI(University of California, Irvine) Machine Learning Repository, or Kaggle Adult Dataset."
   ]
  },
  {
   "cell_type": "markdown",
   "id": "c561dbcc",
   "metadata": {},
   "source": [
    "AIM: To study about Census bureau Income Data Set (adult.csv) from kaggle.\n",
    "  \n",
    "  https://www.kaggle.com/code/alokevil/simple-eda-for-beginners/data"
   ]
  },
  {
   "cell_type": "markdown",
   "id": "9ed689bb",
   "metadata": {},
   "source": [
    "or can be found at\n",
    " http://www.census.gov/ftp/pub/DES/www/welcome.html\n",
    " "
   ]
  },
  {
   "cell_type": "markdown",
   "id": "8f394488",
   "metadata": {},
   "source": [
    "Data description:\n",
    "    This data was extracted from the 1994 Census bureau database by Ronny Kohavi and Barry Becker \n",
    "    (Data Mining and Visualization, Silicon Graphics).\n",
    "    The prediction task is to determine whether a person makes over $50K a year."
   ]
  },
  {
   "cell_type": "markdown",
   "id": "d4cb23da",
   "metadata": {},
   "source": [
    "Fields/Attributes Included:\n",
    "– Age\n",
    "– Workclass\n",
    "– Income\n",
    "– Education\n",
    "– Education-num\n",
    "– Marital-status\n",
    "– Occupation\n",
    "– Relationship\n",
    "– Race\n",
    "– Sex\n",
    "– Capital-gain\n",
    "– Capital-loss\n",
    "– Hours-per-week\n",
    "– Native-country\n",
    "\n"
   ]
  },
  {
   "cell_type": "markdown",
   "id": "3a24cf84",
   "metadata": {},
   "source": [
    "- The goal of this machine learning project is to predict whether a person makes over $50K a year or not given their demographic variation,age,marital status and education. \n",
    "- This is a classification problem."
   ]
  },
  {
   "cell_type": "markdown",
   "id": "4dab267b",
   "metadata": {},
   "source": [
    "- Data preprocessing\n",
    "The dataset contained null values, both numerical and categorical values. The categorical values were both nominal and ordinal. The data had redundant columns as well."
   ]
  },
  {
   "cell_type": "markdown",
   "id": "64824ac9",
   "metadata": {},
   "source": [
    "## Import the libraries"
   ]
  },
  {
   "cell_type": "code",
   "execution_count": 1,
   "id": "63c3a378",
   "metadata": {},
   "outputs": [],
   "source": [
    "\n",
    "import pandas as pd  #used for data preprocessing\n",
    "import numpy as np   #for numerical calculations\n",
    "import matplotlib.pyplot as plt #for data visualization and graphical plotting\n",
    "import seaborn as sns\n"
   ]
  },
  {
   "cell_type": "code",
   "execution_count": 2,
   "id": "61fd8661",
   "metadata": {},
   "outputs": [],
   "source": [
    "pd.options.display.max_rows =10\n",
    "pd.options.display.max_columns = 20"
   ]
  },
  {
   "cell_type": "markdown",
   "id": "ae63ba80",
   "metadata": {},
   "source": [
    "## Importing the dataset"
   ]
  },
  {
   "cell_type": "code",
   "execution_count": 3,
   "id": "0c001a57",
   "metadata": {},
   "outputs": [],
   "source": [
    "#replacing some special character columns names with proper names\n",
    "df = pd.read_csv(\"adult.csv\")\n",
    "df.rename(columns={'educational-num':'educational_number','marital-status':'marital_status','capital-gain':'capital_gain','capital-loss':'capital_loss','hours-per-week':'weekly_hours','native-country':'native_country'},inplace =True)"
   ]
  },
  {
   "cell_type": "code",
   "execution_count": 4,
   "id": "8ebf673a",
   "metadata": {
    "scrolled": true
   },
   "outputs": [
    {
     "data": {
      "text/plain": [
       "Index(['age', 'workclass', 'fnlwgt', 'education', 'educational_number',\n",
       "       'marital_status', 'occupation', 'relationship', 'race', 'gender',\n",
       "       'capital_gain', 'capital_loss', 'weekly_hours', 'native_country',\n",
       "       'income'],\n",
       "      dtype='object')"
      ]
     },
     "execution_count": 4,
     "metadata": {},
     "output_type": "execute_result"
    }
   ],
   "source": [
    "df.columns"
   ]
  },
  {
   "cell_type": "code",
   "execution_count": 5,
   "id": "59f102fd",
   "metadata": {},
   "outputs": [
    {
     "data": {
      "text/plain": [
       "(48842, 15)"
      ]
     },
     "execution_count": 5,
     "metadata": {},
     "output_type": "execute_result"
    }
   ],
   "source": [
    "#shape of the dataset\n",
    "df.shape"
   ]
  },
  {
   "cell_type": "code",
   "execution_count": 6,
   "id": "c2859133",
   "metadata": {},
   "outputs": [
    {
     "data": {
      "text/plain": [
       "age                   0\n",
       "workclass             0\n",
       "fnlwgt                0\n",
       "education             0\n",
       "educational_number    0\n",
       "                     ..\n",
       "capital_gain          0\n",
       "capital_loss          0\n",
       "weekly_hours          0\n",
       "native_country        0\n",
       "income                0\n",
       "Length: 15, dtype: int64"
      ]
     },
     "execution_count": 6,
     "metadata": {},
     "output_type": "execute_result"
    }
   ],
   "source": [
    "#finding if there are any null values \n",
    "df.isnull().sum()"
   ]
  },
  {
   "cell_type": "markdown",
   "id": "940e87b1",
   "metadata": {},
   "source": [
    "## The number of missing data points per column"
   ]
  },
  {
   "cell_type": "code",
   "execution_count": 7,
   "id": "a872b92a",
   "metadata": {},
   "outputs": [
    {
     "data": {
      "text/plain": [
       "age                      0\n",
       "workclass             2799\n",
       "fnlwgt                   0\n",
       "education                0\n",
       "educational_number       0\n",
       "                      ... \n",
       "capital_gain             0\n",
       "capital_loss             0\n",
       "weekly_hours             0\n",
       "native_country         857\n",
       "income                   0\n",
       "Length: 15, dtype: int64"
      ]
     },
     "execution_count": 7,
     "metadata": {},
     "output_type": "execute_result"
    }
   ],
   "source": [
    "# Even though the dataset doesnot contain any nan values,it contains '?'\n",
    "#we can find that the dataset contains missing values in the form of '?' for \"workclass\",\"occupation\",\"native-country\" columns\n",
    "# so to find the missing value '?'\n",
    "df.isin(['?']).sum(axis = 0)"
   ]
  },
  {
   "cell_type": "markdown",
   "id": "9f0e6739",
   "metadata": {},
   "source": [
    "## Data Analysis and Cleaning"
   ]
  },
  {
   "cell_type": "markdown",
   "id": "8ddccb87",
   "metadata": {},
   "source": [
    "### How many people in dataset have income >50K or <=50K"
   ]
  },
  {
   "cell_type": "code",
   "execution_count": 8,
   "id": "a331c514",
   "metadata": {
    "scrolled": true
   },
   "outputs": [
    {
     "name": "stdout",
     "output_type": "stream",
     "text": [
      "<=50K    37155\n",
      ">50K     11687\n",
      "Name: income, dtype: int64\n"
     ]
    },
    {
     "data": {
      "text/plain": [
       "<AxesSubplot:ylabel='income'>"
      ]
     },
     "execution_count": 8,
     "metadata": {},
     "output_type": "execute_result"
    },
    {
     "data": {
      "image/png": "[encoded data removed]",
      "text/plain": [
       "<Figure size 432x288 with 1 Axes>"
      ]
     },
     "metadata": {},
     "output_type": "display_data"
    }
   ],
   "source": [
    "print(df['income'].value_counts())\n",
    "df['income'].value_counts().plot.pie(autopct='%1.1f%%')"
   ]
  },
  {
   "cell_type": "markdown",
   "id": "5717451f",
   "metadata": {},
   "source": [
    "More people earn less or equal $ 5OK ."
   ]
  },
  {
   "cell_type": "code",
   "execution_count": 9,
   "id": "e38cd3db",
   "metadata": {},
   "outputs": [],
   "source": [
    "# Replace special character '?' with nan value in the respective columns \n",
    "\n",
    "\n",
    "df['workclass']= df['workclass'].replace('?',np.nan)\n",
    "\n",
    "df['native_country']= df['native_country'].replace('?',np.nan)\n",
    "\n",
    "df['occupation']= df['occupation'].replace('?',np.nan)\n"
   ]
  },
  {
   "cell_type": "code",
   "execution_count": 10,
   "id": "aef2d051",
   "metadata": {
    "scrolled": true
   },
   "outputs": [
    {
     "data": {
      "text/html": [
       "<div>\n",
       "<style scoped>\n",
       "    .dataframe tbody tr th:only-of-type {\n",
       "        vertical-align: middle;\n",
       "    }\n",
       "\n",
       "    .dataframe tbody tr th {\n",
       "        vertical-align: top;\n",
       "    }\n",
       "\n",
       "    .dataframe thead th {\n",
       "        text-align: right;\n",
       "    }\n",
       "</style>\n",
       "<table border=\"1\" class=\"dataframe\">\n",
       "  <thead>\n",
       "    <tr style=\"text-align: right;\">\n",
       "      <th></th>\n",
       "      <th>age</th>\n",
       "      <th>workclass</th>\n",
       "      <th>fnlwgt</th>\n",
       "      <th>education</th>\n",
       "      <th>educational_number</th>\n",
       "      <th>marital_status</th>\n",
       "      <th>occupation</th>\n",
       "      <th>relationship</th>\n",
       "      <th>race</th>\n",
       "      <th>gender</th>\n",
       "      <th>capital_gain</th>\n",
       "      <th>capital_loss</th>\n",
       "      <th>weekly_hours</th>\n",
       "      <th>native_country</th>\n",
       "      <th>income</th>\n",
       "    </tr>\n",
       "  </thead>\n",
       "  <tbody>\n",
       "    <tr>\n",
       "      <th>0</th>\n",
       "      <td>25</td>\n",
       "      <td>Private</td>\n",
       "      <td>226802</td>\n",
       "      <td>11th</td>\n",
       "      <td>7</td>\n",
       "      <td>Never-married</td>\n",
       "      <td>Machine-op-inspct</td>\n",
       "      <td>Own-child</td>\n",
       "      <td>Black</td>\n",
       "      <td>Male</td>\n",
       "      <td>0</td>\n",
       "      <td>0</td>\n",
       "      <td>40</td>\n",
       "      <td>United-States</td>\n",
       "      <td>&lt;=50K</td>\n",
       "    </tr>\n",
       "    <tr>\n",
       "      <th>1</th>\n",
       "      <td>38</td>\n",
       "      <td>Private</td>\n",
       "      <td>89814</td>\n",
       "      <td>HS-grad</td>\n",
       "      <td>9</td>\n",
       "      <td>Married-civ-spouse</td>\n",
       "      <td>Farming-fishing</td>\n",
       "      <td>Husband</td>\n",
       "      <td>White</td>\n",
       "      <td>Male</td>\n",
       "      <td>0</td>\n",
       "      <td>0</td>\n",
       "      <td>50</td>\n",
       "      <td>United-States</td>\n",
       "      <td>&lt;=50K</td>\n",
       "    </tr>\n",
       "    <tr>\n",
       "      <th>2</th>\n",
       "      <td>28</td>\n",
       "      <td>Local-gov</td>\n",
       "      <td>336951</td>\n",
       "      <td>Assoc-acdm</td>\n",
       "      <td>12</td>\n",
       "      <td>Married-civ-spouse</td>\n",
       "      <td>Protective-serv</td>\n",
       "      <td>Husband</td>\n",
       "      <td>White</td>\n",
       "      <td>Male</td>\n",
       "      <td>0</td>\n",
       "      <td>0</td>\n",
       "      <td>40</td>\n",
       "      <td>United-States</td>\n",
       "      <td>&gt;50K</td>\n",
       "    </tr>\n",
       "    <tr>\n",
       "      <th>3</th>\n",
       "      <td>44</td>\n",
       "      <td>Private</td>\n",
       "      <td>160323</td>\n",
       "      <td>Some-college</td>\n",
       "      <td>10</td>\n",
       "      <td>Married-civ-spouse</td>\n",
       "      <td>Machine-op-inspct</td>\n",
       "      <td>Husband</td>\n",
       "      <td>Black</td>\n",
       "      <td>Male</td>\n",
       "      <td>7688</td>\n",
       "      <td>0</td>\n",
       "      <td>40</td>\n",
       "      <td>United-States</td>\n",
       "      <td>&gt;50K</td>\n",
       "    </tr>\n",
       "    <tr>\n",
       "      <th>4</th>\n",
       "      <td>18</td>\n",
       "      <td>NaN</td>\n",
       "      <td>103497</td>\n",
       "      <td>Some-college</td>\n",
       "      <td>10</td>\n",
       "      <td>Never-married</td>\n",
       "      <td>NaN</td>\n",
       "      <td>Own-child</td>\n",
       "      <td>White</td>\n",
       "      <td>Female</td>\n",
       "      <td>0</td>\n",
       "      <td>0</td>\n",
       "      <td>30</td>\n",
       "      <td>United-States</td>\n",
       "      <td>&lt;=50K</td>\n",
       "    </tr>\n",
       "  </tbody>\n",
       "</table>\n",
       "</div>"
      ],
      "text/plain": [
       "   age  workclass  fnlwgt     education  educational_number  \\\n",
       "0   25    Private  226802          11th                   7   \n",
       "1   38    Private   89814       HS-grad                   9   \n",
       "2   28  Local-gov  336951    Assoc-acdm                  12   \n",
       "3   44    Private  160323  Some-college                  10   \n",
       "4   18        NaN  103497  Some-college                  10   \n",
       "\n",
       "       marital_status         occupation relationship   race  gender  \\\n",
       "0       Never-married  Machine-op-inspct    Own-child  Black    Male   \n",
       "1  Married-civ-spouse    Farming-fishing      Husband  White    Male   \n",
       "2  Married-civ-spouse    Protective-serv      Husband  White    Male   \n",
       "3  Married-civ-spouse  Machine-op-inspct      Husband  Black    Male   \n",
       "4       Never-married                NaN    Own-child  White  Female   \n",
       "\n",
       "   capital_gain  capital_loss  weekly_hours native_country income  \n",
       "0             0             0            40  United-States  <=50K  \n",
       "1             0             0            50  United-States  <=50K  \n",
       "2             0             0            40  United-States   >50K  \n",
       "3          7688             0            40  United-States   >50K  \n",
       "4             0             0            30  United-States  <=50K  "
      ]
     },
     "execution_count": 10,
     "metadata": {},
     "output_type": "execute_result"
    }
   ],
   "source": [
    "df.head()"
   ]
  },
  {
   "cell_type": "code",
   "execution_count": 11,
   "id": "af3667b1",
   "metadata": {
    "scrolled": true
   },
   "outputs": [
    {
     "data": {
      "text/plain": [
       "(48842, 15)"
      ]
     },
     "execution_count": 11,
     "metadata": {},
     "output_type": "execute_result"
    }
   ],
   "source": [
    "df.shape"
   ]
  },
  {
   "cell_type": "code",
   "execution_count": 12,
   "id": "2c124a37",
   "metadata": {},
   "outputs": [
    {
     "data": {
      "text/plain": [
       "52"
      ]
     },
     "execution_count": 12,
     "metadata": {},
     "output_type": "execute_result"
    }
   ],
   "source": [
    "#number of duplicates in the dataset\n",
    "df.duplicated().sum()"
   ]
  },
  {
   "cell_type": "code",
   "execution_count": 13,
   "id": "d1aee34e",
   "metadata": {},
   "outputs": [],
   "source": [
    "# Remove the duplicates\n",
    "df = df.drop_duplicates()"
   ]
  },
  {
   "cell_type": "code",
   "execution_count": 14,
   "id": "740afa32",
   "metadata": {},
   "outputs": [
    {
     "data": {
      "text/plain": [
       "(48790, 15)"
      ]
     },
     "execution_count": 14,
     "metadata": {},
     "output_type": "execute_result"
    }
   ],
   "source": [
    "df.shape"
   ]
  },
  {
   "cell_type": "code",
   "execution_count": 15,
   "id": "2c636eb8",
   "metadata": {},
   "outputs": [],
   "source": [
    "# drop rows with missing values nan \n",
    "#df.dropna(how ='any',inplace = True)"
   ]
  },
  {
   "cell_type": "code",
   "execution_count": 16,
   "id": "96d7960a",
   "metadata": {
    "scrolled": true
   },
   "outputs": [
    {
     "data": {
      "text/plain": [
       "(48790, 15)"
      ]
     },
     "execution_count": 16,
     "metadata": {},
     "output_type": "execute_result"
    }
   ],
   "source": [
    "df.shape"
   ]
  },
  {
   "cell_type": "code",
   "execution_count": 17,
   "id": "691faf92",
   "metadata": {
    "scrolled": true
   },
   "outputs": [
    {
     "data": {
      "text/html": [
       "<div>\n",
       "<style scoped>\n",
       "    .dataframe tbody tr th:only-of-type {\n",
       "        vertical-align: middle;\n",
       "    }\n",
       "\n",
       "    .dataframe tbody tr th {\n",
       "        vertical-align: top;\n",
       "    }\n",
       "\n",
       "    .dataframe thead th {\n",
       "        text-align: right;\n",
       "    }\n",
       "</style>\n",
       "<table border=\"1\" class=\"dataframe\">\n",
       "  <thead>\n",
       "    <tr style=\"text-align: right;\">\n",
       "      <th></th>\n",
       "      <th>age</th>\n",
       "      <th>workclass</th>\n",
       "      <th>fnlwgt</th>\n",
       "      <th>education</th>\n",
       "      <th>educational_number</th>\n",
       "      <th>marital_status</th>\n",
       "      <th>occupation</th>\n",
       "      <th>relationship</th>\n",
       "      <th>race</th>\n",
       "      <th>gender</th>\n",
       "      <th>capital_gain</th>\n",
       "      <th>capital_loss</th>\n",
       "      <th>weekly_hours</th>\n",
       "      <th>native_country</th>\n",
       "      <th>income</th>\n",
       "    </tr>\n",
       "  </thead>\n",
       "  <tbody>\n",
       "    <tr>\n",
       "      <th>0</th>\n",
       "      <td>25</td>\n",
       "      <td>Private</td>\n",
       "      <td>226802</td>\n",
       "      <td>11th</td>\n",
       "      <td>7</td>\n",
       "      <td>Never-married</td>\n",
       "      <td>Machine-op-inspct</td>\n",
       "      <td>Own-child</td>\n",
       "      <td>Black</td>\n",
       "      <td>Male</td>\n",
       "      <td>0</td>\n",
       "      <td>0</td>\n",
       "      <td>40</td>\n",
       "      <td>United-States</td>\n",
       "      <td>&lt;=50K</td>\n",
       "    </tr>\n",
       "    <tr>\n",
       "      <th>1</th>\n",
       "      <td>38</td>\n",
       "      <td>Private</td>\n",
       "      <td>89814</td>\n",
       "      <td>HS-grad</td>\n",
       "      <td>9</td>\n",
       "      <td>Married-civ-spouse</td>\n",
       "      <td>Farming-fishing</td>\n",
       "      <td>Husband</td>\n",
       "      <td>White</td>\n",
       "      <td>Male</td>\n",
       "      <td>0</td>\n",
       "      <td>0</td>\n",
       "      <td>50</td>\n",
       "      <td>United-States</td>\n",
       "      <td>&lt;=50K</td>\n",
       "    </tr>\n",
       "    <tr>\n",
       "      <th>2</th>\n",
       "      <td>28</td>\n",
       "      <td>Local-gov</td>\n",
       "      <td>336951</td>\n",
       "      <td>Assoc-acdm</td>\n",
       "      <td>12</td>\n",
       "      <td>Married-civ-spouse</td>\n",
       "      <td>Protective-serv</td>\n",
       "      <td>Husband</td>\n",
       "      <td>White</td>\n",
       "      <td>Male</td>\n",
       "      <td>0</td>\n",
       "      <td>0</td>\n",
       "      <td>40</td>\n",
       "      <td>United-States</td>\n",
       "      <td>&gt;50K</td>\n",
       "    </tr>\n",
       "    <tr>\n",
       "      <th>3</th>\n",
       "      <td>44</td>\n",
       "      <td>Private</td>\n",
       "      <td>160323</td>\n",
       "      <td>Some-college</td>\n",
       "      <td>10</td>\n",
       "      <td>Married-civ-spouse</td>\n",
       "      <td>Machine-op-inspct</td>\n",
       "      <td>Husband</td>\n",
       "      <td>Black</td>\n",
       "      <td>Male</td>\n",
       "      <td>7688</td>\n",
       "      <td>0</td>\n",
       "      <td>40</td>\n",
       "      <td>United-States</td>\n",
       "      <td>&gt;50K</td>\n",
       "    </tr>\n",
       "    <tr>\n",
       "      <th>4</th>\n",
       "      <td>18</td>\n",
       "      <td>NaN</td>\n",
       "      <td>103497</td>\n",
       "      <td>Some-college</td>\n",
       "      <td>10</td>\n",
       "      <td>Never-married</td>\n",
       "      <td>NaN</td>\n",
       "      <td>Own-child</td>\n",
       "      <td>White</td>\n",
       "      <td>Female</td>\n",
       "      <td>0</td>\n",
       "      <td>0</td>\n",
       "      <td>30</td>\n",
       "      <td>United-States</td>\n",
       "      <td>&lt;=50K</td>\n",
       "    </tr>\n",
       "  </tbody>\n",
       "</table>\n",
       "</div>"
      ],
      "text/plain": [
       "   age  workclass  fnlwgt     education  educational_number  \\\n",
       "0   25    Private  226802          11th                   7   \n",
       "1   38    Private   89814       HS-grad                   9   \n",
       "2   28  Local-gov  336951    Assoc-acdm                  12   \n",
       "3   44    Private  160323  Some-college                  10   \n",
       "4   18        NaN  103497  Some-college                  10   \n",
       "\n",
       "       marital_status         occupation relationship   race  gender  \\\n",
       "0       Never-married  Machine-op-inspct    Own-child  Black    Male   \n",
       "1  Married-civ-spouse    Farming-fishing      Husband  White    Male   \n",
       "2  Married-civ-spouse    Protective-serv      Husband  White    Male   \n",
       "3  Married-civ-spouse  Machine-op-inspct      Husband  Black    Male   \n",
       "4       Never-married                NaN    Own-child  White  Female   \n",
       "\n",
       "   capital_gain  capital_loss  weekly_hours native_country income  \n",
       "0             0             0            40  United-States  <=50K  \n",
       "1             0             0            50  United-States  <=50K  \n",
       "2             0             0            40  United-States   >50K  \n",
       "3          7688             0            40  United-States   >50K  \n",
       "4             0             0            30  United-States  <=50K  "
      ]
     },
     "execution_count": 17,
     "metadata": {},
     "output_type": "execute_result"
    }
   ],
   "source": [
    "#dropping workclass without-pay\n",
    "\n",
    "df = df[df.workclass != 'Without-pay']\n",
    "df.head() "
   ]
  },
  {
   "cell_type": "code",
   "execution_count": 18,
   "id": "9d6a008c",
   "metadata": {},
   "outputs": [],
   "source": [
    "# Mapping the categorical data into numerical data using map function\n",
    "\n",
    "#income\n",
    "df['income'] = df['income'].map({'<=50K': 0, '>50K': 1}).astype(int)"
   ]
  },
  {
   "cell_type": "code",
   "execution_count": 19,
   "id": "e65a66e9",
   "metadata": {},
   "outputs": [
    {
     "data": {
      "text/html": [
       "<div>\n",
       "<style scoped>\n",
       "    .dataframe tbody tr th:only-of-type {\n",
       "        vertical-align: middle;\n",
       "    }\n",
       "\n",
       "    .dataframe tbody tr th {\n",
       "        vertical-align: top;\n",
       "    }\n",
       "\n",
       "    .dataframe thead th {\n",
       "        text-align: right;\n",
       "    }\n",
       "</style>\n",
       "<table border=\"1\" class=\"dataframe\">\n",
       "  <thead>\n",
       "    <tr style=\"text-align: right;\">\n",
       "      <th></th>\n",
       "      <th>age</th>\n",
       "      <th>fnlwgt</th>\n",
       "      <th>educational_number</th>\n",
       "      <th>capital_gain</th>\n",
       "      <th>capital_loss</th>\n",
       "      <th>weekly_hours</th>\n",
       "      <th>income</th>\n",
       "    </tr>\n",
       "  </thead>\n",
       "  <tbody>\n",
       "    <tr>\n",
       "      <th>age</th>\n",
       "      <td>1.000000</td>\n",
       "      <td>-0.076379</td>\n",
       "      <td>0.030861</td>\n",
       "      <td>0.077267</td>\n",
       "      <td>0.056860</td>\n",
       "      <td>0.071347</td>\n",
       "      <td>0.230317</td>\n",
       "    </tr>\n",
       "    <tr>\n",
       "      <th>fnlwgt</th>\n",
       "      <td>-0.076379</td>\n",
       "      <td>1.000000</td>\n",
       "      <td>-0.038807</td>\n",
       "      <td>-0.003740</td>\n",
       "      <td>-0.004338</td>\n",
       "      <td>-0.013630</td>\n",
       "      <td>-0.006339</td>\n",
       "    </tr>\n",
       "    <tr>\n",
       "      <th>educational_number</th>\n",
       "      <td>0.030861</td>\n",
       "      <td>-0.038807</td>\n",
       "      <td>1.000000</td>\n",
       "      <td>0.125219</td>\n",
       "      <td>0.081014</td>\n",
       "      <td>0.143853</td>\n",
       "      <td>0.332829</td>\n",
       "    </tr>\n",
       "    <tr>\n",
       "      <th>capital_gain</th>\n",
       "      <td>0.077267</td>\n",
       "      <td>-0.003740</td>\n",
       "      <td>0.125219</td>\n",
       "      <td>1.000000</td>\n",
       "      <td>-0.031478</td>\n",
       "      <td>0.082167</td>\n",
       "      <td>0.223066</td>\n",
       "    </tr>\n",
       "    <tr>\n",
       "      <th>capital_loss</th>\n",
       "      <td>0.056860</td>\n",
       "      <td>-0.004338</td>\n",
       "      <td>0.081014</td>\n",
       "      <td>-0.031478</td>\n",
       "      <td>1.000000</td>\n",
       "      <td>0.054420</td>\n",
       "      <td>0.147389</td>\n",
       "    </tr>\n",
       "    <tr>\n",
       "      <th>weekly_hours</th>\n",
       "      <td>0.071347</td>\n",
       "      <td>-0.013630</td>\n",
       "      <td>0.143853</td>\n",
       "      <td>0.082167</td>\n",
       "      <td>0.054420</td>\n",
       "      <td>1.000000</td>\n",
       "      <td>0.227591</td>\n",
       "    </tr>\n",
       "    <tr>\n",
       "      <th>income</th>\n",
       "      <td>0.230317</td>\n",
       "      <td>-0.006339</td>\n",
       "      <td>0.332829</td>\n",
       "      <td>0.223066</td>\n",
       "      <td>0.147389</td>\n",
       "      <td>0.227591</td>\n",
       "      <td>1.000000</td>\n",
       "    </tr>\n",
       "  </tbody>\n",
       "</table>\n",
       "</div>"
      ],
      "text/plain": [
       "                         age    fnlwgt  educational_number  capital_gain  \\\n",
       "age                 1.000000 -0.076379            0.030861      0.077267   \n",
       "fnlwgt             -0.076379  1.000000           -0.038807     -0.003740   \n",
       "educational_number  0.030861 -0.038807            1.000000      0.125219   \n",
       "capital_gain        0.077267 -0.003740            0.125219      1.000000   \n",
       "capital_loss        0.056860 -0.004338            0.081014     -0.031478   \n",
       "weekly_hours        0.071347 -0.013630            0.143853      0.082167   \n",
       "income              0.230317 -0.006339            0.332829      0.223066   \n",
       "\n",
       "                    capital_loss  weekly_hours    income  \n",
       "age                     0.056860      0.071347  0.230317  \n",
       "fnlwgt                 -0.004338     -0.013630 -0.006339  \n",
       "educational_number      0.081014      0.143853  0.332829  \n",
       "capital_gain           -0.031478      0.082167  0.223066  \n",
       "capital_loss            1.000000      0.054420  0.147389  \n",
       "weekly_hours            0.054420      1.000000  0.227591  \n",
       "income                  0.147389      0.227591  1.000000  "
      ]
     },
     "execution_count": 19,
     "metadata": {},
     "output_type": "execute_result"
    }
   ],
   "source": [
    "df.corr()"
   ]
  },
  {
   "cell_type": "markdown",
   "id": "988aa219",
   "metadata": {},
   "source": [
    "- All the columns are weakly correlated"
   ]
  },
  {
   "cell_type": "code",
   "execution_count": 20,
   "id": "ce1806eb",
   "metadata": {
    "scrolled": true
   },
   "outputs": [
    {
     "data": {
      "text/plain": [
       "<AxesSubplot:>"
      ]
     },
     "execution_count": 20,
     "metadata": {},
     "output_type": "execute_result"
    },
    {
     "data": {
      "image/png": "[encoded data removed]",
      "text/plain": [
       "<Figure size 432x288 with 2 Axes>"
      ]
     },
     "metadata": {
      "needs_background": "light"
     },
     "output_type": "display_data"
    }
   ],
   "source": [
    "sns.heatmap(df.corr(),annot =True)"
   ]
  },
  {
   "cell_type": "markdown",
   "id": "95bf3435",
   "metadata": {},
   "source": [
    "## Data Preprocessing"
   ]
  },
  {
   "cell_type": "code",
   "execution_count": 21,
   "id": "3a1b7aeb",
   "metadata": {},
   "outputs": [],
   "source": [
    "X = df.iloc[:,:-1].values\n",
    "y = df.iloc[:,-1].values"
   ]
  },
  {
   "cell_type": "markdown",
   "id": "f602928b",
   "metadata": {},
   "source": [
    "## Label Encoding"
   ]
  },
  {
   "cell_type": "code",
   "execution_count": 22,
   "id": "778f1ddb",
   "metadata": {},
   "outputs": [],
   "source": [
    "from sklearn.preprocessing import LabelEncoder\n",
    "le1=LabelEncoder()\n",
    "le3=LabelEncoder()\n",
    "le5=LabelEncoder()\n",
    "le6=LabelEncoder()\n",
    "le7=LabelEncoder()\n",
    "le8=LabelEncoder()\n",
    "le9=LabelEncoder()\n",
    "le13=LabelEncoder()\n",
    "le=LabelEncoder()\n",
    "X[:,1]=le1.fit_transform(X[:,1])\n",
    "X[:,3]=le3.fit_transform(X[:,3])\n",
    "X[:,5]=le5.fit_transform(X[:,5])\n",
    "X[:,6]=le6.fit_transform(X[:,6])\n",
    "X[:,7]=le7.fit_transform(X[:,7])\n",
    "X[:,8]=le8.fit_transform(X[:,8])\n",
    "X[:,9]=le9.fit_transform(X[:,9])\n",
    "X[:,13]=le13.fit_transform(X[:,13])\n",
    "y=le.fit_transform(y)"
   ]
  },
  {
   "cell_type": "code",
   "execution_count": 23,
   "id": "ad447ca1",
   "metadata": {
    "scrolled": true
   },
   "outputs": [
    {
     "name": "stdout",
     "output_type": "stream",
     "text": [
      "[[25 3 226802 ... 0 40 38]\n",
      " [38 3 89814 ... 0 50 38]\n",
      " [28 1 336951 ... 0 40 38]\n",
      " ...\n",
      " [58 3 151910 ... 0 40 38]\n",
      " [22 3 201490 ... 0 20 38]\n",
      " [52 4 287927 ... 0 40 38]]\n"
     ]
    }
   ],
   "source": [
    "print(X)"
   ]
  },
  {
   "cell_type": "markdown",
   "id": "d51f72eb",
   "metadata": {},
   "source": [
    "## Splitting Dataset into Training set and Test set"
   ]
  },
  {
   "cell_type": "code",
   "execution_count": 24,
   "id": "9728fa8a",
   "metadata": {},
   "outputs": [],
   "source": [
    "from sklearn.model_selection import train_test_split\n",
    "X_train,X_test,y_train,y_test=train_test_split(X,y,test_size=0.2,random_state=0)"
   ]
  },
  {
   "cell_type": "markdown",
   "id": "946b2ab0",
   "metadata": {},
   "source": [
    "## Feature Scaling"
   ]
  },
  {
   "cell_type": "code",
   "execution_count": 25,
   "id": "867b8626",
   "metadata": {},
   "outputs": [],
   "source": [
    "from sklearn.preprocessing import StandardScaler\n",
    "sc=StandardScaler()\n",
    "X_train=sc.fit_transform(X_train)\n",
    "X_test=sc.transform(X_test)\n"
   ]
  },
  {
   "cell_type": "code",
   "execution_count": 26,
   "id": "da66cd42",
   "metadata": {},
   "outputs": [
    {
     "name": "stdout",
     "output_type": "stream",
     "text": [
      "[[ 1.04560535  1.86359067  0.06020859 ... -0.21704196 -0.03348768\n",
      "   0.24945671]\n",
      " [-1.28998058 -0.22983003  1.10364666 ... -0.21704196 -0.43718375\n",
      "   0.24945671]\n",
      " [-0.19517468 -0.22983003  0.85148941 ... -0.21704196 -0.19496611\n",
      "   0.24945671]\n",
      " ...\n",
      " [-1.14400646 -0.22983003  0.25480214 ... -0.21704196 -1.64827196\n",
      "   0.24945671]\n",
      " [-0.63309704 -0.22983003  2.35085401 ... -0.21704196 -1.64827196\n",
      "  -1.40793803]\n",
      " [-0.48712292  1.16578377  0.99849986 ... -0.21704196 -0.03348768\n",
      "   0.24945671]]\n"
     ]
    }
   ],
   "source": [
    "print(X_train)"
   ]
  },
  {
   "cell_type": "markdown",
   "id": "48275a80",
   "metadata": {},
   "source": [
    "## Model Selection:"
   ]
  },
  {
   "cell_type": "markdown",
   "id": "c481ed7b",
   "metadata": {},
   "source": [
    "\n",
    "- Here our goal is to predict the income which can either be 0 or 1 ( less than 50K or greater than 50K) and we want to identify a relation between our output (income) and remaining independent features ( education, workclass, gender, etc. ). \n",
    "- This scenario is a classic example of Classification (classify whether income is <50K or more ).\n",
    "- This is a Supervised Machine Learning Classification problem\n",
    "- Based on these criteria we can narrow down our choice of models to a few:\n",
    "\n",
    "Logistic Regression,\n",
    "KNN or k-Nearest Neighbors,\n",
    "Support Vector Machines,\n",
    "Naive Bayes classifier,\n",
    "Decision Tree,\n",
    "Random Forest\n"
   ]
  },
  {
   "cell_type": "markdown",
   "id": "89229c47",
   "metadata": {},
   "source": [
    "## Logistic Regression"
   ]
  },
  {
   "cell_type": "code",
   "execution_count": 27,
   "id": "80de1999",
   "metadata": {},
   "outputs": [
    {
     "data": {
      "text/plain": [
       "LogisticRegression(random_state=0)"
      ]
     },
     "execution_count": 27,
     "metadata": {},
     "output_type": "execute_result"
    }
   ],
   "source": [
    "from sklearn.linear_model import LogisticRegression\n",
    "classifier = LogisticRegression(random_state = 0)# This line of code will build Logistic regression Model but doesnt train it\n",
    "classifier.fit(X_train, y_train)# next training our classifier on Training set"
   ]
  },
  {
   "cell_type": "code",
   "execution_count": 28,
   "id": "7246618b",
   "metadata": {},
   "outputs": [
    {
     "name": "stdout",
     "output_type": "stream",
     "text": [
      "[[0 1]\n",
      " [1 1]\n",
      " [0 1]\n",
      " ...\n",
      " [0 0]\n",
      " [0 0]\n",
      " [0 0]]\n"
     ]
    }
   ],
   "source": [
    "y_pred = classifier.predict(X_test)\n",
    "print(np.concatenate((y_pred.reshape(len(y_pred),1), y_test.reshape(len(y_test),1)),axis = 1))"
   ]
  },
  {
   "cell_type": "markdown",
   "id": "35bdc302",
   "metadata": {},
   "source": [
    "## Making Confusion Matrix"
   ]
  },
  {
   "cell_type": "code",
   "execution_count": 29,
   "id": "400efd71",
   "metadata": {},
   "outputs": [
    {
     "name": "stdout",
     "output_type": "stream",
     "text": [
      "[[6887  428]\n",
      " [1358 1081]]\n",
      "Accuracy: 0.8168956325610006\n"
     ]
    }
   ],
   "source": [
    "from sklearn.metrics import confusion_matrix, accuracy_score\n",
    "cm = confusion_matrix(y_test, y_pred)\n",
    "print(cm)\n",
    "accuracy_score(y_test, y_pred)\n",
    "\n",
    "print(\"Accuracy:\",accuracy_score(y_test, y_pred))"
   ]
  },
  {
   "cell_type": "code",
   "execution_count": 30,
   "id": "1e409a6c",
   "metadata": {},
   "outputs": [
    {
     "name": "stdout",
     "output_type": "stream",
     "text": [
      "average_precision_score: 0.45672977176227064\n",
      "recall_score: 0.44321443214432144\n",
      "f1_score: 0.5476190476190477\n"
     ]
    }
   ],
   "source": [
    "from sklearn.metrics import average_precision_score, recall_score, f1_score\n",
    "\n",
    "av = average_precision_score(y_test, y_pred)\n",
    "re = recall_score(y_test, y_pred)\n",
    "f1 = f1_score(y_test, y_pred)\n",
    "\n",
    "print('average_precision_score:',av)\n",
    "print('recall_score:',re)\n",
    "print('f1_score:',f1)"
   ]
  },
  {
   "cell_type": "markdown",
   "id": "958a8afa",
   "metadata": {},
   "source": [
    "- we achieved an accuracy value of 81.6% which is good for any machine learning prediction model particularly for a classification regression problem."
   ]
  },
  {
   "cell_type": "markdown",
   "id": "1dbf3176",
   "metadata": {},
   "source": [
    "## Applying K-fold Cross Validation"
   ]
  },
  {
   "cell_type": "code",
   "execution_count": 33,
   "id": "598c1dd4",
   "metadata": {},
   "outputs": [
    {
     "name": "stdout",
     "output_type": "stream",
     "text": [
      "Accuracy: 82.72 Standard Deviation: 0.52\n"
     ]
    }
   ],
   "source": [
    "from sklearn.model_selection import cross_val_score\n",
    "accuracies=cross_val_score(estimator=classifier,X=X_train,y=y_train,cv=10)\n",
    "print('Accuracy: {:.2f} Standard Deviation: {:.2f}'.format(accuracies.mean()*100,accuracies.std()*100))"
   ]
  },
  {
   "cell_type": "markdown",
   "id": "74ff0cde",
   "metadata": {},
   "source": [
    "## Predicting Test set Result"
   ]
  },
  {
   "cell_type": "code",
   "execution_count": 35,
   "id": "edf3f71b",
   "metadata": {},
   "outputs": [
    {
     "name": "stdout",
     "output_type": "stream",
     "text": [
      "[[0 1]\n",
      " [1 1]\n",
      " [0 1]\n",
      " ...\n",
      " [0 0]\n",
      " [0 0]\n",
      " [0 0]]\n"
     ]
    }
   ],
   "source": [
    "print(np.concatenate((y_pred.reshape(len(y_pred),1),y_test.reshape(len(y_test),1)),1))"
   ]
  },
  {
   "cell_type": "code",
   "execution_count": null,
   "id": "97b548f0",
   "metadata": {},
   "outputs": [],
   "source": []
  },
  {
   "cell_type": "code",
   "execution_count": null,
   "id": "7b3f4a7d",
   "metadata": {},
   "outputs": [],
   "source": []
  },
  {
   "cell_type": "code",
   "execution_count": null,
   "id": "775e27dc",
   "metadata": {},
   "outputs": [],
   "source": []
  },
  {
   "cell_type": "code",
   "execution_count": null,
   "id": "3234f049",
   "metadata": {},
   "outputs": [],
   "source": []
  },
  {
   "cell_type": "code",
   "execution_count": null,
   "id": "6e0ca123",
   "metadata": {},
   "outputs": [],
   "source": []
  },
  {
   "cell_type": "code",
   "execution_count": null,
   "id": "d5cf9e88",
   "metadata": {},
   "outputs": [],
   "source": []
  }
 ],
 "metadata": {
  "kernelspec": {
   "display_name": "Python 3 (ipykernel)",
   "language": "python",
   "name": "python3"
  },
  "language_info": {
   "codemirror_mode": {
    "name": "ipython",
    "version": 3
   },
   "file_extension": ".py",
   "mimetype": "text/x-python",
   "name": "python",
   "nbconvert_exporter": "python",
   "pygments_lexer": "ipython3",
   "version": "3.9.7"
  }
 },
 "nbformat": 4,
 "nbformat_minor": 5
}
