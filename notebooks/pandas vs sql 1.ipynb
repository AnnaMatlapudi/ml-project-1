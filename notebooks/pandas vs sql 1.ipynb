{
 "cells": [
  {
   "cell_type": "markdown",
   "id": "52e97596",
   "metadata": {},
   "source": [
    "https://pandas.pydata.org/docs/getting_started/comparison/comparison_with_sql.html\n",
    "\n",
    "url = (\n",
    "    \"https://raw.github.com/pandas-dev\"\n",
    "    \"/pandas/main/pandas/tests/io/data/csv/tips.csv\"\n",
    ")\n",
    "\n"
   ]
  },
  {
   "cell_type": "code",
   "execution_count": null,
   "id": "a0d6becd",
   "metadata": {},
   "outputs": [],
   "source": [
    "tips = pd.read_csv(url)"
   ]
  },
  {
   "cell_type": "markdown",
   "id": "f98f147e",
   "metadata": {},
   "source": [
    "SELECT"
   ]
  },
  {
   "cell_type": "code",
   "execution_count": null,
   "id": "9cac103d",
   "metadata": {},
   "outputs": [],
   "source": [
    "SELECT total_bill, tip, smoker, time\n",
    "FROM tips;\n"
   ]
  },
  {
   "cell_type": "code",
   "execution_count": null,
   "id": "f57607a4",
   "metadata": {},
   "outputs": [],
   "source": [
    "tips[[\"total_bill\", \"tip\", \"smoker\", \"time\"]]"
   ]
  },
  {
   "cell_type": "code",
   "execution_count": null,
   "id": "68fcb373",
   "metadata": {},
   "outputs": [],
   "source": [
    "SELECT *, tip/total_bill as tip_rate\n",
    "FROM tips;"
   ]
  },
  {
   "cell_type": "code",
   "execution_count": null,
   "id": "c50f087e",
   "metadata": {},
   "outputs": [],
   "source": [
    "tips.assign(tip_rate=tips[\"tip\"] / tips[\"total_bill\"])"
   ]
  },
  {
   "cell_type": "code",
   "execution_count": null,
   "id": "cc6c9a36",
   "metadata": {},
   "outputs": [],
   "source": []
  },
  {
   "cell_type": "code",
   "execution_count": null,
   "id": "95914f38",
   "metadata": {},
   "outputs": [],
   "source": []
  },
  {
   "cell_type": "markdown",
   "id": "f3025169",
   "metadata": {},
   "source": [
    "WHERE"
   ]
  },
  {
   "cell_type": "code",
   "execution_count": null,
   "id": "36f2c038",
   "metadata": {},
   "outputs": [],
   "source": [
    "SELECT *\n",
    "FROM tips\n",
    "WHERE time = 'Dinner';"
   ]
  },
  {
   "cell_type": "code",
   "execution_count": null,
   "id": "d522acbf",
   "metadata": {},
   "outputs": [],
   "source": [
    "tips[tips[\"total_bill\"] > 10]"
   ]
  },
  {
   "cell_type": "code",
   "execution_count": null,
   "id": "0218c396",
   "metadata": {},
   "outputs": [],
   "source": [
    "is_dinner = tips[\"time\"] == \"Dinner\""
   ]
  },
  {
   "cell_type": "code",
   "execution_count": null,
   "id": "c87075d9",
   "metadata": {},
   "outputs": [],
   "source": [
    "tips[is_dinner]"
   ]
  },
  {
   "cell_type": "code",
   "execution_count": null,
   "id": "06ba43f1",
   "metadata": {},
   "outputs": [],
   "source": []
  },
  {
   "cell_type": "code",
   "execution_count": null,
   "id": "e05928a5",
   "metadata": {},
   "outputs": [],
   "source": []
  },
  {
   "cell_type": "markdown",
   "id": "9fa17c57",
   "metadata": {},
   "source": [
    "GROUP BY"
   ]
  },
  {
   "cell_type": "code",
   "execution_count": null,
   "id": "ca15fef2",
   "metadata": {},
   "outputs": [],
   "source": []
  },
  {
   "cell_type": "markdown",
   "id": "606ad334",
   "metadata": {},
   "source": [
    "JOIN"
   ]
  },
  {
   "cell_type": "code",
   "execution_count": null,
   "id": "402bca27",
   "metadata": {},
   "outputs": [],
   "source": []
  },
  {
   "cell_type": "markdown",
   "id": "1d408fad",
   "metadata": {},
   "source": [
    "INNER JOIN"
   ]
  },
  {
   "cell_type": "code",
   "execution_count": null,
   "id": "1205de71",
   "metadata": {},
   "outputs": [],
   "source": []
  },
  {
   "cell_type": "markdown",
   "id": "47ac3d6e",
   "metadata": {},
   "source": [
    "LEFT OUTER JOIN"
   ]
  },
  {
   "cell_type": "code",
   "execution_count": null,
   "id": "2cdae247",
   "metadata": {},
   "outputs": [],
   "source": []
  },
  {
   "cell_type": "markdown",
   "id": "0b62d67b",
   "metadata": {},
   "source": [
    "RIGHT JOIN"
   ]
  },
  {
   "cell_type": "code",
   "execution_count": null,
   "id": "94abd84b",
   "metadata": {},
   "outputs": [],
   "source": []
  },
  {
   "cell_type": "markdown",
   "id": "a71b266f",
   "metadata": {},
   "source": [
    "FULL JOIN "
   ]
  },
  {
   "cell_type": "code",
   "execution_count": null,
   "id": "8b6e9d69",
   "metadata": {},
   "outputs": [],
   "source": []
  },
  {
   "cell_type": "markdown",
   "id": "0195a8b5",
   "metadata": {},
   "source": [
    "UNION"
   ]
  },
  {
   "cell_type": "code",
   "execution_count": null,
   "id": "e1b163d7",
   "metadata": {},
   "outputs": [],
   "source": []
  },
  {
   "cell_type": "markdown",
   "id": "5f879288",
   "metadata": {},
   "source": [
    "LIMIT"
   ]
  },
  {
   "cell_type": "code",
   "execution_count": null,
   "id": "22929730",
   "metadata": {},
   "outputs": [],
   "source": []
  },
  {
   "cell_type": "markdown",
   "id": "ee4ef6d4",
   "metadata": {},
   "source": [
    "pandas equivalents for some SQL analytic and aggregate functions"
   ]
  },
  {
   "cell_type": "code",
   "execution_count": null,
   "id": "f2c1b61d",
   "metadata": {},
   "outputs": [],
   "source": []
  },
  {
   "cell_type": "markdown",
   "id": "0b7b8b70",
   "metadata": {},
   "source": [
    "Top n rows with offset"
   ]
  },
  {
   "cell_type": "code",
   "execution_count": null,
   "id": "f15c507c",
   "metadata": {},
   "outputs": [],
   "source": []
  },
  {
   "cell_type": "markdown",
   "id": "e18d142a",
   "metadata": {},
   "source": [
    "Top n rows per group"
   ]
  },
  {
   "cell_type": "code",
   "execution_count": null,
   "id": "7c6b3b83",
   "metadata": {},
   "outputs": [],
   "source": []
  },
  {
   "cell_type": "markdown",
   "id": "d1a05149",
   "metadata": {},
   "source": [
    "UPDATE"
   ]
  },
  {
   "cell_type": "code",
   "execution_count": null,
   "id": "0eeb2be0",
   "metadata": {},
   "outputs": [],
   "source": []
  },
  {
   "cell_type": "markdown",
   "id": "11048c98",
   "metadata": {},
   "source": [
    "DELETE"
   ]
  },
  {
   "cell_type": "code",
   "execution_count": null,
   "id": "66504cac",
   "metadata": {},
   "outputs": [],
   "source": []
  },
  {
   "cell_type": "code",
   "execution_count": null,
   "id": "ba7b7c76",
   "metadata": {},
   "outputs": [],
   "source": []
  },
  {
   "cell_type": "code",
   "execution_count": null,
   "id": "18f8077e",
   "metadata": {},
   "outputs": [],
   "source": []
  },
  {
   "cell_type": "code",
   "execution_count": null,
   "id": "a4401fbc",
   "metadata": {},
   "outputs": [],
   "source": []
  },
  {
   "cell_type": "code",
   "execution_count": null,
   "id": "08353a67",
   "metadata": {},
   "outputs": [],
   "source": []
  },
  {
   "cell_type": "code",
   "execution_count": null,
   "id": "3448660e",
   "metadata": {},
   "outputs": [],
   "source": []
  }
 ],
 "metadata": {
  "kernelspec": {
   "display_name": "Python 3 (ipykernel)",
   "language": "python",
   "name": "python3"
  },
  "language_info": {
   "codemirror_mode": {
    "name": "ipython",
    "version": 3
   },
   "file_extension": ".py",
   "mimetype": "text/x-python",
   "name": "python",
   "nbconvert_exporter": "python",
   "pygments_lexer": "ipython3",
   "version": "3.9.7"
  }
 },
 "nbformat": 4,
 "nbformat_minor": 5
}
